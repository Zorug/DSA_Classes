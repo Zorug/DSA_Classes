{
 "cells": [
  {
   "cell_type": "code",
   "execution_count": 1,
   "metadata": {},
   "outputs": [
    {
     "data": {
      "text/html": [
       "'C:/Users/cassi/OneDrive/Programação/DSA/MachineLearning2.0/Cap10-R'"
      ],
      "text/latex": [
       "'C:/Users/cassi/OneDrive/Programação/DSA/MachineLearning2.0/Cap10-R'"
      ],
      "text/markdown": [
       "'C:/Users/cassi/OneDrive/Programação/DSA/MachineLearning2.0/Cap10-R'"
      ],
      "text/plain": [
       "[1] \"C:/Users/cassi/OneDrive/Programação/DSA/MachineLearning2.0/Cap10-R\""
      ]
     },
     "metadata": {},
     "output_type": "display_data"
    }
   ],
   "source": [
    "# Lab - Segmentação de Consumidores Para Campanhas Customizadas de Marketing\n",
    "\n",
    "# Objetivo: Encontrar segmentos de consumidores para campanhas personalizadas de Marketing.\n",
    "\n",
    "# Clustering com K-Means\n",
    "# https://cran.r-project.org/web/views/Cluster.html\n",
    "\n",
    "# Obs: Caso tenha problemas com a acentuação, consulte este link:\n",
    "# https://support.rstudio.com/hc/en-us/articles/200532197-Character-Encoding\n",
    "\n",
    "# Definindo o diretório de trabalho\n",
    "getwd()\n",
    "#setwd(\"~/Dropbox/DSA/MachineLearning2.0/Cap10/R\")"
   ]
  },
  {
   "cell_type": "code",
   "execution_count": 2,
   "metadata": {},
   "outputs": [
    {
     "name": "stderr",
     "output_type": "stream",
     "text": [
      "also installing the dependencies 'Rcpp', 'matrixStats', 'RcppArmadillo', 'zip', 'SparseM', 'MatrixModels', 'conquer', 'sp', 'openxlsx', 'minqa', 'nloptr', 'statmod', 'RcppEigen', 'carData', 'pbkrtest', 'quantreg', 'maptools', 'rio', 'lme4', 'broom', 'corrplot', 'car', 'ellipse', 'flashClust', 'leaps', 'scatterplot3d', 'ggsci', 'cowplot', 'ggsignif', 'polynom', 'rstatix', 'abind', 'dendextend', 'FactoMineR', 'ggpubr', 'ggrepel'\n",
      "\n"
     ]
    },
    {
     "name": "stdout",
     "output_type": "stream",
     "text": [
      "\n",
      "  There are binary versions available but the source versions are later:\n",
      "                   binary     source needs_compilation\n",
      "RcppArmadillo 0.9.900.3.0 0.10.1.0.0              TRUE\n",
      "lme4               1.1-23     1.1-25              TRUE\n",
      "broom               0.7.1      0.7.2             FALSE\n",
      "\n",
      "  Binaries will be installed\n",
      "package 'Rcpp' successfully unpacked and MD5 sums checked\n"
     ]
    },
    {
     "name": "stderr",
     "output_type": "stream",
     "text": [
      "Warning message:\n",
      "\"cannot remove prior installation of package 'Rcpp'\"Warning message in file.copy(savedcopy, lib, recursive = TRUE):\n",
      "\"problem copying C:\\Users\\cassi\\anaconda3\\envs\\r-tutorial\\Lib\\R\\library\\00LOCK\\Rcpp\\libs\\x64\\Rcpp.dll to C:\\Users\\cassi\\anaconda3\\envs\\r-tutorial\\Lib\\R\\library\\Rcpp\\libs\\x64\\Rcpp.dll: Permission denied\"Warning message:\n",
      "\"restored 'Rcpp'\""
     ]
    },
    {
     "name": "stdout",
     "output_type": "stream",
     "text": [
      "package 'matrixStats' successfully unpacked and MD5 sums checked\n",
      "package 'RcppArmadillo' successfully unpacked and MD5 sums checked\n",
      "package 'zip' successfully unpacked and MD5 sums checked\n",
      "package 'SparseM' successfully unpacked and MD5 sums checked\n",
      "package 'MatrixModels' successfully unpacked and MD5 sums checked\n",
      "package 'conquer' successfully unpacked and MD5 sums checked\n",
      "package 'sp' successfully unpacked and MD5 sums checked\n",
      "package 'openxlsx' successfully unpacked and MD5 sums checked\n",
      "package 'minqa' successfully unpacked and MD5 sums checked\n",
      "package 'nloptr' successfully unpacked and MD5 sums checked\n",
      "package 'statmod' successfully unpacked and MD5 sums checked\n",
      "package 'RcppEigen' successfully unpacked and MD5 sums checked\n",
      "package 'carData' successfully unpacked and MD5 sums checked\n",
      "package 'pbkrtest' successfully unpacked and MD5 sums checked\n",
      "package 'quantreg' successfully unpacked and MD5 sums checked\n",
      "package 'maptools' successfully unpacked and MD5 sums checked\n",
      "package 'rio' successfully unpacked and MD5 sums checked\n",
      "package 'lme4' successfully unpacked and MD5 sums checked\n",
      "package 'corrplot' successfully unpacked and MD5 sums checked\n",
      "package 'car' successfully unpacked and MD5 sums checked\n",
      "package 'ellipse' successfully unpacked and MD5 sums checked\n",
      "package 'flashClust' successfully unpacked and MD5 sums checked\n",
      "package 'leaps' successfully unpacked and MD5 sums checked\n",
      "package 'scatterplot3d' successfully unpacked and MD5 sums checked\n",
      "package 'ggsci' successfully unpacked and MD5 sums checked\n",
      "package 'cowplot' successfully unpacked and MD5 sums checked\n",
      "package 'ggsignif' successfully unpacked and MD5 sums checked\n",
      "package 'polynom' successfully unpacked and MD5 sums checked\n",
      "package 'rstatix' successfully unpacked and MD5 sums checked\n",
      "package 'abind' successfully unpacked and MD5 sums checked\n",
      "package 'dendextend' successfully unpacked and MD5 sums checked\n",
      "package 'FactoMineR' successfully unpacked and MD5 sums checked\n",
      "package 'ggpubr' successfully unpacked and MD5 sums checked\n",
      "package 'ggrepel' successfully unpacked and MD5 sums checked\n",
      "package 'factoextra' successfully unpacked and MD5 sums checked\n",
      "\n",
      "The downloaded binary packages are in\n",
      "\tC:\\Users\\cassi\\AppData\\Local\\Temp\\Rtmp27yBDq\\downloaded_packages\n"
     ]
    },
    {
     "name": "stderr",
     "output_type": "stream",
     "text": [
      "installing the source package 'broom'\n",
      "\n"
     ]
    },
    {
     "name": "stdout",
     "output_type": "stream",
     "text": [
      "package 'cluster' successfully unpacked and MD5 sums checked\n",
      "\n",
      "The downloaded binary packages are in\n",
      "\tC:\\Users\\cassi\\AppData\\Local\\Temp\\Rtmp27yBDq\\downloaded_packages\n"
     ]
    },
    {
     "name": "stderr",
     "output_type": "stream",
     "text": [
      "also installing the dependencies 'modeltools', 'DEoptimR', 'mclust', 'flexmix', 'prabclus', 'diptest', 'robustbase', 'kernlab'\n",
      "\n"
     ]
    },
    {
     "name": "stdout",
     "output_type": "stream",
     "text": [
      "package 'modeltools' successfully unpacked and MD5 sums checked\n",
      "package 'DEoptimR' successfully unpacked and MD5 sums checked\n",
      "package 'mclust' successfully unpacked and MD5 sums checked\n",
      "package 'flexmix' successfully unpacked and MD5 sums checked\n",
      "package 'prabclus' successfully unpacked and MD5 sums checked\n",
      "package 'diptest' successfully unpacked and MD5 sums checked\n",
      "package 'robustbase' successfully unpacked and MD5 sums checked\n",
      "package 'kernlab' successfully unpacked and MD5 sums checked\n",
      "package 'fpc' successfully unpacked and MD5 sums checked\n",
      "\n",
      "The downloaded binary packages are in\n",
      "\tC:\\Users\\cassi\\AppData\\Local\\Temp\\Rtmp27yBDq\\downloaded_packages\n",
      "package 'NbClust' successfully unpacked and MD5 sums checked\n",
      "\n",
      "The downloaded binary packages are in\n",
      "\tC:\\Users\\cassi\\AppData\\Local\\Temp\\Rtmp27yBDq\\downloaded_packages\n",
      "package 'clValid' successfully unpacked and MD5 sums checked\n",
      "\n",
      "The downloaded binary packages are in\n",
      "\tC:\\Users\\cassi\\AppData\\Local\\Temp\\Rtmp27yBDq\\downloaded_packages\n",
      "package 'clustertend' successfully unpacked and MD5 sums checked\n",
      "\n",
      "The downloaded binary packages are in\n",
      "\tC:\\Users\\cassi\\AppData\\Local\\Temp\\Rtmp27yBDq\\downloaded_packages\n"
     ]
    },
    {
     "name": "stderr",
     "output_type": "stream",
     "text": [
      "Warning message:\n",
      "\"package 'factoextra' was built under R version 3.6.3\"Loading required package: ggplot2\n",
      "Registered S3 methods overwritten by 'ggplot2':\n",
      "  method         from \n",
      "  [.quosures     rlang\n",
      "  c.quosures     rlang\n",
      "  print.quosures rlang\n",
      "Welcome! Want to learn more? See two factoextra-related books at https://goo.gl/ve3WBa\n",
      "Warning message:\n",
      "\"package 'cluster' was built under R version 3.6.3\"Warning message:\n",
      "\"package 'fpc' was built under R version 3.6.3\"Warning message:\n",
      "\"package 'clValid' was built under R version 3.6.3\""
     ]
    }
   ],
   "source": [
    "# Pacotes\n",
    "install.packages(\"factoextra\")\n",
    "install.packages(\"cluster\")\n",
    "install.packages(\"fpc\")\n",
    "install.packages(\"NbClust\")\n",
    "install.packages(\"clValid\")\n",
    "install.packages(\"clustertend\")\n",
    "library(factoextra)\n",
    "library(cluster)\n",
    "library(fpc)\n",
    "library(NbClust)\n",
    "library(clValid)\n",
    "library(magrittr)\n",
    "library(clustertend)"
   ]
  },
  {
   "cell_type": "markdown",
   "metadata": {},
   "source": [
    "## Análise Exploratória"
   ]
  },
  {
   "cell_type": "code",
   "execution_count": 5,
   "metadata": {},
   "outputs": [
    {
     "ename": "ERROR",
     "evalue": "Error in table(dados_clientes_v1$Sexo): objeto 'dados_clientes_v1' não encontrado\n",
     "output_type": "error",
     "traceback": [
      "Error in table(dados_clientes_v1$Sexo): objeto 'dados_clientes_v1' não encontrado\nTraceback:\n",
      "1. table(dados_clientes_v1$Sexo)"
     ]
    }
   ],
   "source": [
    "# Tabela de proporção do sexo dos clientes\n",
    "tabela_sexos = table(dados_clientes_v1$Sexo)\n",
    "tabela_sexos\n",
    "table(dados_clientes_v1$Sexo, useNA = \"ifany\")"
   ]
  },
  {
   "cell_type": "code",
   "execution_count": 4,
   "metadata": {},
   "outputs": [
    {
     "ename": "ERROR",
     "evalue": "Error in summary(dados_clientes_v1$Idade): objeto 'dados_clientes_v1' não encontrado\n",
     "output_type": "error",
     "traceback": [
      "Error in summary(dados_clientes_v1$Idade): objeto 'dados_clientes_v1' não encontrado\nTraceback:\n",
      "1. summary(dados_clientes_v1$Idade)"
     ]
    }
   ],
   "source": [
    "# Buscando valores missing para variáveis relacionadas a idade \n",
    "summary(dados_clientes_v1$Idade)"
   ]
  },
  {
   "cell_type": "code",
   "execution_count": null,
   "metadata": {},
   "outputs": [],
   "source": []
  }
 ],
 "metadata": {
  "kernelspec": {
   "display_name": "R",
   "language": "R",
   "name": "ir"
  },
  "language_info": {
   "codemirror_mode": "r",
   "file_extension": ".r",
   "mimetype": "text/x-r-source",
   "name": "R",
   "pygments_lexer": "r",
   "version": "3.6.1"
  }
 },
 "nbformat": 4,
 "nbformat_minor": 4
}
