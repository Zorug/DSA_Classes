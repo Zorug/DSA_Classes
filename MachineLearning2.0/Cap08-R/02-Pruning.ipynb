{
 "cells": [
  {
   "cell_type": "code",
   "execution_count": 1,
   "metadata": {},
   "outputs": [
    {
     "data": {
      "text/html": [
       "'C:/Users/cassi/OneDrive/Programação/DSA/MachineLearning2.0/Cap08-R'"
      ],
      "text/latex": [
       "'C:/Users/cassi/OneDrive/Programação/DSA/MachineLearning2.0/Cap08-R'"
      ],
      "text/markdown": [
       "'C:/Users/cassi/OneDrive/Programação/DSA/MachineLearning2.0/Cap08-R'"
      ],
      "text/plain": [
       "[1] \"C:/Users/cassi/OneDrive/Programação/DSA/MachineLearning2.0/Cap08-R\""
      ]
     },
     "metadata": {},
     "output_type": "display_data"
    }
   ],
   "source": [
    "# Criando um árvore de decisão a partir do dataset titanic\n",
    "\n",
    "# Obs: Caso tenha problemas com a acentuação, consulte este link:\n",
    "# https://support.rstudio.com/hc/en-us/articles/200532197-Character-Encoding\n",
    "\n",
    "# Definindo o diretório de trabalho\n",
    "getwd()\n",
    "#setwd(\"~/Dropbox/DSA/MachineLearning2.0/Cap08/R\")"
   ]
  },
  {
   "cell_type": "code",
   "execution_count": 2,
   "metadata": {},
   "outputs": [],
   "source": [
    "# Gerando o dataset\n",
    "data(Titanic, package = \"datasets\") "
   ]
  },
  {
   "cell_type": "code",
   "execution_count": 4,
   "metadata": {},
   "outputs": [
    {
     "data": {
      "text/html": [
       "<table>\n",
       "<thead><tr><th scope=col>Class</th><th scope=col>Sex</th><th scope=col>Age</th><th scope=col>Survived</th><th scope=col>Freq</th></tr></thead>\n",
       "<tbody>\n",
       "\t<tr><td>1st   </td><td>Male  </td><td>Child </td><td>No    </td><td> 0    </td></tr>\n",
       "\t<tr><td>2nd   </td><td>Male  </td><td>Child </td><td>No    </td><td> 0    </td></tr>\n",
       "\t<tr><td>3rd   </td><td>Male  </td><td>Child </td><td>No    </td><td>35    </td></tr>\n",
       "\t<tr><td>Crew  </td><td>Male  </td><td>Child </td><td>No    </td><td> 0    </td></tr>\n",
       "\t<tr><td>1st   </td><td>Female</td><td>Child </td><td>No    </td><td> 0    </td></tr>\n",
       "\t<tr><td>2nd   </td><td>Female</td><td>Child </td><td>No    </td><td> 0    </td></tr>\n",
       "</tbody>\n",
       "</table>\n"
      ],
      "text/latex": [
       "\\begin{tabular}{r|lllll}\n",
       " Class & Sex & Age & Survived & Freq\\\\\n",
       "\\hline\n",
       "\t 1st    & Male   & Child  & No     &  0    \\\\\n",
       "\t 2nd    & Male   & Child  & No     &  0    \\\\\n",
       "\t 3rd    & Male   & Child  & No     & 35    \\\\\n",
       "\t Crew   & Male   & Child  & No     &  0    \\\\\n",
       "\t 1st    & Female & Child  & No     &  0    \\\\\n",
       "\t 2nd    & Female & Child  & No     &  0    \\\\\n",
       "\\end{tabular}\n"
      ],
      "text/markdown": [
       "\n",
       "| Class | Sex | Age | Survived | Freq |\n",
       "|---|---|---|---|---|\n",
       "| 1st    | Male   | Child  | No     |  0     |\n",
       "| 2nd    | Male   | Child  | No     |  0     |\n",
       "| 3rd    | Male   | Child  | No     | 35     |\n",
       "| Crew   | Male   | Child  | No     |  0     |\n",
       "| 1st    | Female | Child  | No     |  0     |\n",
       "| 2nd    | Female | Child  | No     |  0     |\n",
       "\n"
      ],
      "text/plain": [
       "  Class Sex    Age   Survived Freq\n",
       "1 1st   Male   Child No        0  \n",
       "2 2nd   Male   Child No        0  \n",
       "3 3rd   Male   Child No       35  \n",
       "4 Crew  Male   Child No        0  \n",
       "5 1st   Female Child No        0  \n",
       "6 2nd   Female Child No        0  "
      ]
     },
     "metadata": {},
     "output_type": "display_data"
    }
   ],
   "source": [
    "# Criando o dataframe\n",
    "dataset <- as.data.frame(Titanic) \n",
    "head(dataset)"
   ]
  },
  {
   "cell_type": "code",
   "execution_count": 5,
   "metadata": {},
   "outputs": [
    {
     "name": "stdout",
     "output_type": "stream",
     "text": [
      "package 'rpart' successfully unpacked and MD5 sums checked\n"
     ]
    },
    {
     "name": "stderr",
     "output_type": "stream",
     "text": [
      "Warning message:\n",
      "\"cannot remove prior installation of package 'rpart'\"Warning message in file.copy(savedcopy, lib, recursive = TRUE):\n",
      "\"problem copying C:\\Users\\cassi\\anaconda3\\envs\\r-tutorial\\Lib\\R\\library\\00LOCK\\rpart\\libs\\x64\\rpart.dll to C:\\Users\\cassi\\anaconda3\\envs\\r-tutorial\\Lib\\R\\library\\rpart\\libs\\x64\\rpart.dll: Permission denied\"Warning message:\n",
      "\"restored 'rpart'\""
     ]
    },
    {
     "name": "stdout",
     "output_type": "stream",
     "text": [
      "\n",
      "The downloaded binary packages are in\n",
      "\tC:\\Users\\cassi\\AppData\\Local\\Temp\\RtmpEHuTjM\\downloaded_packages\n"
     ]
    },
    {
     "name": "stderr",
     "output_type": "stream",
     "text": [
      "Warning message:\n",
      "\"package 'rpart' was built under R version 3.6.3\""
     ]
    }
   ],
   "source": [
    "# Carregando o pacote\n",
    "install.packages(\"rpart\")\n",
    "library(rpart)"
   ]
  },
  {
   "cell_type": "code",
   "execution_count": 7,
   "metadata": {},
   "outputs": [],
   "source": [
    "?rpart"
   ]
  },
  {
   "cell_type": "code",
   "execution_count": 6,
   "metadata": {},
   "outputs": [
    {
     "data": {
      "text/plain": [
       "n= 32 \n",
       "\n",
       "node), split, n, loss, yval, (yprob)\n",
       "      * denotes terminal node\n",
       "\n",
       " 1) root 32 711 No (0.6769650 0.3230350)  \n",
       "   2) Sex=Male 16 367 No (0.7879838 0.2120162)  \n",
       "     4) Age=Adult 8 338 No (0.7972406 0.2027594) *\n",
       "     5) Age=Child 8  29 No (0.5468750 0.4531250)  \n",
       "      10) Class=3rd 2  13 No (0.7291667 0.2708333) *\n",
       "      11) Class=1st,2nd 4   0 Yes (0.0000000 1.0000000) *\n",
       "   3) Sex=Female 16 126 Yes (0.2680851 0.7319149)  \n",
       "     6) Class=3rd 4  90 No (0.5408163 0.4591837) *\n",
       "     7) Class=1st,2nd,Crew 12  20 Yes (0.0729927 0.9270073) *"
      ]
     },
     "metadata": {},
     "output_type": "display_data"
    }
   ],
   "source": [
    "# Criando o modelo\n",
    "titanic_tree <- rpart(Survived ~ Class + Sex + Age, \n",
    "                      data = dataset, \n",
    "                      weights = Freq, \n",
    "                      method = \"class\", \n",
    "                      parms = list(split = \"information\"), \n",
    "                      control = rpart.control(minsplit = 5)) \n",
    "\n",
    "titanic_tree"
   ]
  },
  {
   "cell_type": "code",
   "execution_count": 8,
   "metadata": {},
   "outputs": [
    {
     "data": {
      "text/plain": [
       "n= 32 \n",
       "\n",
       "node), split, n, loss, yval, (yprob)\n",
       "      * denotes terminal node\n",
       "\n",
       "1) root 32 711 No (0.6769650 0.3230350)  \n",
       "  2) Sex=Male 16 367 No (0.7879838 0.2120162) *\n",
       "  3) Sex=Female 16 126 Yes (0.2680851 0.7319149)  \n",
       "    6) Class=3rd 4  90 No (0.5408163 0.4591837) *\n",
       "    7) Class=1st,2nd,Crew 12  20 Yes (0.0729927 0.9270073) *"
      ]
     },
     "metadata": {},
     "output_type": "display_data"
    }
   ],
   "source": [
    "# Aplicando o Prune\n",
    "?prune\n",
    "pruned_titanic_tree <- prune(titanic_tree, cp = 0.02)\n",
    "pruned_titanic_tree"
   ]
  },
  {
   "cell_type": "code",
   "execution_count": 9,
   "metadata": {},
   "outputs": [
    {
     "name": "stdout",
     "output_type": "stream",
     "text": [
      "package 'rpart.plot' successfully unpacked and MD5 sums checked\n",
      "\n",
      "The downloaded binary packages are in\n",
      "\tC:\\Users\\cassi\\AppData\\Local\\Temp\\RtmpEHuTjM\\downloaded_packages\n"
     ]
    },
    {
     "name": "stderr",
     "output_type": "stream",
     "text": [
      "Warning message:\n",
      "\"package 'rpart.plot' was built under R version 3.6.3\""
     ]
    }
   ],
   "source": [
    "# Carregando o pacote rpart.plot\n",
    "install.packages(\"rpart.plot\")\n",
    "library(rpart.plot) "
   ]
  },
  {
   "cell_type": "markdown",
   "metadata": {},
   "source": [
    "## Imprimindo a árvore antes e depois do Prune"
   ]
  },
  {
   "cell_type": "code",
   "execution_count": 10,
   "metadata": {},
   "outputs": [
    {
     "data": {
      "image/png": "[encoded data removed]",
      "text/plain": [
       "plot without title"
      ]
     },
     "metadata": {},
     "output_type": "display_data"
    }
   ],
   "source": [
    "# Antes do Pruning\n",
    "prp(titanic_tree, type = 0, extra = 1, under = TRUE, compress = TRUE)"
   ]
  },
  {
   "cell_type": "code",
   "execution_count": 11,
   "metadata": {},
   "outputs": [
    {
     "data": {
      "image/png": "[encoded data removed]",
      "text/plain": [
       "plot without title"
      ]
     },
     "metadata": {},
     "output_type": "display_data"
    }
   ],
   "source": [
    "# Depois do Pruning\n",
    "prp(pruned_titanic_tree, type = 0, extra = 1, under = TRUE, compress = TRUE)"
   ]
  },
  {
   "cell_type": "code",
   "execution_count": null,
   "metadata": {},
   "outputs": [],
   "source": []
  }
 ],
 "metadata": {
  "kernelspec": {
   "display_name": "R",
   "language": "R",
   "name": "ir"
  },
  "language_info": {
   "codemirror_mode": "r",
   "file_extension": ".r",
   "mimetype": "text/x-r-source",
   "name": "R",
   "pygments_lexer": "r",
   "version": "3.6.1"
  }
 },
 "nbformat": 4,
 "nbformat_minor": 4
}
