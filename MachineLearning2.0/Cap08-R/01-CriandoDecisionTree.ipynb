{
 "cells": [
  {
   "cell_type": "code",
   "execution_count": 1,
   "metadata": {},
   "outputs": [
    {
     "data": {
      "text/html": [
       "'C:/Users/cassi/OneDrive/Programação/DSA/MachineLearning2.0/Cap08-R'"
      ],
      "text/latex": [
       "'C:/Users/cassi/OneDrive/Programação/DSA/MachineLearning2.0/Cap08-R'"
      ],
      "text/markdown": [
       "'C:/Users/cassi/OneDrive/Programação/DSA/MachineLearning2.0/Cap08-R'"
      ],
      "text/plain": [
       "[1] \"C:/Users/cassi/OneDrive/Programação/DSA/MachineLearning2.0/Cap08-R\""
      ]
     },
     "metadata": {},
     "output_type": "display_data"
    }
   ],
   "source": [
    "# Criando Árvore de Decisão com o pacote rpart\n",
    "\n",
    "# Obs: Caso tenha problemas com a acentuação, consulte este link:\n",
    "# https://support.rstudio.com/hc/en-us/articles/200532197-Character-Encoding\n",
    "\n",
    "# Definindo o diretório de trabalho\n",
    "getwd()\n",
    "#setwd(\"~/Dropbox/DSA/MachineLearning2.0/Cap08/R\")"
   ]
  },
  {
   "cell_type": "code",
   "execution_count": 2,
   "metadata": {},
   "outputs": [],
   "source": [
    "# Criando um dataframe\n",
    "?expand.grid\n",
    "clima <- expand.grid(Tempo = c(\"Ensolarado\",\"Nublado\",\"Chuvoso\"), \n",
    "                     Temperatura = c(\"Quente\",\"Ameno\",\"Frio\"), \n",
    "                     Humidade = c(\"Alta\",\"Normal\"), \n",
    "                     Vento = c(\"Fraco\",\"Forte\")) "
   ]
  },
  {
   "cell_type": "code",
   "execution_count": 4,
   "metadata": {},
   "outputs": [
    {
     "data": {
      "text/html": [
       "<table>\n",
       "<thead><tr><th scope=col>Tempo</th><th scope=col>Temperatura</th><th scope=col>Humidade</th><th scope=col>Vento</th></tr></thead>\n",
       "<tbody>\n",
       "\t<tr><td>Ensolarado</td><td>Quente    </td><td>Alta      </td><td>Fraco     </td></tr>\n",
       "\t<tr><td>Nublado   </td><td>Quente    </td><td>Alta      </td><td>Fraco     </td></tr>\n",
       "\t<tr><td>Chuvoso   </td><td>Quente    </td><td>Alta      </td><td>Fraco     </td></tr>\n",
       "\t<tr><td>Ensolarado</td><td>Ameno     </td><td>Alta      </td><td>Fraco     </td></tr>\n",
       "\t<tr><td>Nublado   </td><td>Ameno     </td><td>Alta      </td><td>Fraco     </td></tr>\n",
       "\t<tr><td>Chuvoso   </td><td>Ameno     </td><td>Alta      </td><td>Fraco     </td></tr>\n",
       "</tbody>\n",
       "</table>\n"
      ],
      "text/latex": [
       "\\begin{tabular}{r|llll}\n",
       " Tempo & Temperatura & Humidade & Vento\\\\\n",
       "\\hline\n",
       "\t Ensolarado & Quente     & Alta       & Fraco     \\\\\n",
       "\t Nublado    & Quente     & Alta       & Fraco     \\\\\n",
       "\t Chuvoso    & Quente     & Alta       & Fraco     \\\\\n",
       "\t Ensolarado & Ameno      & Alta       & Fraco     \\\\\n",
       "\t Nublado    & Ameno      & Alta       & Fraco     \\\\\n",
       "\t Chuvoso    & Ameno      & Alta       & Fraco     \\\\\n",
       "\\end{tabular}\n"
      ],
      "text/markdown": [
       "\n",
       "| Tempo | Temperatura | Humidade | Vento |\n",
       "|---|---|---|---|\n",
       "| Ensolarado | Quente     | Alta       | Fraco      |\n",
       "| Nublado    | Quente     | Alta       | Fraco      |\n",
       "| Chuvoso    | Quente     | Alta       | Fraco      |\n",
       "| Ensolarado | Ameno      | Alta       | Fraco      |\n",
       "| Nublado    | Ameno      | Alta       | Fraco      |\n",
       "| Chuvoso    | Ameno      | Alta       | Fraco      |\n",
       "\n"
      ],
      "text/plain": [
       "  Tempo      Temperatura Humidade Vento\n",
       "1 Ensolarado Quente      Alta     Fraco\n",
       "2 Nublado    Quente      Alta     Fraco\n",
       "3 Chuvoso    Quente      Alta     Fraco\n",
       "4 Ensolarado Ameno       Alta     Fraco\n",
       "5 Nublado    Ameno       Alta     Fraco\n",
       "6 Chuvoso    Ameno       Alta     Fraco"
      ]
     },
     "metadata": {},
     "output_type": "display_data"
    }
   ],
   "source": [
    "# Visualizando o dataframe\n",
    "head(clima)"
   ]
  },
  {
   "cell_type": "code",
   "execution_count": 5,
   "metadata": {},
   "outputs": [],
   "source": [
    "# Vetor para selecionar as linhas \n",
    "response <- c(1, 19, 4, 31, 16, 2, 11, 23, 35, 6, 24, 15, 18, 36) "
   ]
  },
  {
   "cell_type": "code",
   "execution_count": 6,
   "metadata": {},
   "outputs": [],
   "source": [
    "# Gerando um vetor do tipo fator para a Variável target\n",
    "play <- as.factor(c(\"Não Jogar\", \"Não Jogar\", \"Não Jogar\", \"Jogar\", \"Jogar\", \"Jogar\", \"Jogar\", \"Jogar\", \"Jogar\", \"Jogar\", \"Não Jogar\", \"Jogar\", \"Jogar\", \"Não Jogar\")) "
   ]
  },
  {
   "cell_type": "code",
   "execution_count": 8,
   "metadata": {},
   "outputs": [
    {
     "data": {
      "text/html": [
       "<table>\n",
       "<thead><tr><th></th><th scope=col>Tempo</th><th scope=col>Temperatura</th><th scope=col>Humidade</th><th scope=col>Vento</th><th scope=col>play</th></tr></thead>\n",
       "<tbody>\n",
       "\t<tr><th scope=row>1</th><td>Ensolarado</td><td>Quente    </td><td>Alta      </td><td>Fraco     </td><td>Não Jogar </td></tr>\n",
       "\t<tr><th scope=row>19</th><td>Ensolarado</td><td>Quente    </td><td>Alta      </td><td>Forte     </td><td>Não Jogar </td></tr>\n",
       "\t<tr><th scope=row>4</th><td>Ensolarado</td><td>Ameno     </td><td>Alta      </td><td>Fraco     </td><td>Não Jogar </td></tr>\n",
       "\t<tr><th scope=row>31</th><td>Ensolarado</td><td>Ameno     </td><td>Normal    </td><td>Forte     </td><td>Jogar     </td></tr>\n",
       "\t<tr><th scope=row>16</th><td>Ensolarado</td><td>Frio      </td><td>Normal    </td><td>Fraco     </td><td>Jogar     </td></tr>\n",
       "\t<tr><th scope=row>2</th><td>Nublado   </td><td>Quente    </td><td>Alta      </td><td>Fraco     </td><td>Jogar     </td></tr>\n",
       "</tbody>\n",
       "</table>\n"
      ],
      "text/latex": [
       "\\begin{tabular}{r|lllll}\n",
       "  & Tempo & Temperatura & Humidade & Vento & play\\\\\n",
       "\\hline\n",
       "\t1 & Ensolarado & Quente     & Alta       & Fraco      & Não Jogar \\\\\n",
       "\t19 & Ensolarado & Quente     & Alta       & Forte      & Não Jogar \\\\\n",
       "\t4 & Ensolarado & Ameno      & Alta       & Fraco      & Não Jogar \\\\\n",
       "\t31 & Ensolarado & Ameno      & Normal     & Forte      & Jogar     \\\\\n",
       "\t16 & Ensolarado & Frio       & Normal     & Fraco      & Jogar     \\\\\n",
       "\t2 & Nublado    & Quente     & Alta       & Fraco      & Jogar     \\\\\n",
       "\\end{tabular}\n"
      ],
      "text/markdown": [
       "\n",
       "| <!--/--> | Tempo | Temperatura | Humidade | Vento | play |\n",
       "|---|---|---|---|---|---|\n",
       "| 1 | Ensolarado | Quente     | Alta       | Fraco      | Não Jogar  |\n",
       "| 19 | Ensolarado | Quente     | Alta       | Forte      | Não Jogar  |\n",
       "| 4 | Ensolarado | Ameno      | Alta       | Fraco      | Não Jogar  |\n",
       "| 31 | Ensolarado | Ameno      | Normal     | Forte      | Jogar      |\n",
       "| 16 | Ensolarado | Frio       | Normal     | Fraco      | Jogar      |\n",
       "| 2 | Nublado    | Quente     | Alta       | Fraco      | Jogar      |\n",
       "\n"
      ],
      "text/plain": [
       "   Tempo      Temperatura Humidade Vento play     \n",
       "1  Ensolarado Quente      Alta     Fraco Não Jogar\n",
       "19 Ensolarado Quente      Alta     Forte Não Jogar\n",
       "4  Ensolarado Ameno       Alta     Fraco Não Jogar\n",
       "31 Ensolarado Ameno       Normal   Forte Jogar    \n",
       "16 Ensolarado Frio        Normal   Fraco Jogar    \n",
       "2  Nublado    Quente      Alta     Fraco Jogar    "
      ]
     },
     "metadata": {},
     "output_type": "display_data"
    }
   ],
   "source": [
    "# Dataframe final\n",
    "tennis <- data.frame(clima[response,], play)\n",
    "head(tennis)"
   ]
  },
  {
   "cell_type": "code",
   "execution_count": 9,
   "metadata": {},
   "outputs": [
    {
     "name": "stdout",
     "output_type": "stream",
     "text": [
      "package 'rpart' successfully unpacked and MD5 sums checked\n",
      "\n",
      "The downloaded binary packages are in\n",
      "\tC:\\Users\\cassi\\AppData\\Local\\Temp\\Rtmpoh8OCF\\downloaded_packages\n"
     ]
    },
    {
     "name": "stderr",
     "output_type": "stream",
     "text": [
      "Warning message:\n",
      "\"package 'rpart' was built under R version 3.6.3\""
     ]
    }
   ],
   "source": [
    "# Carregando o pacote\n",
    "install.packages(\"rpart\")\n",
    "library(rpart) "
   ]
  },
  {
   "cell_type": "code",
   "execution_count": 10,
   "metadata": {},
   "outputs": [],
   "source": [
    "# Criando o modelo\n",
    "?rpart"
   ]
  },
  {
   "cell_type": "code",
   "execution_count": 11,
   "metadata": {},
   "outputs": [],
   "source": [
    "?rpart.control\n",
    "tennis_tree <- rpart(play ~ ., \n",
    "                     data = tennis, \n",
    "                     method = \"class\", \n",
    "                     parms = list(split = \"information\"), \n",
    "                     control = rpart.control(minsplit = 1))"
   ]
  },
  {
   "cell_type": "code",
   "execution_count": 12,
   "metadata": {},
   "outputs": [
    {
     "data": {
      "text/plain": [
       "n= 14 \n",
       "\n",
       "node), split, n, loss, yval, (yprob)\n",
       "      * denotes terminal node\n",
       "\n",
       " 1) root 14 5 Jogar (0.6428571 0.3571429)  \n",
       "   2) Tempo=Nublado 4 0 Jogar (1.0000000 0.0000000) *\n",
       "   3) Tempo=Ensolarado,Chuvoso 10 5 Jogar (0.5000000 0.5000000)  \n",
       "     6) Humidade=Normal 5 1 Jogar (0.8000000 0.2000000)  \n",
       "      12) Vento=Fraco 3 0 Jogar (1.0000000 0.0000000) *\n",
       "      13) Vento=Forte 2 1 Jogar (0.5000000 0.5000000)  \n",
       "        26) Tempo=Ensolarado 1 0 Jogar (1.0000000 0.0000000) *\n",
       "        27) Tempo=Chuvoso 1 0 Não Jogar (0.0000000 1.0000000) *\n",
       "     7) Humidade=Alta 5 1 Não Jogar (0.2000000 0.8000000)  \n",
       "      14) Tempo=Chuvoso 2 1 Jogar (0.5000000 0.5000000)  \n",
       "        28) Vento=Fraco 1 0 Jogar (1.0000000 0.0000000) *\n",
       "        29) Vento=Forte 1 0 Não Jogar (0.0000000 1.0000000) *\n",
       "      15) Tempo=Ensolarado 3 0 Não Jogar (0.0000000 1.0000000) *"
      ]
     },
     "metadata": {},
     "output_type": "display_data"
    }
   ],
   "source": [
    "# Visualizando o ganho de informação para cada atributo\n",
    "tennis_tree "
   ]
  },
  {
   "cell_type": "code",
   "execution_count": 13,
   "metadata": {},
   "outputs": [
    {
     "name": "stdout",
     "output_type": "stream",
     "text": [
      "package 'rpart.plot' successfully unpacked and MD5 sums checked\n",
      "\n",
      "The downloaded binary packages are in\n",
      "\tC:\\Users\\cassi\\AppData\\Local\\Temp\\Rtmpoh8OCF\\downloaded_packages\n"
     ]
    },
    {
     "name": "stderr",
     "output_type": "stream",
     "text": [
      "Warning message:\n",
      "\"package 'rpart.plot' was built under R version 3.6.3\""
     ]
    }
   ],
   "source": [
    "# Gerando o plot\n",
    "install.packages(\"rpart.plot\")\n",
    "library(rpart.plot) "
   ]
  },
  {
   "cell_type": "code",
   "execution_count": 14,
   "metadata": {},
   "outputs": [
    {
     "data": {
      "image/png": "[encoded data removed]",
      "text/plain": [
       "plot without title"
      ]
     },
     "metadata": {},
     "output_type": "display_data"
    }
   ],
   "source": [
    "# Plot\n",
    "?prp\n",
    "prp(tennis_tree, type = 0, extra = 1, under = TRUE, compress = TRUE)"
   ]
  },
  {
   "cell_type": "markdown",
   "metadata": {},
   "source": [
    "## Interpretando a árvore de decisão"
   ]
  },
  {
   "cell_type": "markdown",
   "metadata": {},
   "source": [
    "Para ler os nós da árvore, basta iniciar a partir do nó superior, que corresponde aos dados de treinamento original e, em seguida, começar a ler as regras. Observe que cada nó tem duas derivações: O ramo esquerdo significa que a regra superior é verdadeira e a direita significa que ela é falsa."
   ]
  },
  {
   "cell_type": "markdown",
   "metadata": {},
   "source": [
    "À esquerda da primeira regra, você vê uma regra terminal importante (uma folha terminal), em um círculo, indicando um resultado positivo, Jogar, que você pode ler como jogar tênis = Verdadeiro. Os números sob a folha terminal mostram  quatro exemplos afirmando que esta regra é \"yes\" e zero afirmando \"no\"."
   ]
  },
  {
   "cell_type": "markdown",
   "metadata": {},
   "source": [
    "Considere o atributo \"Vento\" que pode ter os valores \"Fraco\" ou \"Forte\". Calcula-se então a entropia para cada um desses valores e depois a diferença entre a entropia do atributo vento e a soma das entropias de cada um dos valores associados ao atributo, multiplicado pela proporção de exemplos particionados de acordo com o valor (separados de um lado os exemplos com Vento = \"Fraco\" e do outro lado Vento = \"Forte\")."
   ]
  },
  {
   "cell_type": "markdown",
   "metadata": {},
   "source": [
    "Frequentemente, as regras de árvore de decisão não são imediatamente utilizáveis, e você precisa interpretá-las antes do uso. No entanto, eles são claramente inteligíveis (e muito melhor do que um coeficiente de vetores de valores)."
   ]
  },
  {
   "cell_type": "markdown",
   "metadata": {},
   "source": [
    "## Fazendo previsões com o modelo"
   ]
  },
  {
   "cell_type": "code",
   "execution_count": 15,
   "metadata": {},
   "outputs": [],
   "source": [
    "# Dados\n",
    "clima <- expand.grid(Tempo = c(\"Ensolarado\",\"Nublado\",\"Chuvoso\"), \n",
    "                           Temperatura = c(\"Quente\",\"Ameno\",\"Frio\"), \n",
    "                           Humidade = c(\"Alta\",\"Normal\"), \n",
    "                           Vento = c(\"Fraco\",\"Forte\")) "
   ]
  },
  {
   "cell_type": "code",
   "execution_count": 16,
   "metadata": {},
   "outputs": [],
   "source": [
    "# Vetor para selecionar as linhas \n",
    "response <- c(2, 20, 3, 33, 17, 4, 5) "
   ]
  },
  {
   "cell_type": "code",
   "execution_count": 18,
   "metadata": {},
   "outputs": [
    {
     "data": {
      "text/html": [
       "<table>\n",
       "<thead><tr><th></th><th scope=col>Tempo</th><th scope=col>Temperatura</th><th scope=col>Humidade</th><th scope=col>Vento</th></tr></thead>\n",
       "<tbody>\n",
       "\t<tr><th scope=row>2</th><td>Nublado   </td><td>Quente    </td><td>Alta      </td><td>Fraco     </td></tr>\n",
       "\t<tr><th scope=row>20</th><td>Nublado   </td><td>Quente    </td><td>Alta      </td><td>Forte     </td></tr>\n",
       "\t<tr><th scope=row>3</th><td>Chuvoso   </td><td>Quente    </td><td>Alta      </td><td>Fraco     </td></tr>\n",
       "\t<tr><th scope=row>33</th><td>Chuvoso   </td><td>Ameno     </td><td>Normal    </td><td>Forte     </td></tr>\n",
       "\t<tr><th scope=row>17</th><td>Nublado   </td><td>Frio      </td><td>Normal    </td><td>Fraco     </td></tr>\n",
       "\t<tr><th scope=row>4</th><td>Ensolarado</td><td>Ameno     </td><td>Alta      </td><td>Fraco     </td></tr>\n",
       "</tbody>\n",
       "</table>\n"
      ],
      "text/latex": [
       "\\begin{tabular}{r|llll}\n",
       "  & Tempo & Temperatura & Humidade & Vento\\\\\n",
       "\\hline\n",
       "\t2 & Nublado    & Quente     & Alta       & Fraco     \\\\\n",
       "\t20 & Nublado    & Quente     & Alta       & Forte     \\\\\n",
       "\t3 & Chuvoso    & Quente     & Alta       & Fraco     \\\\\n",
       "\t33 & Chuvoso    & Ameno      & Normal     & Forte     \\\\\n",
       "\t17 & Nublado    & Frio       & Normal     & Fraco     \\\\\n",
       "\t4 & Ensolarado & Ameno      & Alta       & Fraco     \\\\\n",
       "\\end{tabular}\n"
      ],
      "text/markdown": [
       "\n",
       "| <!--/--> | Tempo | Temperatura | Humidade | Vento |\n",
       "|---|---|---|---|---|\n",
       "| 2 | Nublado    | Quente     | Alta       | Fraco      |\n",
       "| 20 | Nublado    | Quente     | Alta       | Forte      |\n",
       "| 3 | Chuvoso    | Quente     | Alta       | Fraco      |\n",
       "| 33 | Chuvoso    | Ameno      | Normal     | Forte      |\n",
       "| 17 | Nublado    | Frio       | Normal     | Fraco      |\n",
       "| 4 | Ensolarado | Ameno      | Alta       | Fraco      |\n",
       "\n"
      ],
      "text/plain": [
       "   Tempo      Temperatura Humidade Vento\n",
       "2  Nublado    Quente      Alta     Fraco\n",
       "20 Nublado    Quente      Alta     Forte\n",
       "3  Chuvoso    Quente      Alta     Fraco\n",
       "33 Chuvoso    Ameno       Normal   Forte\n",
       "17 Nublado    Frio        Normal   Fraco\n",
       "4  Ensolarado Ameno       Alta     Fraco"
      ]
     },
     "metadata": {},
     "output_type": "display_data"
    }
   ],
   "source": [
    "# Novos dados\n",
    "novos_dados <- data.frame(clima[response,])\n",
    "head(novos_dados)"
   ]
  },
  {
   "cell_type": "code",
   "execution_count": 19,
   "metadata": {},
   "outputs": [
    {
     "data": {
      "text/html": [
       "<table>\n",
       "<thead><tr><th></th><th scope=col>Jogar</th><th scope=col>Não Jogar</th></tr></thead>\n",
       "<tbody>\n",
       "\t<tr><th scope=row>2</th><td>1</td><td>0</td></tr>\n",
       "\t<tr><th scope=row>20</th><td>1</td><td>0</td></tr>\n",
       "\t<tr><th scope=row>3</th><td>1</td><td>0</td></tr>\n",
       "\t<tr><th scope=row>33</th><td>0</td><td>1</td></tr>\n",
       "\t<tr><th scope=row>17</th><td>1</td><td>0</td></tr>\n",
       "\t<tr><th scope=row>4</th><td>0</td><td>1</td></tr>\n",
       "\t<tr><th scope=row>5</th><td>1</td><td>0</td></tr>\n",
       "</tbody>\n",
       "</table>\n"
      ],
      "text/latex": [
       "\\begin{tabular}{r|ll}\n",
       "  & Jogar & Não Jogar\\\\\n",
       "\\hline\n",
       "\t2 & 1 & 0\\\\\n",
       "\t20 & 1 & 0\\\\\n",
       "\t3 & 1 & 0\\\\\n",
       "\t33 & 0 & 1\\\\\n",
       "\t17 & 1 & 0\\\\\n",
       "\t4 & 0 & 1\\\\\n",
       "\t5 & 1 & 0\\\\\n",
       "\\end{tabular}\n"
      ],
      "text/markdown": [
       "\n",
       "| <!--/--> | Jogar | Não Jogar |\n",
       "|---|---|---|\n",
       "| 2 | 1 | 0 |\n",
       "| 20 | 1 | 0 |\n",
       "| 3 | 1 | 0 |\n",
       "| 33 | 0 | 1 |\n",
       "| 17 | 1 | 0 |\n",
       "| 4 | 0 | 1 |\n",
       "| 5 | 1 | 0 |\n",
       "\n"
      ],
      "text/plain": [
       "   Jogar Não Jogar\n",
       "2  1     0        \n",
       "20 1     0        \n",
       "3  1     0        \n",
       "33 0     1        \n",
       "17 1     0        \n",
       "4  0     1        \n",
       "5  1     0        "
      ]
     },
     "metadata": {},
     "output_type": "display_data"
    }
   ],
   "source": [
    "# Previsões\n",
    "?predict\n",
    "predict(tennis_tree, novos_dados)"
   ]
  },
  {
   "cell_type": "code",
   "execution_count": null,
   "metadata": {},
   "outputs": [],
   "source": []
  }
 ],
 "metadata": {
  "kernelspec": {
   "display_name": "R",
   "language": "R",
   "name": "ir"
  },
  "language_info": {
   "codemirror_mode": "r",
   "file_extension": ".r",
   "mimetype": "text/x-r-source",
   "name": "R",
   "pygments_lexer": "r",
   "version": "3.6.1"
  }
 },
 "nbformat": 4,
 "nbformat_minor": 4
}
