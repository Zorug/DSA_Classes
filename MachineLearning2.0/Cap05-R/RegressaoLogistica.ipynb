{
 "cells": [
  {
   "cell_type": "code",
   "execution_count": 4,
   "metadata": {},
   "outputs": [
    {
     "data": {
      "text/html": [
       "'C:/Users/cassi/OneDrive/Programação/DSA/MachineLearning2.0/Cap05-R'"
      ],
      "text/latex": [
       "'C:/Users/cassi/OneDrive/Programação/DSA/MachineLearning2.0/Cap05-R'"
      ],
      "text/markdown": [
       "'C:/Users/cassi/OneDrive/Programação/DSA/MachineLearning2.0/Cap05-R'"
      ],
      "text/plain": [
       "[1] \"C:/Users/cassi/OneDrive/Programação/DSA/MachineLearning2.0/Cap05-R\""
      ]
     },
     "metadata": {},
     "output_type": "display_data"
    }
   ],
   "source": [
    "# Regressão Logística \n",
    "# Previsão e Detecção de Risco de Crédito\n",
    "\n",
    "# Obs: Caso tenha problemas com a acentuação, consulte este link:\n",
    "# https://support.rstudio.com/hc/en-us/articles/200532197-Character-Encoding\n",
    "\n",
    "# Definindo o diretório de trabalho\n",
    "#setwd(\"~/Dropbox/DSA/MachineLearning2.0/Cap05-R\")\n",
    "getwd()"
   ]
  },
  {
   "cell_type": "code",
   "execution_count": 5,
   "metadata": {},
   "outputs": [
    {
     "name": "stderr",
     "output_type": "stream",
     "text": [
      "Warning message:\n",
      "\"package 'caret' is in use and will not be installed\"Warning message:\n",
      "\"package 'ROCR' is in use and will not be installed\""
     ]
    },
    {
     "name": "stdout",
     "output_type": "stream",
     "text": [
      "\n",
      "  There is a binary version available but the source version is later:\n",
      "      binary source needs_compilation\n",
      "e1071  1.7-3  1.7-4              TRUE\n",
      "\n",
      "  Binaries will be installed\n"
     ]
    },
    {
     "name": "stderr",
     "output_type": "stream",
     "text": [
      "Warning message:\n",
      "\"package 'e1071' is in use and will not be installed\""
     ]
    }
   ],
   "source": [
    "# Instalando os pacotes\n",
    "install.packages(\"caret\")\n",
    "install.packages(\"ROCR\")\n",
    "install.packages(\"e1071\")"
   ]
  },
  {
   "cell_type": "code",
   "execution_count": 6,
   "metadata": {},
   "outputs": [],
   "source": [
    "# Carregando os pacotes\n",
    "library(caret)\n",
    "library(ROCR) \n",
    "library(e1071) "
   ]
  },
  {
   "cell_type": "code",
   "execution_count": 7,
   "metadata": {},
   "outputs": [
    {
     "data": {
      "text/html": [
       "<table>\n",
       "<thead><tr><th scope=col>credit.rating</th><th scope=col>account.balance</th><th scope=col>credit.duration.months</th><th scope=col>previous.credit.payment.status</th><th scope=col>credit.purpose</th><th scope=col>credit.amount</th><th scope=col>savings</th><th scope=col>employment.duration</th><th scope=col>installment.rate</th><th scope=col>marital.status</th><th scope=col>...</th><th scope=col>residence.duration</th><th scope=col>current.assets</th><th scope=col>age</th><th scope=col>other.credits</th><th scope=col>apartment.type</th><th scope=col>bank.credits</th><th scope=col>occupation</th><th scope=col>dependents</th><th scope=col>telephone</th><th scope=col>foreign.worker</th></tr></thead>\n",
       "<tbody>\n",
       "\t<tr><td>1   </td><td>1   </td><td>18  </td><td>3   </td><td>2   </td><td>1049</td><td>1   </td><td>1   </td><td>4   </td><td>1   </td><td>... </td><td>4   </td><td>2   </td><td>21  </td><td>2   </td><td>1   </td><td>1   </td><td>3   </td><td>1   </td><td>1   </td><td>1   </td></tr>\n",
       "\t<tr><td>1   </td><td>1   </td><td> 9  </td><td>3   </td><td>4   </td><td>2799</td><td>1   </td><td>2   </td><td>2   </td><td>3   </td><td>... </td><td>2   </td><td>1   </td><td>36  </td><td>2   </td><td>1   </td><td>2   </td><td>3   </td><td>2   </td><td>1   </td><td>1   </td></tr>\n",
       "\t<tr><td>1   </td><td>2   </td><td>12  </td><td>2   </td><td>4   </td><td> 841</td><td>2   </td><td>3   </td><td>2   </td><td>1   </td><td>... </td><td>4   </td><td>1   </td><td>23  </td><td>2   </td><td>1   </td><td>1   </td><td>2   </td><td>1   </td><td>1   </td><td>1   </td></tr>\n",
       "\t<tr><td>1   </td><td>1   </td><td>12  </td><td>3   </td><td>4   </td><td>2122</td><td>1   </td><td>2   </td><td>3   </td><td>3   </td><td>... </td><td>2   </td><td>1   </td><td>39  </td><td>2   </td><td>1   </td><td>2   </td><td>2   </td><td>2   </td><td>1   </td><td>2   </td></tr>\n",
       "\t<tr><td>1   </td><td>1   </td><td>12  </td><td>3   </td><td>4   </td><td>2171</td><td>1   </td><td>2   </td><td>4   </td><td>3   </td><td>... </td><td>4   </td><td>2   </td><td>38  </td><td>1   </td><td>2   </td><td>2   </td><td>2   </td><td>1   </td><td>1   </td><td>2   </td></tr>\n",
       "\t<tr><td>1   </td><td>1   </td><td>10  </td><td>3   </td><td>4   </td><td>2241</td><td>1   </td><td>1   </td><td>1   </td><td>3   </td><td>... </td><td>3   </td><td>1   </td><td>48  </td><td>2   </td><td>1   </td><td>2   </td><td>2   </td><td>2   </td><td>1   </td><td>2   </td></tr>\n",
       "</tbody>\n",
       "</table>\n"
      ],
      "text/latex": [
       "\\begin{tabular}{r|lllllllllllllllllllll}\n",
       " credit.rating & account.balance & credit.duration.months & previous.credit.payment.status & credit.purpose & credit.amount & savings & employment.duration & installment.rate & marital.status & ... & residence.duration & current.assets & age & other.credits & apartment.type & bank.credits & occupation & dependents & telephone & foreign.worker\\\\\n",
       "\\hline\n",
       "\t 1    & 1    & 18   & 3    & 2    & 1049 & 1    & 1    & 4    & 1    & ...  & 4    & 2    & 21   & 2    & 1    & 1    & 3    & 1    & 1    & 1   \\\\\n",
       "\t 1    & 1    &  9   & 3    & 4    & 2799 & 1    & 2    & 2    & 3    & ...  & 2    & 1    & 36   & 2    & 1    & 2    & 3    & 2    & 1    & 1   \\\\\n",
       "\t 1    & 2    & 12   & 2    & 4    &  841 & 2    & 3    & 2    & 1    & ...  & 4    & 1    & 23   & 2    & 1    & 1    & 2    & 1    & 1    & 1   \\\\\n",
       "\t 1    & 1    & 12   & 3    & 4    & 2122 & 1    & 2    & 3    & 3    & ...  & 2    & 1    & 39   & 2    & 1    & 2    & 2    & 2    & 1    & 2   \\\\\n",
       "\t 1    & 1    & 12   & 3    & 4    & 2171 & 1    & 2    & 4    & 3    & ...  & 4    & 2    & 38   & 1    & 2    & 2    & 2    & 1    & 1    & 2   \\\\\n",
       "\t 1    & 1    & 10   & 3    & 4    & 2241 & 1    & 1    & 1    & 3    & ...  & 3    & 1    & 48   & 2    & 1    & 2    & 2    & 2    & 1    & 2   \\\\\n",
       "\\end{tabular}\n"
      ],
      "text/markdown": [
       "\n",
       "| credit.rating | account.balance | credit.duration.months | previous.credit.payment.status | credit.purpose | credit.amount | savings | employment.duration | installment.rate | marital.status | ... | residence.duration | current.assets | age | other.credits | apartment.type | bank.credits | occupation | dependents | telephone | foreign.worker |\n",
       "|---|---|---|---|---|---|---|---|---|---|---|---|---|---|---|---|---|---|---|---|---|\n",
       "| 1    | 1    | 18   | 3    | 2    | 1049 | 1    | 1    | 4    | 1    | ...  | 4    | 2    | 21   | 2    | 1    | 1    | 3    | 1    | 1    | 1    |\n",
       "| 1    | 1    |  9   | 3    | 4    | 2799 | 1    | 2    | 2    | 3    | ...  | 2    | 1    | 36   | 2    | 1    | 2    | 3    | 2    | 1    | 1    |\n",
       "| 1    | 2    | 12   | 2    | 4    |  841 | 2    | 3    | 2    | 1    | ...  | 4    | 1    | 23   | 2    | 1    | 1    | 2    | 1    | 1    | 1    |\n",
       "| 1    | 1    | 12   | 3    | 4    | 2122 | 1    | 2    | 3    | 3    | ...  | 2    | 1    | 39   | 2    | 1    | 2    | 2    | 2    | 1    | 2    |\n",
       "| 1    | 1    | 12   | 3    | 4    | 2171 | 1    | 2    | 4    | 3    | ...  | 4    | 2    | 38   | 1    | 2    | 2    | 2    | 1    | 1    | 2    |\n",
       "| 1    | 1    | 10   | 3    | 4    | 2241 | 1    | 1    | 1    | 3    | ...  | 3    | 1    | 48   | 2    | 1    | 2    | 2    | 2    | 1    | 2    |\n",
       "\n"
      ],
      "text/plain": [
       "  credit.rating account.balance credit.duration.months\n",
       "1 1             1               18                    \n",
       "2 1             1                9                    \n",
       "3 1             2               12                    \n",
       "4 1             1               12                    \n",
       "5 1             1               12                    \n",
       "6 1             1               10                    \n",
       "  previous.credit.payment.status credit.purpose credit.amount savings\n",
       "1 3                              2              1049          1      \n",
       "2 3                              4              2799          1      \n",
       "3 2                              4               841          2      \n",
       "4 3                              4              2122          1      \n",
       "5 3                              4              2171          1      \n",
       "6 3                              4              2241          1      \n",
       "  employment.duration installment.rate marital.status ... residence.duration\n",
       "1 1                   4                1              ... 4                 \n",
       "2 2                   2                3              ... 2                 \n",
       "3 3                   2                1              ... 4                 \n",
       "4 2                   3                3              ... 2                 \n",
       "5 2                   4                3              ... 4                 \n",
       "6 1                   1                3              ... 3                 \n",
       "  current.assets age other.credits apartment.type bank.credits occupation\n",
       "1 2              21  2             1              1            3         \n",
       "2 1              36  2             1              2            3         \n",
       "3 1              23  2             1              1            2         \n",
       "4 1              39  2             1              2            2         \n",
       "5 2              38  1             2              2            2         \n",
       "6 1              48  2             1              2            2         \n",
       "  dependents telephone foreign.worker\n",
       "1 1          1         1             \n",
       "2 2          1         1             \n",
       "3 1          1         1             \n",
       "4 2          1         2             \n",
       "5 1          1         2             \n",
       "6 2          1         2             "
      ]
     },
     "metadata": {},
     "output_type": "display_data"
    }
   ],
   "source": [
    "# Carregando o dataset um um dataframe\n",
    "credito_dataset <- read.csv(\"credit_dataset_final.csv\", header = TRUE, sep = \",\")\n",
    "head(credito_dataset)"
   ]
  },
  {
   "cell_type": "code",
   "execution_count": 9,
   "metadata": {},
   "outputs": [
    {
     "data": {
      "text/plain": [
       " credit.rating account.balance credit.duration.months\n",
       " Min.   :0.0   Min.   :1.000   Min.   : 4.0          \n",
       " 1st Qu.:0.0   1st Qu.:1.000   1st Qu.:12.0          \n",
       " Median :1.0   Median :2.000   Median :18.0          \n",
       " Mean   :0.7   Mean   :2.183   Mean   :20.9          \n",
       " 3rd Qu.:1.0   3rd Qu.:3.000   3rd Qu.:24.0          \n",
       " Max.   :1.0   Max.   :3.000   Max.   :72.0          \n",
       " previous.credit.payment.status credit.purpose  credit.amount      savings     \n",
       " Min.   :1.000                  Min.   :1.000   Min.   :  250   Min.   :1.000  \n",
       " 1st Qu.:2.000                  1st Qu.:2.000   1st Qu.: 1366   1st Qu.:1.000  \n",
       " Median :2.000                  Median :3.000   Median : 2320   Median :1.000  \n",
       " Mean   :2.292                  Mean   :2.965   Mean   : 3271   Mean   :1.874  \n",
       " 3rd Qu.:3.000                  3rd Qu.:4.000   3rd Qu.: 3972   3rd Qu.:3.000  \n",
       " Max.   :3.000                  Max.   :4.000   Max.   :18424   Max.   :4.000  \n",
       " employment.duration installment.rate marital.status    guarantor    \n",
       " Min.   :1.000       Min.   :1.000    Min.   :1.000   Min.   :1.000  \n",
       " 1st Qu.:2.000       1st Qu.:2.000    1st Qu.:1.000   1st Qu.:1.000  \n",
       " Median :2.000       Median :3.000    Median :3.000   Median :1.000  \n",
       " Mean   :2.446       Mean   :2.973    Mean   :2.372   Mean   :1.093  \n",
       " 3rd Qu.:4.000       3rd Qu.:4.000    3rd Qu.:3.000   3rd Qu.:1.000  \n",
       " Max.   :4.000       Max.   :4.000    Max.   :4.000   Max.   :2.000  \n",
       " residence.duration current.assets       age        other.credits  \n",
       " Min.   :1.000      Min.   :1.000   Min.   :19.00   Min.   :1.000  \n",
       " 1st Qu.:2.000      1st Qu.:1.000   1st Qu.:27.00   1st Qu.:2.000  \n",
       " Median :3.000      Median :2.000   Median :33.00   Median :2.000  \n",
       " Mean   :2.845      Mean   :2.358   Mean   :35.54   Mean   :1.814  \n",
       " 3rd Qu.:4.000      3rd Qu.:3.000   3rd Qu.:42.00   3rd Qu.:2.000  \n",
       " Max.   :4.000      Max.   :4.000   Max.   :75.00   Max.   :2.000  \n",
       " apartment.type   bank.credits     occupation      dependents   \n",
       " Min.   :1.000   Min.   :1.000   Min.   :1.000   Min.   :1.000  \n",
       " 1st Qu.:2.000   1st Qu.:1.000   1st Qu.:3.000   1st Qu.:1.000  \n",
       " Median :2.000   Median :1.000   Median :3.000   Median :1.000  \n",
       " Mean   :1.928   Mean   :1.367   Mean   :2.904   Mean   :1.155  \n",
       " 3rd Qu.:2.000   3rd Qu.:2.000   3rd Qu.:3.000   3rd Qu.:1.000  \n",
       " Max.   :3.000   Max.   :2.000   Max.   :4.000   Max.   :2.000  \n",
       "   telephone     foreign.worker \n",
       " Min.   :1.000   Min.   :1.000  \n",
       " 1st Qu.:1.000   1st Qu.:1.000  \n",
       " Median :1.000   Median :1.000  \n",
       " Mean   :1.404   Mean   :1.037  \n",
       " 3rd Qu.:2.000   3rd Qu.:1.000  \n",
       " Max.   :2.000   Max.   :2.000  "
      ]
     },
     "metadata": {},
     "output_type": "display_data"
    }
   ],
   "source": [
    "summary(credito_dataset)"
   ]
  },
  {
   "cell_type": "code",
   "execution_count": 11,
   "metadata": {},
   "outputs": [
    {
     "name": "stdout",
     "output_type": "stream",
     "text": [
      "'data.frame':\t1000 obs. of  21 variables:\n",
      " $ credit.rating                 : int  1 1 1 1 1 1 1 1 1 1 ...\n",
      " $ account.balance               : int  1 1 2 1 1 1 1 1 3 2 ...\n",
      " $ credit.duration.months        : int  18 9 12 12 12 10 8 6 18 24 ...\n",
      " $ previous.credit.payment.status: int  3 3 2 3 3 3 3 3 3 2 ...\n",
      " $ credit.purpose                : int  2 4 4 4 4 4 4 4 3 3 ...\n",
      " $ credit.amount                 : int  1049 2799 841 2122 2171 2241 3398 1361 1098 3758 ...\n",
      " $ savings                       : int  1 1 2 1 1 1 1 1 1 3 ...\n",
      " $ employment.duration           : int  1 2 3 2 2 1 3 1 1 1 ...\n",
      " $ installment.rate              : int  4 2 2 3 4 1 1 2 4 1 ...\n",
      " $ marital.status                : int  1 3 1 3 3 3 3 3 1 1 ...\n",
      " $ guarantor                     : int  1 1 1 1 1 1 1 1 1 1 ...\n",
      " $ residence.duration            : int  4 2 4 2 4 3 4 4 4 4 ...\n",
      " $ current.assets                : int  2 1 1 1 2 1 1 1 3 4 ...\n",
      " $ age                           : int  21 36 23 39 38 48 39 40 65 23 ...\n",
      " $ other.credits                 : int  2 2 2 2 1 2 2 2 2 2 ...\n",
      " $ apartment.type                : int  1 1 1 1 2 1 2 2 2 1 ...\n",
      " $ bank.credits                  : int  1 2 1 2 2 2 2 1 2 1 ...\n",
      " $ occupation                    : int  3 3 2 2 2 2 2 2 1 1 ...\n",
      " $ dependents                    : int  1 2 1 2 1 2 1 2 1 1 ...\n",
      " $ telephone                     : int  1 1 1 1 1 1 1 1 1 1 ...\n",
      " $ foreign.worker                : int  1 1 1 2 2 2 2 2 1 1 ...\n"
     ]
    }
   ],
   "source": [
    "str(credito_dataset)"
   ]
  },
  {
   "cell_type": "code",
   "execution_count": 12,
   "metadata": {},
   "outputs": [
    {
     "ename": "ERROR",
     "evalue": "Error in View(credito_dataset): 'View()' not yet supported in the Jupyter R kernel\n",
     "output_type": "error",
     "traceback": [
      "Error in View(credito_dataset): 'View()' not yet supported in the Jupyter R kernel\nTraceback:\n",
      "1. View(credito_dataset)",
      "2. stop(sQuote(\"View()\"), \" not yet supported in the Jupyter R kernel\")"
     ]
    }
   ],
   "source": [
    "View(credito_dataset)"
   ]
  },
  {
   "cell_type": "markdown",
   "metadata": {},
   "source": [
    "## Pré-processamento"
   ]
  },
  {
   "cell_type": "code",
   "execution_count": 13,
   "metadata": {},
   "outputs": [],
   "source": [
    "# Transformando variáveis em fatores\n",
    "to.factors <- function(df, variables){\n",
    "  for (variable in variables){\n",
    "    df[[variable]] <- as.factor(df[[variable]])\n",
    "  }\n",
    "  return(df)\n",
    "}"
   ]
  },
  {
   "cell_type": "code",
   "execution_count": 14,
   "metadata": {},
   "outputs": [],
   "source": [
    "# Normalização\n",
    "scale.features <- function(df, variables){\n",
    "  for (variable in variables){\n",
    "    df[[variable]] <- scale(df[[variable]], center = T, scale = T)\n",
    "  }\n",
    "  return(df)\n",
    "}"
   ]
  },
  {
   "cell_type": "code",
   "execution_count": 15,
   "metadata": {},
   "outputs": [],
   "source": [
    "# Normalizando as variáveis\n",
    "numeric.vars <- c(\"credit.duration.months\", \"age\", \"credit.amount\")\n",
    "credito_dataset_scaled <- scale.features(credito_dataset, numeric.vars)"
   ]
  },
  {
   "cell_type": "code",
   "execution_count": 16,
   "metadata": {},
   "outputs": [],
   "source": [
    "# Variáveis do tipo fator\n",
    "categorical.vars <- c('credit.rating', 'account.balance', 'previous.credit.payment.status',\n",
    "                      'credit.purpose', 'savings', 'employment.duration', 'installment.rate',\n",
    "                      'marital.status', 'guarantor', 'residence.duration', 'current.assets',\n",
    "                      'other.credits', 'apartment.type', 'bank.credits', 'occupation', \n",
    "                      'dependents', 'telephone', 'foreign.worker')"
   ]
  },
  {
   "cell_type": "code",
   "execution_count": 18,
   "metadata": {},
   "outputs": [
    {
     "data": {
      "text/html": [
       "<table>\n",
       "<thead><tr><th scope=col>credit.rating</th><th scope=col>account.balance</th><th scope=col>credit.duration.months</th><th scope=col>previous.credit.payment.status</th><th scope=col>credit.purpose</th><th scope=col>credit.amount</th><th scope=col>savings</th><th scope=col>employment.duration</th><th scope=col>installment.rate</th><th scope=col>marital.status</th><th scope=col>...</th><th scope=col>residence.duration</th><th scope=col>current.assets</th><th scope=col>age</th><th scope=col>other.credits</th><th scope=col>apartment.type</th><th scope=col>bank.credits</th><th scope=col>occupation</th><th scope=col>dependents</th><th scope=col>telephone</th><th scope=col>foreign.worker</th></tr></thead>\n",
       "<tbody>\n",
       "\t<tr><td>1          </td><td>1          </td><td>-0.2407368 </td><td>3          </td><td>2          </td><td>-0.7872630 </td><td>1          </td><td>1          </td><td>4          </td><td>1          </td><td>...        </td><td>4          </td><td>2          </td><td>-1.28093214</td><td>2          </td><td>1          </td><td>1          </td><td>3          </td><td>1          </td><td>1          </td><td>1          </td></tr>\n",
       "\t<tr><td>1          </td><td>1          </td><td>-0.9870788 </td><td>3          </td><td>4          </td><td>-0.1673006 </td><td>1          </td><td>2          </td><td>2          </td><td>3          </td><td>...        </td><td>2          </td><td>1          </td><td> 0.04034293</td><td>2          </td><td>1          </td><td>2          </td><td>3          </td><td>2          </td><td>1          </td><td>1          </td></tr>\n",
       "\t<tr><td>1          </td><td>2          </td><td>-0.7382981 </td><td>2          </td><td>4          </td><td>-0.8609500 </td><td>2          </td><td>3          </td><td>2          </td><td>1          </td><td>...        </td><td>4          </td><td>1          </td><td>-1.10476213</td><td>2          </td><td>1          </td><td>1          </td><td>2          </td><td>1          </td><td>1          </td><td>1          </td></tr>\n",
       "\t<tr><td>1          </td><td>1          </td><td>-0.7382981 </td><td>3          </td><td>4          </td><td>-0.4071375 </td><td>1          </td><td>2          </td><td>3          </td><td>3          </td><td>...        </td><td>2          </td><td>1          </td><td> 0.30459795</td><td>2          </td><td>1          </td><td>2          </td><td>2          </td><td>2          </td><td>1          </td><td>2          </td></tr>\n",
       "\t<tr><td>1          </td><td>1          </td><td>-0.7382981 </td><td>3          </td><td>4          </td><td>-0.3897785 </td><td>1          </td><td>2          </td><td>4          </td><td>3          </td><td>...        </td><td>4          </td><td>2          </td><td> 0.21651294</td><td>1          </td><td>2          </td><td>2          </td><td>2          </td><td>1          </td><td>1          </td><td>2          </td></tr>\n",
       "\t<tr><td>1          </td><td>1          </td><td>-0.9041519 </td><td>3          </td><td>4          </td><td>-0.3649800 </td><td>1          </td><td>1          </td><td>1          </td><td>3          </td><td>...        </td><td>3          </td><td>1          </td><td> 1.09736299</td><td>2          </td><td>1          </td><td>2          </td><td>2          </td><td>2          </td><td>1          </td><td>2          </td></tr>\n",
       "</tbody>\n",
       "</table>\n"
      ],
      "text/latex": [
       "\\begin{tabular}{r|lllllllllllllllllllll}\n",
       " credit.rating & account.balance & credit.duration.months & previous.credit.payment.status & credit.purpose & credit.amount & savings & employment.duration & installment.rate & marital.status & ... & residence.duration & current.assets & age & other.credits & apartment.type & bank.credits & occupation & dependents & telephone & foreign.worker\\\\\n",
       "\\hline\n",
       "\t 1           & 1           & -0.2407368  & 3           & 2           & -0.7872630  & 1           & 1           & 4           & 1           & ...         & 4           & 2           & -1.28093214 & 2           & 1           & 1           & 3           & 1           & 1           & 1          \\\\\n",
       "\t 1           & 1           & -0.9870788  & 3           & 4           & -0.1673006  & 1           & 2           & 2           & 3           & ...         & 2           & 1           &  0.04034293 & 2           & 1           & 2           & 3           & 2           & 1           & 1          \\\\\n",
       "\t 1           & 2           & -0.7382981  & 2           & 4           & -0.8609500  & 2           & 3           & 2           & 1           & ...         & 4           & 1           & -1.10476213 & 2           & 1           & 1           & 2           & 1           & 1           & 1          \\\\\n",
       "\t 1           & 1           & -0.7382981  & 3           & 4           & -0.4071375  & 1           & 2           & 3           & 3           & ...         & 2           & 1           &  0.30459795 & 2           & 1           & 2           & 2           & 2           & 1           & 2          \\\\\n",
       "\t 1           & 1           & -0.7382981  & 3           & 4           & -0.3897785  & 1           & 2           & 4           & 3           & ...         & 4           & 2           &  0.21651294 & 1           & 2           & 2           & 2           & 1           & 1           & 2          \\\\\n",
       "\t 1           & 1           & -0.9041519  & 3           & 4           & -0.3649800  & 1           & 1           & 1           & 3           & ...         & 3           & 1           &  1.09736299 & 2           & 1           & 2           & 2           & 2           & 1           & 2          \\\\\n",
       "\\end{tabular}\n"
      ],
      "text/markdown": [
       "\n",
       "| credit.rating | account.balance | credit.duration.months | previous.credit.payment.status | credit.purpose | credit.amount | savings | employment.duration | installment.rate | marital.status | ... | residence.duration | current.assets | age | other.credits | apartment.type | bank.credits | occupation | dependents | telephone | foreign.worker |\n",
       "|---|---|---|---|---|---|---|---|---|---|---|---|---|---|---|---|---|---|---|---|---|\n",
       "| 1           | 1           | -0.2407368  | 3           | 2           | -0.7872630  | 1           | 1           | 4           | 1           | ...         | 4           | 2           | -1.28093214 | 2           | 1           | 1           | 3           | 1           | 1           | 1           |\n",
       "| 1           | 1           | -0.9870788  | 3           | 4           | -0.1673006  | 1           | 2           | 2           | 3           | ...         | 2           | 1           |  0.04034293 | 2           | 1           | 2           | 3           | 2           | 1           | 1           |\n",
       "| 1           | 2           | -0.7382981  | 2           | 4           | -0.8609500  | 2           | 3           | 2           | 1           | ...         | 4           | 1           | -1.10476213 | 2           | 1           | 1           | 2           | 1           | 1           | 1           |\n",
       "| 1           | 1           | -0.7382981  | 3           | 4           | -0.4071375  | 1           | 2           | 3           | 3           | ...         | 2           | 1           |  0.30459795 | 2           | 1           | 2           | 2           | 2           | 1           | 2           |\n",
       "| 1           | 1           | -0.7382981  | 3           | 4           | -0.3897785  | 1           | 2           | 4           | 3           | ...         | 4           | 2           |  0.21651294 | 1           | 2           | 2           | 2           | 1           | 1           | 2           |\n",
       "| 1           | 1           | -0.9041519  | 3           | 4           | -0.3649800  | 1           | 1           | 1           | 3           | ...         | 3           | 1           |  1.09736299 | 2           | 1           | 2           | 2           | 2           | 1           | 2           |\n",
       "\n"
      ],
      "text/plain": [
       "  credit.rating account.balance credit.duration.months\n",
       "1 1             1               -0.2407368            \n",
       "2 1             1               -0.9870788            \n",
       "3 1             2               -0.7382981            \n",
       "4 1             1               -0.7382981            \n",
       "5 1             1               -0.7382981            \n",
       "6 1             1               -0.9041519            \n",
       "  previous.credit.payment.status credit.purpose credit.amount savings\n",
       "1 3                              2              -0.7872630    1      \n",
       "2 3                              4              -0.1673006    1      \n",
       "3 2                              4              -0.8609500    2      \n",
       "4 3                              4              -0.4071375    1      \n",
       "5 3                              4              -0.3897785    1      \n",
       "6 3                              4              -0.3649800    1      \n",
       "  employment.duration installment.rate marital.status ... residence.duration\n",
       "1 1                   4                1              ... 4                 \n",
       "2 2                   2                3              ... 2                 \n",
       "3 3                   2                1              ... 4                 \n",
       "4 2                   3                3              ... 2                 \n",
       "5 2                   4                3              ... 4                 \n",
       "6 1                   1                3              ... 3                 \n",
       "  current.assets age         other.credits apartment.type bank.credits\n",
       "1 2              -1.28093214 2             1              1           \n",
       "2 1               0.04034293 2             1              2           \n",
       "3 1              -1.10476213 2             1              1           \n",
       "4 1               0.30459795 2             1              2           \n",
       "5 2               0.21651294 1             2              2           \n",
       "6 1               1.09736299 2             1              2           \n",
       "  occupation dependents telephone foreign.worker\n",
       "1 3          1          1         1             \n",
       "2 3          2          1         1             \n",
       "3 2          1          1         1             \n",
       "4 2          2          1         2             \n",
       "5 2          1          1         2             \n",
       "6 2          2          1         2             "
      ]
     },
     "metadata": {},
     "output_type": "display_data"
    }
   ],
   "source": [
    "# Aplicando as conversões ao dataset\n",
    "credito_dataset_final <- to.factors(df = credito_dataset_scaled, variables = categorical.vars)\n",
    "head(credito_dataset_final)"
   ]
  },
  {
   "cell_type": "code",
   "execution_count": 19,
   "metadata": {},
   "outputs": [
    {
     "data": {
      "text/plain": [
       " credit.rating account.balance credit.duration.months.V1\n",
       " 0:300         1:274           Min.   :-1.401713        \n",
       " 1:700         2:269           1st Qu.:-0.738298        \n",
       "               3:457           Median :-0.240737        \n",
       "                               Mean   : 0.000000        \n",
       "                               3rd Qu.: 0.256825        \n",
       "                               Max.   : 4.237315        \n",
       " previous.credit.payment.status credit.purpose  credit.amount.V1   savings\n",
       " 1: 89                          1:103          Min.   :-1.070320   1:603  \n",
       " 2:530                          2:181          1st Qu.:-0.675138   2:103  \n",
       " 3:381                          3:364          Median :-0.337170   3:111  \n",
       "                                4:352          Mean   : 0.000000   4:183  \n",
       "                                               3rd Qu.: 0.248340          \n",
       "                                               Max.   : 5.368078          \n",
       " employment.duration installment.rate marital.status guarantor\n",
       " 1:234               1:136            1:360          1:907    \n",
       " 2:339               2:231            3:548          2: 93    \n",
       " 3:174               3:157            4: 92                   \n",
       " 4:253               4:476                                    \n",
       "                                                              \n",
       "                                                              \n",
       " residence.duration current.assets       age.V1        other.credits\n",
       " 1:130              1:282          Min.   :-1.457102   1:186        \n",
       " 2:308              2:232          1st Qu.:-0.752422   2:814        \n",
       " 3:149              3:332          Median :-0.223912                \n",
       " 4:413              4:154          Mean   : 0.000000                \n",
       "                                   3rd Qu.: 0.568853                \n",
       "                                   Max.   : 3.475658                \n",
       " apartment.type bank.credits occupation dependents telephone foreign.worker\n",
       " 1:179          1:633        1: 22      1:845      1:596     1:963         \n",
       " 2:714          2:367        2:200      2:155      2:404     2: 37         \n",
       " 3:107                       3:630                                         \n",
       "                             4:148                                         \n",
       "                                                                           \n",
       "                                                                           "
      ]
     },
     "metadata": {},
     "output_type": "display_data"
    }
   ],
   "source": [
    "summary(credito_dataset_final)"
   ]
  },
  {
   "cell_type": "code",
   "execution_count": 30,
   "metadata": {},
   "outputs": [
    {
     "data": {
      "text/html": [
       "<table>\n",
       "<thead><tr><th scope=col>credit.rating</th><th scope=col>account.balance</th><th scope=col>credit.duration.months</th><th scope=col>previous.credit.payment.status</th><th scope=col>credit.purpose</th><th scope=col>credit.amount</th><th scope=col>savings</th><th scope=col>employment.duration</th><th scope=col>installment.rate</th><th scope=col>marital.status</th><th scope=col>...</th><th scope=col>residence.duration</th><th scope=col>current.assets</th><th scope=col>age</th><th scope=col>other.credits</th><th scope=col>apartment.type</th><th scope=col>bank.credits</th><th scope=col>occupation</th><th scope=col>dependents</th><th scope=col>telephone</th><th scope=col>foreign.worker</th></tr></thead>\n",
       "<tbody>\n",
       "\t<tr><td>1          </td><td>1          </td><td>-0.2407368 </td><td>3          </td><td>2          </td><td>-0.7872630 </td><td>1          </td><td>1          </td><td>4          </td><td>1          </td><td>...        </td><td>4          </td><td>2          </td><td>-1.28093214</td><td>2          </td><td>1          </td><td>1          </td><td>3          </td><td>1          </td><td>1          </td><td>1          </td></tr>\n",
       "\t<tr><td>1          </td><td>1          </td><td>-0.9870788 </td><td>3          </td><td>4          </td><td>-0.1673006 </td><td>1          </td><td>2          </td><td>2          </td><td>3          </td><td>...        </td><td>2          </td><td>1          </td><td> 0.04034293</td><td>2          </td><td>1          </td><td>2          </td><td>3          </td><td>2          </td><td>1          </td><td>1          </td></tr>\n",
       "\t<tr><td>1          </td><td>2          </td><td>-0.7382981 </td><td>2          </td><td>4          </td><td>-0.8609500 </td><td>2          </td><td>3          </td><td>2          </td><td>1          </td><td>...        </td><td>4          </td><td>1          </td><td>-1.10476213</td><td>2          </td><td>1          </td><td>1          </td><td>2          </td><td>1          </td><td>1          </td><td>1          </td></tr>\n",
       "\t<tr><td>1          </td><td>1          </td><td>-0.7382981 </td><td>3          </td><td>4          </td><td>-0.4071375 </td><td>1          </td><td>2          </td><td>3          </td><td>3          </td><td>...        </td><td>2          </td><td>1          </td><td> 0.30459795</td><td>2          </td><td>1          </td><td>2          </td><td>2          </td><td>2          </td><td>1          </td><td>2          </td></tr>\n",
       "\t<tr><td>1          </td><td>1          </td><td>-0.7382981 </td><td>3          </td><td>4          </td><td>-0.3897785 </td><td>1          </td><td>2          </td><td>4          </td><td>3          </td><td>...        </td><td>4          </td><td>2          </td><td> 0.21651294</td><td>1          </td><td>2          </td><td>2          </td><td>2          </td><td>1          </td><td>1          </td><td>2          </td></tr>\n",
       "\t<tr><td>1          </td><td>1          </td><td>-0.9041519 </td><td>3          </td><td>4          </td><td>-0.3649800 </td><td>1          </td><td>1          </td><td>1          </td><td>3          </td><td>...        </td><td>3          </td><td>1          </td><td> 1.09736299</td><td>2          </td><td>1          </td><td>2          </td><td>2          </td><td>2          </td><td>1          </td><td>2          </td></tr>\n",
       "</tbody>\n",
       "</table>\n"
      ],
      "text/latex": [
       "\\begin{tabular}{r|lllllllllllllllllllll}\n",
       " credit.rating & account.balance & credit.duration.months & previous.credit.payment.status & credit.purpose & credit.amount & savings & employment.duration & installment.rate & marital.status & ... & residence.duration & current.assets & age & other.credits & apartment.type & bank.credits & occupation & dependents & telephone & foreign.worker\\\\\n",
       "\\hline\n",
       "\t 1           & 1           & -0.2407368  & 3           & 2           & -0.7872630  & 1           & 1           & 4           & 1           & ...         & 4           & 2           & -1.28093214 & 2           & 1           & 1           & 3           & 1           & 1           & 1          \\\\\n",
       "\t 1           & 1           & -0.9870788  & 3           & 4           & -0.1673006  & 1           & 2           & 2           & 3           & ...         & 2           & 1           &  0.04034293 & 2           & 1           & 2           & 3           & 2           & 1           & 1          \\\\\n",
       "\t 1           & 2           & -0.7382981  & 2           & 4           & -0.8609500  & 2           & 3           & 2           & 1           & ...         & 4           & 1           & -1.10476213 & 2           & 1           & 1           & 2           & 1           & 1           & 1          \\\\\n",
       "\t 1           & 1           & -0.7382981  & 3           & 4           & -0.4071375  & 1           & 2           & 3           & 3           & ...         & 2           & 1           &  0.30459795 & 2           & 1           & 2           & 2           & 2           & 1           & 2          \\\\\n",
       "\t 1           & 1           & -0.7382981  & 3           & 4           & -0.3897785  & 1           & 2           & 4           & 3           & ...         & 4           & 2           &  0.21651294 & 1           & 2           & 2           & 2           & 1           & 1           & 2          \\\\\n",
       "\t 1           & 1           & -0.9041519  & 3           & 4           & -0.3649800  & 1           & 1           & 1           & 3           & ...         & 3           & 1           &  1.09736299 & 2           & 1           & 2           & 2           & 2           & 1           & 2          \\\\\n",
       "\\end{tabular}\n"
      ],
      "text/markdown": [
       "\n",
       "| credit.rating | account.balance | credit.duration.months | previous.credit.payment.status | credit.purpose | credit.amount | savings | employment.duration | installment.rate | marital.status | ... | residence.duration | current.assets | age | other.credits | apartment.type | bank.credits | occupation | dependents | telephone | foreign.worker |\n",
       "|---|---|---|---|---|---|---|---|---|---|---|---|---|---|---|---|---|---|---|---|---|\n",
       "| 1           | 1           | -0.2407368  | 3           | 2           | -0.7872630  | 1           | 1           | 4           | 1           | ...         | 4           | 2           | -1.28093214 | 2           | 1           | 1           | 3           | 1           | 1           | 1           |\n",
       "| 1           | 1           | -0.9870788  | 3           | 4           | -0.1673006  | 1           | 2           | 2           | 3           | ...         | 2           | 1           |  0.04034293 | 2           | 1           | 2           | 3           | 2           | 1           | 1           |\n",
       "| 1           | 2           | -0.7382981  | 2           | 4           | -0.8609500  | 2           | 3           | 2           | 1           | ...         | 4           | 1           | -1.10476213 | 2           | 1           | 1           | 2           | 1           | 1           | 1           |\n",
       "| 1           | 1           | -0.7382981  | 3           | 4           | -0.4071375  | 1           | 2           | 3           | 3           | ...         | 2           | 1           |  0.30459795 | 2           | 1           | 2           | 2           | 2           | 1           | 2           |\n",
       "| 1           | 1           | -0.7382981  | 3           | 4           | -0.3897785  | 1           | 2           | 4           | 3           | ...         | 4           | 2           |  0.21651294 | 1           | 2           | 2           | 2           | 1           | 1           | 2           |\n",
       "| 1           | 1           | -0.9041519  | 3           | 4           | -0.3649800  | 1           | 1           | 1           | 3           | ...         | 3           | 1           |  1.09736299 | 2           | 1           | 2           | 2           | 2           | 1           | 2           |\n",
       "\n"
      ],
      "text/plain": [
       "  credit.rating account.balance credit.duration.months\n",
       "1 1             1               -0.2407368            \n",
       "2 1             1               -0.9870788            \n",
       "3 1             2               -0.7382981            \n",
       "4 1             1               -0.7382981            \n",
       "5 1             1               -0.7382981            \n",
       "6 1             1               -0.9041519            \n",
       "  previous.credit.payment.status credit.purpose credit.amount savings\n",
       "1 3                              2              -0.7872630    1      \n",
       "2 3                              4              -0.1673006    1      \n",
       "3 2                              4              -0.8609500    2      \n",
       "4 3                              4              -0.4071375    1      \n",
       "5 3                              4              -0.3897785    1      \n",
       "6 3                              4              -0.3649800    1      \n",
       "  employment.duration installment.rate marital.status ... residence.duration\n",
       "1 1                   4                1              ... 4                 \n",
       "2 2                   2                3              ... 2                 \n",
       "3 3                   2                1              ... 4                 \n",
       "4 2                   3                3              ... 2                 \n",
       "5 2                   4                3              ... 4                 \n",
       "6 1                   1                3              ... 3                 \n",
       "  current.assets age         other.credits apartment.type bank.credits\n",
       "1 2              -1.28093214 2             1              1           \n",
       "2 1               0.04034293 2             1              2           \n",
       "3 1              -1.10476213 2             1              1           \n",
       "4 1               0.30459795 2             1              2           \n",
       "5 2               0.21651294 1             2              2           \n",
       "6 1               1.09736299 2             1              2           \n",
       "  occupation dependents telephone foreign.worker\n",
       "1 3          1          1         1             \n",
       "2 3          2          1         1             \n",
       "3 2          1          1         1             \n",
       "4 2          2          1         2             \n",
       "5 2          1          1         2             \n",
       "6 2          2          1         2             "
      ]
     },
     "metadata": {},
     "output_type": "display_data"
    }
   ],
   "source": [
    "#View(credito_dataset_final)\n",
    "head(credito_dataset_final)"
   ]
  },
  {
   "cell_type": "code",
   "execution_count": 21,
   "metadata": {},
   "outputs": [
    {
     "data": {
      "text/html": [
       "'data.frame'"
      ],
      "text/latex": [
       "'data.frame'"
      ],
      "text/markdown": [
       "'data.frame'"
      ],
      "text/plain": [
       "[1] \"data.frame\""
      ]
     },
     "metadata": {},
     "output_type": "display_data"
    },
    {
     "data": {
      "text/html": [
       "'data.frame'"
      ],
      "text/latex": [
       "'data.frame'"
      ],
      "text/markdown": [
       "'data.frame'"
      ],
      "text/plain": [
       "[1] \"data.frame\""
      ]
     },
     "metadata": {},
     "output_type": "display_data"
    }
   ],
   "source": [
    "# Preparando os dados de treino e de teste\n",
    "indexes <- sample(1:nrow(credito_dataset_final), size = 0.6 * nrow(credito_dataset_final))\n",
    "train.data <- credito_dataset_final[indexes,]\n",
    "test.data <- credito_dataset_final[-indexes,]\n",
    "class(train.data)\n",
    "class(test.data)"
   ]
  },
  {
   "cell_type": "code",
   "execution_count": 22,
   "metadata": {},
   "outputs": [
    {
     "data": {
      "text/html": [
       "'data.frame'"
      ],
      "text/latex": [
       "'data.frame'"
      ],
      "text/markdown": [
       "'data.frame'"
      ],
      "text/plain": [
       "[1] \"data.frame\""
      ]
     },
     "metadata": {},
     "output_type": "display_data"
    }
   ],
   "source": [
    "# Separando os atributos e as classes\n",
    "test.feature.vars <- test.data[,-1]\n",
    "test.class.var <- test.data[,1]\n",
    "class(test.feature.vars)"
   ]
  },
  {
   "cell_type": "code",
   "execution_count": 23,
   "metadata": {},
   "outputs": [],
   "source": [
    "# Construindo o modelo de regressão logística\n",
    "formula.init <- \"credit.rating ~ .\"\n",
    "formula.init <- as.formula(formula.init)\n",
    "help(glm)\n",
    "modelo_v1 <- glm(formula = formula.init, data = train.data, family = \"binomial\")"
   ]
  },
  {
   "cell_type": "code",
   "execution_count": 24,
   "metadata": {},
   "outputs": [
    {
     "data": {
      "text/plain": [
       "\n",
       "Call:\n",
       "glm(formula = formula.init, family = \"binomial\", data = train.data)\n",
       "\n",
       "Deviance Residuals: \n",
       "    Min       1Q   Median       3Q      Max  \n",
       "-2.8702  -0.7207   0.4138   0.7285   1.7796  \n",
       "\n",
       "Coefficients:\n",
       "                                Estimate Std. Error z value Pr(>|z|)    \n",
       "(Intercept)                      0.37484    0.99031   0.379 0.705051    \n",
       "account.balance2                 0.70694    0.29238   2.418 0.015610 *  \n",
       "account.balance3                 1.73962    0.27650   6.292 3.14e-10 ***\n",
       "credit.duration.months          -0.33170    0.15036  -2.206 0.027379 *  \n",
       "previous.credit.payment.status2  0.49037    0.38514   1.273 0.202936    \n",
       "previous.credit.payment.status3  0.97107    0.38798   2.503 0.012318 *  \n",
       "credit.purpose2                 -1.50555    0.52346  -2.876 0.004025 ** \n",
       "credit.purpose3                 -1.32057    0.49594  -2.663 0.007750 ** \n",
       "credit.purpose4                 -1.61259    0.48408  -3.331 0.000865 ***\n",
       "credit.amount                   -0.37953    0.17332  -2.190 0.028541 *  \n",
       "savings2                         0.25266    0.37396   0.676 0.499274    \n",
       "savings3                         0.19711    0.35435   0.556 0.578030    \n",
       "savings4                         1.08576    0.36778   2.952 0.003155 ** \n",
       "employment.duration2             0.13494    0.30207   0.447 0.655074    \n",
       "employment.duration3             0.66567    0.37170   1.791 0.073314 .  \n",
       "employment.duration4             0.12860    0.35327   0.364 0.715836    \n",
       "installment.rate2               -0.71961    0.41242  -1.745 0.081008 .  \n",
       "installment.rate3               -0.84609    0.47130  -1.795 0.072616 .  \n",
       "installment.rate4               -1.40499    0.41634  -3.375 0.000739 ***\n",
       "marital.status3                  0.70798    0.26072   2.715 0.006619 ** \n",
       "marital.status4                  0.20850    0.40824   0.511 0.609550    \n",
       "guarantor2                       0.36293    0.41085   0.883 0.377032    \n",
       "residence.duration2             -0.57300    0.38254  -1.498 0.134158    \n",
       "residence.duration3             -0.53251    0.42623  -1.249 0.211543    \n",
       "residence.duration4             -0.04614    0.39171  -0.118 0.906240    \n",
       "current.assets2                 -0.33893    0.32479  -1.044 0.296690    \n",
       "current.assets3                 -0.15258    0.30429  -0.501 0.616058    \n",
       "current.assets4                 -0.81085    0.48367  -1.676 0.093650 .  \n",
       "age                              0.01706    0.13776   0.124 0.901466    \n",
       "other.credits2                   0.38510    0.27540   1.398 0.162019    \n",
       "apartment.type2                  0.55093    0.30829   1.787 0.073926 .  \n",
       "apartment.type3                  0.75843    0.56929   1.332 0.182777    \n",
       "bank.credits2                   -0.14070    0.28817  -0.488 0.625364    \n",
       "occupation2                      0.14352    0.72791   0.197 0.843693    \n",
       "occupation3                      0.36139    0.70352   0.514 0.607474    \n",
       "occupation4                      0.29926    0.75273   0.398 0.690949    \n",
       "dependents2                     -0.32011    0.31354  -1.021 0.307274    \n",
       "telephone2                       0.31124    0.26800   1.161 0.245508    \n",
       "foreign.worker2                  1.12981    0.69173   1.633 0.102403    \n",
       "---\n",
       "Signif. codes:  0 '***' 0.001 '**' 0.01 '*' 0.05 '.' 0.1 ' ' 1\n",
       "\n",
       "(Dispersion parameter for binomial family taken to be 1)\n",
       "\n",
       "    Null deviance: 727.88  on 599  degrees of freedom\n",
       "Residual deviance: 554.06  on 561  degrees of freedom\n",
       "AIC: 632.06\n",
       "\n",
       "Number of Fisher Scoring iterations: 5\n"
      ]
     },
     "metadata": {},
     "output_type": "display_data"
    }
   ],
   "source": [
    "# Visualizando os detalhes do modelo\n",
    "summary(modelo_v1)"
   ]
  },
  {
   "cell_type": "code",
   "execution_count": 26,
   "metadata": {},
   "outputs": [
    {
     "data": {
      "text/html": [
       "<dl class=dl-horizontal>\n",
       "\t<dt>5</dt>\n",
       "\t\t<dd>1</dd>\n",
       "\t<dt>12</dt>\n",
       "\t\t<dd>1</dd>\n",
       "\t<dt>13</dt>\n",
       "\t\t<dd>1</dd>\n",
       "\t<dt>19</dt>\n",
       "\t\t<dd>1</dd>\n",
       "\t<dt>21</dt>\n",
       "\t\t<dd>1</dd>\n",
       "\t<dt>22</dt>\n",
       "\t\t<dd>1</dd>\n",
       "</dl>\n"
      ],
      "text/latex": [
       "\\begin{description*}\n",
       "\\item[5] 1\n",
       "\\item[12] 1\n",
       "\\item[13] 1\n",
       "\\item[19] 1\n",
       "\\item[21] 1\n",
       "\\item[22] 1\n",
       "\\end{description*}\n"
      ],
      "text/markdown": [
       "5\n",
       ":   112\n",
       ":   113\n",
       ":   119\n",
       ":   121\n",
       ":   122\n",
       ":   1\n",
       "\n"
      ],
      "text/plain": [
       " 5 12 13 19 21 22 \n",
       " 1  1  1  1  1  1 "
      ]
     },
     "metadata": {},
     "output_type": "display_data"
    }
   ],
   "source": [
    "# Fazendo previsões e analisando o resultado\n",
    "previsoes <- predict(modelo_v1, test.data, type = \"response\")\n",
    "previsoes <- round(previsoes)\n",
    "#View(previsoes)\n",
    "head(previsoes)"
   ]
  },
  {
   "cell_type": "code",
   "execution_count": 27,
   "metadata": {},
   "outputs": [
    {
     "data": {
      "text/plain": [
       "Confusion Matrix and Statistics\n",
       "\n",
       "    reference\n",
       "data   0   1\n",
       "   0  61  34\n",
       "   1  62 243\n",
       "                                         \n",
       "               Accuracy : 0.76           \n",
       "                 95% CI : (0.7151, 0.801)\n",
       "    No Information Rate : 0.6925         \n",
       "    P-Value [Acc > NIR] : 0.001697       \n",
       "                                         \n",
       "                  Kappa : 0.3984         \n",
       "                                         \n",
       " Mcnemar's Test P-Value : 0.005857       \n",
       "                                         \n",
       "            Sensitivity : 0.8773         \n",
       "            Specificity : 0.4959         \n",
       "         Pos Pred Value : 0.7967         \n",
       "         Neg Pred Value : 0.6421         \n",
       "             Prevalence : 0.6925         \n",
       "         Detection Rate : 0.6075         \n",
       "   Detection Prevalence : 0.7625         \n",
       "      Balanced Accuracy : 0.6866         \n",
       "                                         \n",
       "       'Positive' Class : 1              \n",
       "                                         "
      ]
     },
     "metadata": {},
     "output_type": "display_data"
    }
   ],
   "source": [
    "# Confusion Matrix\n",
    "confusionMatrix(table(data = previsoes, reference = test.class.var), positive = '1')"
   ]
  },
  {
   "cell_type": "code",
   "execution_count": 28,
   "metadata": {},
   "outputs": [],
   "source": [
    "# Feature Selection\n",
    "formula <- \"credit.rating ~ .\"\n",
    "formula <- as.formula(formula)\n",
    "control <- trainControl(method = \"repeatedcv\", number = 10, repeats = 2)\n",
    "model <- train(formula, data = train.data, method = \"glm\", trControl = control)\n",
    "importance <- varImp(model, scale = FALSE)"
   ]
  },
  {
   "cell_type": "code",
   "execution_count": 29,
   "metadata": {},
   "outputs": [
    {
     "data": {
      "image/png": "[encoded data removed]",
      "text/plain": [
       "plot without title"
      ]
     },
     "metadata": {},
     "output_type": "display_data"
    }
   ],
   "source": [
    "# Plot\n",
    "plot(importance)"
   ]
  },
  {
   "cell_type": "code",
   "execution_count": 31,
   "metadata": {},
   "outputs": [],
   "source": [
    "# Construindo um novo modelo com as variáveis selecionadas\n",
    "formula.new <- \"credit.rating ~ account.balance + credit.purpose + previous.credit.payment.status + savings + credit.duration.months\"\n",
    "formula.new <- as.formula(formula.new)\n",
    "modelo_v2 <- glm(formula = formula.new, data = train.data, family = \"binomial\")"
   ]
  },
  {
   "cell_type": "code",
   "execution_count": 32,
   "metadata": {},
   "outputs": [
    {
     "data": {
      "text/plain": [
       "\n",
       "Call:\n",
       "glm(formula = formula.new, family = \"binomial\", data = train.data)\n",
       "\n",
       "Deviance Residuals: \n",
       "    Min       1Q   Median       3Q      Max  \n",
       "-2.5527  -0.8730   0.4958   0.7915   1.8092  \n",
       "\n",
       "Coefficients:\n",
       "                                Estimate Std. Error z value Pr(>|z|)    \n",
       "(Intercept)                       0.3505     0.5004   0.700  0.48371    \n",
       "account.balance2                  0.5623     0.2566   2.191  0.02844 *  \n",
       "account.balance3                  1.6307     0.2506   6.506 7.71e-11 ***\n",
       "credit.purpose2                  -1.4432     0.4678  -3.085  0.00204 ** \n",
       "credit.purpose3                  -1.2265     0.4408  -2.783  0.00539 ** \n",
       "credit.purpose4                  -1.3860     0.4381  -3.163  0.00156 ** \n",
       "previous.credit.payment.status2   0.7242     0.3362   2.154  0.03123 *  \n",
       "previous.credit.payment.status3   1.1225     0.3432   3.271  0.00107 ** \n",
       "savings2                          0.2517     0.3421   0.736  0.46181    \n",
       "savings3                          0.1854     0.3351   0.553  0.58010    \n",
       "savings4                          0.9697     0.3373   2.875  0.00404 ** \n",
       "credit.duration.months           -0.5039     0.1022  -4.930 8.21e-07 ***\n",
       "---\n",
       "Signif. codes:  0 '***' 0.001 '**' 0.01 '*' 0.05 '.' 0.1 ' ' 1\n",
       "\n",
       "(Dispersion parameter for binomial family taken to be 1)\n",
       "\n",
       "    Null deviance: 727.88  on 599  degrees of freedom\n",
       "Residual deviance: 600.12  on 588  degrees of freedom\n",
       "AIC: 624.12\n",
       "\n",
       "Number of Fisher Scoring iterations: 5\n"
      ]
     },
     "metadata": {},
     "output_type": "display_data"
    }
   ],
   "source": [
    "# Visualizando o novo modelo\n",
    "summary(modelo_v2)"
   ]
  },
  {
   "cell_type": "code",
   "execution_count": 33,
   "metadata": {},
   "outputs": [],
   "source": [
    "# Prevendo e Avaliando o modelo \n",
    "previsoes_new <- predict(modelo_v2, test.data, type = \"response\") \n",
    "previsoes_new <- round(previsoes_new)"
   ]
  },
  {
   "cell_type": "code",
   "execution_count": 34,
   "metadata": {},
   "outputs": [
    {
     "data": {
      "text/plain": [
       "Confusion Matrix and Statistics\n",
       "\n",
       "    reference\n",
       "data   0   1\n",
       "   0  48  25\n",
       "   1  75 252\n",
       "                                          \n",
       "               Accuracy : 0.75            \n",
       "                 95% CI : (0.7046, 0.7917)\n",
       "    No Information Rate : 0.6925          \n",
       "    P-Value [Acc > NIR] : 0.006627        \n",
       "                                          \n",
       "                  Kappa : 0.3382          \n",
       "                                          \n",
       " Mcnemar's Test P-Value : 9.584e-07       \n",
       "                                          \n",
       "            Sensitivity : 0.9097          \n",
       "            Specificity : 0.3902          \n",
       "         Pos Pred Value : 0.7706          \n",
       "         Neg Pred Value : 0.6575          \n",
       "             Prevalence : 0.6925          \n",
       "         Detection Rate : 0.6300          \n",
       "   Detection Prevalence : 0.8175          \n",
       "      Balanced Accuracy : 0.6500          \n",
       "                                          \n",
       "       'Positive' Class : 1               \n",
       "                                          "
      ]
     },
     "metadata": {},
     "output_type": "display_data"
    }
   ],
   "source": [
    "# Confusion Matrix\n",
    "confusionMatrix(table(data = previsoes_new, reference = test.class.var), positive = '1')"
   ]
  },
  {
   "cell_type": "markdown",
   "metadata": {},
   "source": [
    "## Avaliando a performance do modelo"
   ]
  },
  {
   "cell_type": "code",
   "execution_count": 35,
   "metadata": {},
   "outputs": [],
   "source": [
    "# Plot do modelo com melhor acurácia\n",
    "modelo_final <- modelo_v2\n",
    "previsoes <- predict(modelo_final, test.feature.vars, type = \"response\")\n",
    "previsoes_finais <- prediction(previsoes, test.class.var)"
   ]
  },
  {
   "cell_type": "code",
   "execution_count": 36,
   "metadata": {},
   "outputs": [],
   "source": [
    "# Função para Plot ROC \n",
    "plot.roc.curve <- function(predictions, title.text){\n",
    "  perf <- performance(predictions, \"tpr\", \"fpr\")\n",
    "  plot(perf,col = \"black\",lty = 1, lwd = 2,\n",
    "       main = title.text, cex.main = 0.6, cex.lab = 0.8,xaxs = \"i\", yaxs = \"i\")\n",
    "  abline(0,1, col = \"red\")\n",
    "  auc <- performance(predictions,\"auc\")\n",
    "  auc <- unlist(slot(auc, \"y.values\"))\n",
    "  auc <- round(auc,2)\n",
    "  legend(0.4,0.4,legend = c(paste0(\"AUC: \",auc)), cex = 0.6, bty = \"n\", box.col = \"white\")\n",
    "  \n",
    "}"
   ]
  },
  {
   "cell_type": "code",
   "execution_count": 37,
   "metadata": {},
   "outputs": [
    {
     "data": {
      "image/png": "[encoded data removed]",
      "text/plain": [
       "Plot with title \"Curva ROC\""
      ]
     },
     "metadata": {},
     "output_type": "display_data"
    }
   ],
   "source": [
    "# Plot\n",
    "par(mfrow = c(1, 2))\n",
    "plot.roc.curve(previsoes_finais, title.text = \"Curva ROC\")"
   ]
  },
  {
   "cell_type": "markdown",
   "metadata": {},
   "source": [
    "## Fazendo previsões em novos dados"
   ]
  },
  {
   "cell_type": "code",
   "execution_count": 38,
   "metadata": {},
   "outputs": [],
   "source": [
    "# Novos dados\n",
    "account.balance <- c(1, 4, 3)\n",
    "credit.purpose <- c(4, 2, 3)\n",
    "previous.credit.payment.status <- c(3, 3, 2)\n",
    "savings <- c(2, 3, 2)\n",
    "credit.duration.months <- c(15, 12, 8)"
   ]
  },
  {
   "cell_type": "code",
   "execution_count": 40,
   "metadata": {},
   "outputs": [
    {
     "data": {
      "text/html": [
       "<table>\n",
       "<thead><tr><th scope=col>account.balance</th><th scope=col>credit.purpose</th><th scope=col>previous.credit.payment.status</th><th scope=col>savings</th><th scope=col>credit.duration.months</th></tr></thead>\n",
       "<tbody>\n",
       "\t<tr><td>1 </td><td>4 </td><td>3 </td><td>2 </td><td>15</td></tr>\n",
       "\t<tr><td>4 </td><td>2 </td><td>3 </td><td>3 </td><td>12</td></tr>\n",
       "\t<tr><td>3 </td><td>3 </td><td>2 </td><td>2 </td><td> 8</td></tr>\n",
       "</tbody>\n",
       "</table>\n"
      ],
      "text/latex": [
       "\\begin{tabular}{r|lllll}\n",
       " account.balance & credit.purpose & previous.credit.payment.status & savings & credit.duration.months\\\\\n",
       "\\hline\n",
       "\t 1  & 4  & 3  & 2  & 15\\\\\n",
       "\t 4  & 2  & 3  & 3  & 12\\\\\n",
       "\t 3  & 3  & 2  & 2  &  8\\\\\n",
       "\\end{tabular}\n"
      ],
      "text/markdown": [
       "\n",
       "| account.balance | credit.purpose | previous.credit.payment.status | savings | credit.duration.months |\n",
       "|---|---|---|---|---|\n",
       "| 1  | 4  | 3  | 2  | 15 |\n",
       "| 4  | 2  | 3  | 3  | 12 |\n",
       "| 3  | 3  | 2  | 2  |  8 |\n",
       "\n"
      ],
      "text/plain": [
       "  account.balance credit.purpose previous.credit.payment.status savings\n",
       "1 1               4              3                              2      \n",
       "2 4               2              3                              3      \n",
       "3 3               3              2                              2      \n",
       "  credit.duration.months\n",
       "1 15                    \n",
       "2 12                    \n",
       "3  8                    "
      ]
     },
     "metadata": {},
     "output_type": "display_data"
    }
   ],
   "source": [
    "# Cria um dataframe\n",
    "novo_dataset <- data.frame(account.balance, \n",
    "                           credit.purpose, \n",
    "                           previous.credit.payment.status, \n",
    "                           savings, \n",
    "                          credit.duration.months)\n",
    "\n",
    "#View(novo_dataset)\n",
    "head(novo_dataset)"
   ]
  },
  {
   "cell_type": "code",
   "execution_count": 41,
   "metadata": {},
   "outputs": [],
   "source": [
    "# Separa variáveis explanatórias numéricas e categóricas\n",
    "new.numeric.vars <- c(\"credit.duration.months\")\n",
    "new.categorical.vars <- c('account.balance', 'previous.credit.payment.status', \n",
    "                          'credit.purpose', 'savings')"
   ]
  },
  {
   "cell_type": "code",
   "execution_count": 43,
   "metadata": {},
   "outputs": [
    {
     "name": "stdout",
     "output_type": "stream",
     "text": [
      "'data.frame':\t3 obs. of  5 variables:\n",
      " $ account.balance               : Factor w/ 3 levels \"1\",\"3\",\"4\": 1 3 2\n",
      " $ credit.purpose                : Factor w/ 3 levels \"2\",\"3\",\"4\": 3 1 2\n",
      " $ previous.credit.payment.status: Factor w/ 2 levels \"2\",\"3\": 2 2 1\n",
      " $ savings                       : Factor w/ 2 levels \"2\",\"3\": 1 2 1\n",
      " $ credit.duration.months        : num  15 12 8\n"
     ]
    }
   ],
   "source": [
    "# Aplica as transformações\n",
    "novo_dataset_final <- to.factors(df = novo_dataset, variables = new.categorical.vars)\n",
    "str(novo_dataset_final)"
   ]
  },
  {
   "cell_type": "code",
   "execution_count": 44,
   "metadata": {},
   "outputs": [
    {
     "name": "stdout",
     "output_type": "stream",
     "text": [
      "'data.frame':\t3 obs. of  5 variables:\n",
      " $ account.balance               : Factor w/ 3 levels \"1\",\"3\",\"4\": 1 3 2\n",
      " $ credit.purpose                : Factor w/ 3 levels \"2\",\"3\",\"4\": 3 1 2\n",
      " $ previous.credit.payment.status: Factor w/ 2 levels \"2\",\"3\": 2 2 1\n",
      " $ savings                       : Factor w/ 2 levels \"2\",\"3\": 1 2 1\n",
      " $ credit.duration.months        : num [1:3, 1] 0.9492 0.0949 -1.0441\n",
      "  ..- attr(*, \"scaled:center\")= num 11.7\n",
      "  ..- attr(*, \"scaled:scale\")= num 3.51\n"
     ]
    }
   ],
   "source": [
    "novo_dataset_final <- scale.features(novo_dataset_final, new.numeric.vars)\n",
    "str(novo_dataset_final)"
   ]
  },
  {
   "cell_type": "code",
   "execution_count": 46,
   "metadata": {},
   "outputs": [
    {
     "data": {
      "text/html": [
       "<table>\n",
       "<thead><tr><th scope=col>account.balance</th><th scope=col>credit.purpose</th><th scope=col>previous.credit.payment.status</th><th scope=col>savings</th><th scope=col>credit.duration.months</th></tr></thead>\n",
       "<tbody>\n",
       "\t<tr><td>1         </td><td>4         </td><td>3         </td><td>2         </td><td> 0.9491580</td></tr>\n",
       "\t<tr><td>4         </td><td>2         </td><td>3         </td><td>3         </td><td> 0.0949158</td></tr>\n",
       "\t<tr><td>3         </td><td>3         </td><td>2         </td><td>2         </td><td>-1.0440738</td></tr>\n",
       "</tbody>\n",
       "</table>\n"
      ],
      "text/latex": [
       "\\begin{tabular}{r|lllll}\n",
       " account.balance & credit.purpose & previous.credit.payment.status & savings & credit.duration.months\\\\\n",
       "\\hline\n",
       "\t 1          & 4          & 3          & 2          &  0.9491580\\\\\n",
       "\t 4          & 2          & 3          & 3          &  0.0949158\\\\\n",
       "\t 3          & 3          & 2          & 2          & -1.0440738\\\\\n",
       "\\end{tabular}\n"
      ],
      "text/markdown": [
       "\n",
       "| account.balance | credit.purpose | previous.credit.payment.status | savings | credit.duration.months |\n",
       "|---|---|---|---|---|\n",
       "| 1          | 4          | 3          | 2          |  0.9491580 |\n",
       "| 4          | 2          | 3          | 3          |  0.0949158 |\n",
       "| 3          | 3          | 2          | 2          | -1.0440738 |\n",
       "\n"
      ],
      "text/plain": [
       "  account.balance credit.purpose previous.credit.payment.status savings\n",
       "1 1               4              3                              2      \n",
       "2 4               2              3                              3      \n",
       "3 3               3              2                              2      \n",
       "  credit.duration.months\n",
       "1  0.9491580            \n",
       "2  0.0949158            \n",
       "3 -1.0440738            "
      ]
     },
     "metadata": {},
     "output_type": "display_data"
    }
   ],
   "source": [
    "head(novo_dataset_final)"
   ]
  },
  {
   "cell_type": "code",
   "execution_count": 47,
   "metadata": {},
   "outputs": [
    {
     "ename": "ERROR",
     "evalue": "Error in model.frame.default(Terms, newdata, na.action = na.action, xlev = object$xlevels): factor account.balance has new levels 4\n",
     "output_type": "error",
     "traceback": [
      "Error in model.frame.default(Terms, newdata, na.action = na.action, xlev = object$xlevels): factor account.balance has new levels 4\nTraceback:\n",
      "1. predict(modelo_final, newdata = novo_dataset_final, type = \"response\")",
      "2. predict.glm(modelo_final, newdata = novo_dataset_final, type = \"response\")",
      "3. predict.lm(object, newdata, se.fit, scale = 1, type = if (type == \n .     \"link\") \"response\" else type, terms = terms, na.action = na.action)",
      "4. model.frame(Terms, newdata, na.action = na.action, xlev = object$xlevels)",
      "5. model.frame.default(Terms, newdata, na.action = na.action, xlev = object$xlevels)",
      "6. stop(sprintf(ngettext(length(m), \"factor %s has new level %s\", \n .     \"factor %s has new levels %s\"), nm, paste(nxl[m], collapse = \", \")), \n .     domain = NA)"
     ]
    }
   ],
   "source": [
    "# Previsões\n",
    "?predict\n",
    "previsao_novo_cliente <- predict(modelo_final, newdata = novo_dataset_final, type = \"response\")"
   ]
  },
  {
   "cell_type": "code",
   "execution_count": null,
   "metadata": {},
   "outputs": [],
   "source": []
  }
 ],
 "metadata": {
  "kernelspec": {
   "display_name": "R",
   "language": "R",
   "name": "ir"
  },
  "language_info": {
   "codemirror_mode": "r",
   "file_extension": ".r",
   "mimetype": "text/x-r-source",
   "name": "R",
   "pygments_lexer": "r",
   "version": "3.6.1"
  }
 },
 "nbformat": 4,
 "nbformat_minor": 4
}
