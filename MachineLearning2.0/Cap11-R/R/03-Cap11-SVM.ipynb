{
 "cells": [
  {
   "cell_type": "code",
   "execution_count": 1,
   "metadata": {},
   "outputs": [
    {
     "data": {
      "text/html": [
       "'C:/Users/cassi/OneDrive/Programação/DSA/MachineLearning2.0/Cap11-R/R'"
      ],
      "text/latex": [
       "'C:/Users/cassi/OneDrive/Programação/DSA/MachineLearning2.0/Cap11-R/R'"
      ],
      "text/markdown": [
       "'C:/Users/cassi/OneDrive/Programação/DSA/MachineLearning2.0/Cap11-R/R'"
      ],
      "text/plain": [
       "[1] \"C:/Users/cassi/OneDrive/Programação/DSA/MachineLearning2.0/Cap11-R/R\""
      ]
     },
     "metadata": {},
     "output_type": "display_data"
    }
   ],
   "source": [
    "# Classificação Multiclasse com SVM - Prevendo Gastos com Cartão de Crédito em 3 Categorias\n",
    "\n",
    "# Obs: Caso tenha problemas com a acentuação, consulte este link:\n",
    "# https://support.rstudio.com/hc/en-us/articles/200532197-Character-Encoding\n",
    "\n",
    "# Definindo o diretório de trabalho\n",
    "getwd()"
   ]
  },
  {
   "cell_type": "code",
   "execution_count": 2,
   "metadata": {},
   "outputs": [],
   "source": [
    "####  Definido o Problema de Negócio #### \n",
    "\n",
    "# A identificação e a capacidade de classificar os clientes com base nos gastos sempre foram uma área de \n",
    "# interesse para instituições bancárias e empresas de cartão de crédito. É um aspecto importante no \n",
    "# gerenciamento de relacionamento com o cliente e ajuda a aumentar a receita com clientes existentes. Várias \n",
    "# tentativas foram feitas a esse respeito. Os emissores de cartões de crédito tradicionalmente têm como alvo \n",
    "# os consumidores usando informações sobre seus comportamentos e dados demográficos. \n",
    "\n",
    "# Nosso trabalho é classificar os clientes de cartão de crédito de acordo com seu comportamento de gastos. \n",
    "# A segmentação é um aspecto importante na compreensão do cliente e na execução de campanhas de marketing \n",
    "# eficazes e rentáveis. Usaremos o SVM como nosso modelo.\n",
    "\n",
    "# Os dados demográficos, os detalhes sobre emprego e o estilo de vida dos clientes desempenham um papel vital na \n",
    "# maneira como eles gastam. Existem fatores ocultos, bem como semelhança com as compras. A máquina de vetores \n",
    "# de suporte pode ser usada para problemas de regressão e classificação. \n",
    "\n",
    "# Usaremos SVM com Kernel Linear Multiclasse como nosso modelo proposto para classificar a variável target. \n",
    "# No entanto, também avaliaremos outros Kernels, como RBF e Polinomial, para uma variedade de hiperparâmetros. \n",
    "# Também levamos em consideração o viés no dados.\n",
    "\n",
    "# Fonte dos dados: https://sorry.vse.cz/~berka/ (dados anônimos)"
   ]
  },
  {
   "cell_type": "code",
   "execution_count": 3,
   "metadata": {},
   "outputs": [
    {
     "name": "stdout",
     "output_type": "stream",
     "text": [
      "package 'gains' successfully unpacked and MD5 sums checked\n",
      "\n",
      "The downloaded binary packages are in\n",
      "\tC:\\Users\\cassi\\AppData\\Local\\Temp\\RtmpoPDhVV\\downloaded_packages\n",
      "package 'pROC' successfully unpacked and MD5 sums checked\n"
     ]
    },
    {
     "name": "stderr",
     "output_type": "stream",
     "text": [
      "Warning message:\n",
      "\"cannot remove prior installation of package 'pROC'\"Warning message in file.copy(savedcopy, lib, recursive = TRUE):\n",
      "\"problem copying C:\\Users\\cassi\\anaconda3\\envs\\r-tutorial\\Lib\\R\\library\\00LOCK\\pROC\\libs\\x64\\pROC.dll to C:\\Users\\cassi\\anaconda3\\envs\\r-tutorial\\Lib\\R\\library\\pROC\\libs\\x64\\pROC.dll: Permission denied\"Warning message:\n",
      "\"restored 'pROC'\""
     ]
    },
    {
     "name": "stdout",
     "output_type": "stream",
     "text": [
      "\n",
      "The downloaded binary packages are in\n",
      "\tC:\\Users\\cassi\\AppData\\Local\\Temp\\RtmpoPDhVV\\downloaded_packages\n",
      "package 'ROSE' successfully unpacked and MD5 sums checked\n",
      "\n",
      "The downloaded binary packages are in\n",
      "\tC:\\Users\\cassi\\AppData\\Local\\Temp\\RtmpoPDhVV\\downloaded_packages\n",
      "package 'mice' successfully unpacked and MD5 sums checked\n"
     ]
    },
    {
     "name": "stderr",
     "output_type": "stream",
     "text": [
      "Warning message:\n",
      "\"cannot remove prior installation of package 'mice'\"Warning message in file.copy(savedcopy, lib, recursive = TRUE):\n",
      "\"problem copying C:\\Users\\cassi\\anaconda3\\envs\\r-tutorial\\Lib\\R\\library\\00LOCK\\mice\\libs\\x64\\mice.dll to C:\\Users\\cassi\\anaconda3\\envs\\r-tutorial\\Lib\\R\\library\\mice\\libs\\x64\\mice.dll: Permission denied\"Warning message:\n",
      "\"restored 'mice'\""
     ]
    },
    {
     "name": "stdout",
     "output_type": "stream",
     "text": [
      "\n",
      "The downloaded binary packages are in\n",
      "\tC:\\Users\\cassi\\AppData\\Local\\Temp\\RtmpoPDhVV\\downloaded_packages\n"
     ]
    },
    {
     "name": "stderr",
     "output_type": "stream",
     "text": [
      "Warning message:\n",
      "\"package 'dplyr' was built under R version 3.6.3\"\n",
      "Attaching package: 'dplyr'\n",
      "\n",
      "The following objects are masked from 'package:stats':\n",
      "\n",
      "    filter, lag\n",
      "\n",
      "The following objects are masked from 'package:base':\n",
      "\n",
      "    intersect, setdiff, setequal, union\n",
      "\n",
      "Warning message:\n",
      "\"package 'caret' was built under R version 3.6.3\"Loading required package: lattice\n",
      "Loading required package: ggplot2\n",
      "Registered S3 methods overwritten by 'ggplot2':\n",
      "  method         from \n",
      "  [.quosures     rlang\n",
      "  c.quosures     rlang\n",
      "  print.quosures rlang\n",
      "Warning message:\n",
      "\"package 'pROC' was built under R version 3.6.3\"Type 'citation(\"pROC\")' for a citation.\n",
      "\n",
      "Attaching package: 'pROC'\n",
      "\n",
      "The following objects are masked from 'package:stats':\n",
      "\n",
      "    cov, smooth, var\n",
      "\n",
      "Warning message:\n",
      "\"package 'e1071' was built under R version 3.6.3\"Warning message:\n",
      "\"package 'mice' was built under R version 3.6.3\"\n",
      "Attaching package: 'mice'\n",
      "\n",
      "The following objects are masked from 'package:base':\n",
      "\n",
      "    cbind, rbind\n",
      "\n"
     ]
    }
   ],
   "source": [
    "# Pacotes\n",
    "install.packages(\"gains\")\n",
    "install.packages(\"pROC\")\n",
    "install.packages(\"ROSE\")\n",
    "install.packages(\"mice\")\n",
    "library(dplyr)\n",
    "library(caret)\n",
    "library(pROC)\n",
    "library(e1071)\n",
    "library(mice)\n",
    "library(readr)"
   ]
  },
  {
   "cell_type": "code",
   "execution_count": 5,
   "metadata": {},
   "outputs": [
    {
     "data": {
      "text/html": [
       "<ol class=list-inline>\n",
       "\t<li>8554</li>\n",
       "\t<li>118</li>\n",
       "</ol>\n"
      ],
      "text/latex": [
       "\\begin{enumerate*}\n",
       "\\item 8554\n",
       "\\item 118\n",
       "\\end{enumerate*}\n"
      ],
      "text/markdown": [
       "1. 8554\n",
       "2. 118\n",
       "\n",
       "\n"
      ],
      "text/plain": [
       "[1] 8554  118"
      ]
     },
     "metadata": {},
     "output_type": "display_data"
    },
    {
     "data": {
      "text/html": [
       "<ol class=list-inline>\n",
       "\t<li>1000</li>\n",
       "\t<li>118</li>\n",
       "</ol>\n"
      ],
      "text/latex": [
       "\\begin{enumerate*}\n",
       "\\item 1000\n",
       "\\item 118\n",
       "\\end{enumerate*}\n"
      ],
      "text/markdown": [
       "1. 1000\n",
       "2. 118\n",
       "\n",
       "\n"
      ],
      "text/plain": [
       "[1] 1000  118"
      ]
     },
     "metadata": {},
     "output_type": "display_data"
    },
    {
     "data": {
      "text/html": [
       "<table>\n",
       "<thead><tr><th scope=col>X</th><th scope=col>age</th><th scope=col>ed</th><th scope=col>union</th><th scope=col>employ</th><th scope=col>income</th><th scope=col>debtinc</th><th scope=col>creddebt</th><th scope=col>lncreddebt</th><th scope=col>othdebt</th><th scope=col>...</th><th scope=col>addresscat</th><th scope=col>cartype</th><th scope=col>carvalue</th><th scope=col>carbought</th><th scope=col>card2</th><th scope=col>card2type</th><th scope=col>card2benefit</th><th scope=col>bfast</th><th scope=col>internet</th><th scope=col>Customer_cat</th></tr></thead>\n",
       "<tbody>\n",
       "\t<tr><td> 761             </td><td>18               </td><td>13               </td><td>0                </td><td> 0               </td><td> 19              </td><td>13.0             </td><td>1.59             </td><td> 0.46            </td><td> 0.88            </td><td>...              </td><td>1                </td><td>0                </td><td> 9.0             </td><td>0                </td><td>3                </td><td>4                </td><td>4                </td><td>3                </td><td>0                </td><td>medium_spend_cust</td></tr>\n",
       "\t<tr><td>2852             </td><td>20               </td><td>15               </td><td>0                </td><td> 0               </td><td> 42              </td><td> 5.3             </td><td>0.67             </td><td>-0.41            </td><td> 1.56            </td><td>...              </td><td>1                </td><td>0                </td><td>19.4             </td><td>1                </td><td>2                </td><td>3                </td><td>1                </td><td>1                </td><td>0                </td><td>medium_spend_cust</td></tr>\n",
       "\t<tr><td>4869             </td><td>19               </td><td>14               </td><td>0                </td><td> 0               </td><td> 18              </td><td> 1.2             </td><td>0.04             </td><td>-3.15            </td><td> 0.17            </td><td>...              </td><td>1                </td><td>0                </td><td> 9.4             </td><td>1                </td><td>1                </td><td>3                </td><td>1                </td><td>3                </td><td>3                </td><td>medium_spend_cust</td></tr>\n",
       "\t<tr><td>1393             </td><td>35               </td><td>15               </td><td>0                </td><td> 7               </td><td> 30              </td><td> 2.7             </td><td>0.25             </td><td>-1.37            </td><td> 0.56            </td><td>...              </td><td>2                </td><td>1                </td><td>11.0             </td><td>1                </td><td>2                </td><td>1                </td><td>1                </td><td>3                </td><td>4                </td><td>medium_spend_cust</td></tr>\n",
       "\t<tr><td>3877             </td><td>43               </td><td>17               </td><td>0                </td><td> 8               </td><td>115              </td><td>19.8             </td><td>8.13             </td><td> 2.10            </td><td>14.64            </td><td>...              </td><td>4                </td><td>1                </td><td>50.8             </td><td>0                </td><td>3                </td><td>2                </td><td>4                </td><td>2                </td><td>0                </td><td>low_spend_cust   </td></tr>\n",
       "\t<tr><td>2609             </td><td>48               </td><td>17               </td><td>0                </td><td>15               </td><td> 80              </td><td> 3.4             </td><td>1.52             </td><td> 0.42            </td><td> 1.20            </td><td>...              </td><td>4                </td><td>0                </td><td>48.0             </td><td>0                </td><td>4                </td><td>4                </td><td>1                </td><td>2                </td><td>0                </td><td>low_spend_cust   </td></tr>\n",
       "</tbody>\n",
       "</table>\n"
      ],
      "text/latex": [
       "\\begin{tabular}{r|llllllllllllllllllllllllllllllllllllllllllllllllllllllllllllllllllllllllllllllllllllllllllllllllllllllllllllllllllllll}\n",
       " X & age & ed & union & employ & income & debtinc & creddebt & lncreddebt & othdebt & ... & addresscat & cartype & carvalue & carbought & card2 & card2type & card2benefit & bfast & internet & Customer\\_cat\\\\\n",
       "\\hline\n",
       "\t  761                  & 18                    & 13                    & 0                     &  0                    &  19                   & 13.0                  & 1.59                  &  0.46                 &  0.88                 & ...                   & 1                     & 0                     &  9.0                  & 0                     & 3                     & 4                     & 4                     & 3                     & 0                     & medium\\_spend\\_cust\\\\\n",
       "\t 2852                  & 20                    & 15                    & 0                     &  0                    &  42                   &  5.3                  & 0.67                  & -0.41                 &  1.56                 & ...                   & 1                     & 0                     & 19.4                  & 1                     & 2                     & 3                     & 1                     & 1                     & 0                     & medium\\_spend\\_cust\\\\\n",
       "\t 4869                  & 19                    & 14                    & 0                     &  0                    &  18                   &  1.2                  & 0.04                  & -3.15                 &  0.17                 & ...                   & 1                     & 0                     &  9.4                  & 1                     & 1                     & 3                     & 1                     & 3                     & 3                     & medium\\_spend\\_cust\\\\\n",
       "\t 1393                  & 35                    & 15                    & 0                     &  7                    &  30                   &  2.7                  & 0.25                  & -1.37                 &  0.56                 & ...                   & 2                     & 1                     & 11.0                  & 1                     & 2                     & 1                     & 1                     & 3                     & 4                     & medium\\_spend\\_cust\\\\\n",
       "\t 3877                  & 43                    & 17                    & 0                     &  8                    & 115                   & 19.8                  & 8.13                  &  2.10                 & 14.64                 & ...                   & 4                     & 1                     & 50.8                  & 0                     & 3                     & 2                     & 4                     & 2                     & 0                     & low\\_spend\\_cust   \\\\\n",
       "\t 2609                  & 48                    & 17                    & 0                     & 15                    &  80                   &  3.4                  & 1.52                  &  0.42                 &  1.20                 & ...                   & 4                     & 0                     & 48.0                  & 0                     & 4                     & 4                     & 1                     & 2                     & 0                     & low\\_spend\\_cust   \\\\\n",
       "\\end{tabular}\n"
      ],
      "text/markdown": [
       "\n",
       "| X | age | ed | union | employ | income | debtinc | creddebt | lncreddebt | othdebt | ... | addresscat | cartype | carvalue | carbought | card2 | card2type | card2benefit | bfast | internet | Customer_cat |\n",
       "|---|---|---|---|---|---|---|---|---|---|---|---|---|---|---|---|---|---|---|---|---|\n",
       "|  761              | 18                | 13                | 0                 |  0                |  19               | 13.0              | 1.59              |  0.46             |  0.88             | ...               | 1                 | 0                 |  9.0              | 0                 | 3                 | 4                 | 4                 | 3                 | 0                 | medium_spend_cust |\n",
       "| 2852              | 20                | 15                | 0                 |  0                |  42               |  5.3              | 0.67              | -0.41             |  1.56             | ...               | 1                 | 0                 | 19.4              | 1                 | 2                 | 3                 | 1                 | 1                 | 0                 | medium_spend_cust |\n",
       "| 4869              | 19                | 14                | 0                 |  0                |  18               |  1.2              | 0.04              | -3.15             |  0.17             | ...               | 1                 | 0                 |  9.4              | 1                 | 1                 | 3                 | 1                 | 3                 | 3                 | medium_spend_cust |\n",
       "| 1393              | 35                | 15                | 0                 |  7                |  30               |  2.7              | 0.25              | -1.37             |  0.56             | ...               | 2                 | 1                 | 11.0              | 1                 | 2                 | 1                 | 1                 | 3                 | 4                 | medium_spend_cust |\n",
       "| 3877              | 43                | 17                | 0                 |  8                | 115               | 19.8              | 8.13              |  2.10             | 14.64             | ...               | 4                 | 1                 | 50.8              | 0                 | 3                 | 2                 | 4                 | 2                 | 0                 | low_spend_cust    |\n",
       "| 2609              | 48                | 17                | 0                 | 15                |  80               |  3.4              | 1.52              |  0.42             |  1.20             | ...               | 4                 | 0                 | 48.0              | 0                 | 4                 | 4                 | 1                 | 2                 | 0                 | low_spend_cust    |\n",
       "\n"
      ],
      "text/plain": [
       "  X    age ed union employ income debtinc creddebt lncreddebt othdebt ...\n",
       "1  761 18  13 0      0      19    13.0    1.59      0.46       0.88   ...\n",
       "2 2852 20  15 0      0      42     5.3    0.67     -0.41       1.56   ...\n",
       "3 4869 19  14 0      0      18     1.2    0.04     -3.15       0.17   ...\n",
       "4 1393 35  15 0      7      30     2.7    0.25     -1.37       0.56   ...\n",
       "5 3877 43  17 0      8     115    19.8    8.13      2.10      14.64   ...\n",
       "6 2609 48  17 0     15      80     3.4    1.52      0.42       1.20   ...\n",
       "  addresscat cartype carvalue carbought card2 card2type card2benefit bfast\n",
       "1 1          0        9.0     0         3     4         4            3    \n",
       "2 1          0       19.4     1         2     3         1            1    \n",
       "3 1          0        9.4     1         1     3         1            3    \n",
       "4 2          1       11.0     1         2     1         1            3    \n",
       "5 4          1       50.8     0         3     2         4            2    \n",
       "6 4          0       48.0     0         4     4         1            2    \n",
       "  internet Customer_cat     \n",
       "1 0        medium_spend_cust\n",
       "2 0        medium_spend_cust\n",
       "3 3        medium_spend_cust\n",
       "4 4        medium_spend_cust\n",
       "5 0        low_spend_cust   \n",
       "6 0        low_spend_cust   "
      ]
     },
     "metadata": {},
     "output_type": "display_data"
    },
    {
     "data": {
      "text/html": [
       "<table>\n",
       "<thead><tr><th scope=col>X</th><th scope=col>age</th><th scope=col>ed</th><th scope=col>union</th><th scope=col>employ</th><th scope=col>income</th><th scope=col>debtinc</th><th scope=col>creddebt</th><th scope=col>lncreddebt</th><th scope=col>othdebt</th><th scope=col>...</th><th scope=col>addresscat</th><th scope=col>cartype</th><th scope=col>carvalue</th><th scope=col>carbought</th><th scope=col>card2</th><th scope=col>card2type</th><th scope=col>card2benefit</th><th scope=col>bfast</th><th scope=col>internet</th><th scope=col>Customer_cat</th></tr></thead>\n",
       "<tbody>\n",
       "\t<tr><td> 2               </td><td>22               </td><td>17               </td><td>0                </td><td> 0               </td><td> 15              </td><td>18.6             </td><td>1.22             </td><td> 0.20            </td><td>1.57             </td><td>...              </td><td>1                </td><td> 1               </td><td> 6.8             </td><td> 0               </td><td>4                </td><td>1                </td><td>3                </td><td>1                </td><td>4                </td><td>low_spend_cust   </td></tr>\n",
       "\t<tr><td> 3               </td><td>67               </td><td>14               </td><td>0                </td><td>16               </td><td> 35              </td><td> 9.9             </td><td>0.93             </td><td>-0.07            </td><td>2.54             </td><td>...              </td><td>5                </td><td> 1               </td><td>18.8             </td><td> 0               </td><td>4                </td><td>1                </td><td>3                </td><td>3                </td><td>0                </td><td>low_spend_cust   </td></tr>\n",
       "\t<tr><td> 6               </td><td>64               </td><td>17               </td><td>0                </td><td>22               </td><td>107              </td><td> 5.6             </td><td>1.06             </td><td> 0.06            </td><td>4.93             </td><td>...              </td><td>5                </td><td>-1               </td><td>-1.0             </td><td>-1               </td><td>3                </td><td>3                </td><td>2                </td><td>3                </td><td>0                </td><td>medium_spend_cust</td></tr>\n",
       "\t<tr><td> 8               </td><td>44               </td><td>16               </td><td>0                </td><td>11               </td><td> 97              </td><td>14.4             </td><td>5.95             </td><td> 1.78            </td><td>8.02             </td><td>...              </td><td>4                </td><td> 0               </td><td>55.5             </td><td> 0               </td><td>3                </td><td>1                </td><td>4                </td><td>3                </td><td>0                </td><td>medium_spend_cust</td></tr>\n",
       "\t<tr><td>11               </td><td>59               </td><td>19               </td><td>0                </td><td> 8               </td><td> 47              </td><td> 8.6             </td><td>1.36             </td><td> 0.31            </td><td>2.68             </td><td>...              </td><td>3                </td><td> 0               </td><td>28.0             </td><td> 0               </td><td>1                </td><td>1                </td><td>4                </td><td>3                </td><td>3                </td><td>medium_spend_cust</td></tr>\n",
       "\t<tr><td>15               </td><td>72               </td><td>20               </td><td>1                </td><td>27               </td><td> 17              </td><td> 9.8             </td><td>1.28             </td><td> 0.24            </td><td>0.39             </td><td>...              </td><td>3                </td><td> 1               </td><td> 9.3             </td><td> 0               </td><td>4                </td><td>4                </td><td>3                </td><td>3                </td><td>0                </td><td>medium_spend_cust</td></tr>\n",
       "</tbody>\n",
       "</table>\n"
      ],
      "text/latex": [
       "\\begin{tabular}{r|llllllllllllllllllllllllllllllllllllllllllllllllllllllllllllllllllllllllllllllllllllllllllllllllllllllllllllllllllllll}\n",
       " X & age & ed & union & employ & income & debtinc & creddebt & lncreddebt & othdebt & ... & addresscat & cartype & carvalue & carbought & card2 & card2type & card2benefit & bfast & internet & Customer\\_cat\\\\\n",
       "\\hline\n",
       "\t  2                    & 22                    & 17                    & 0                     &  0                    &  15                   & 18.6                  & 1.22                  &  0.20                 & 1.57                  & ...                   & 1                     &  1                    &  6.8                  &  0                    & 4                     & 1                     & 3                     & 1                     & 4                     & low\\_spend\\_cust   \\\\\n",
       "\t  3                    & 67                    & 14                    & 0                     & 16                    &  35                   &  9.9                  & 0.93                  & -0.07                 & 2.54                  & ...                   & 5                     &  1                    & 18.8                  &  0                    & 4                     & 1                     & 3                     & 3                     & 0                     & low\\_spend\\_cust   \\\\\n",
       "\t  6                    & 64                    & 17                    & 0                     & 22                    & 107                   &  5.6                  & 1.06                  &  0.06                 & 4.93                  & ...                   & 5                     & -1                    & -1.0                  & -1                    & 3                     & 3                     & 2                     & 3                     & 0                     & medium\\_spend\\_cust\\\\\n",
       "\t  8                    & 44                    & 16                    & 0                     & 11                    &  97                   & 14.4                  & 5.95                  &  1.78                 & 8.02                  & ...                   & 4                     &  0                    & 55.5                  &  0                    & 3                     & 1                     & 4                     & 3                     & 0                     & medium\\_spend\\_cust\\\\\n",
       "\t 11                    & 59                    & 19                    & 0                     &  8                    &  47                   &  8.6                  & 1.36                  &  0.31                 & 2.68                  & ...                   & 3                     &  0                    & 28.0                  &  0                    & 1                     & 1                     & 4                     & 3                     & 3                     & medium\\_spend\\_cust\\\\\n",
       "\t 15                    & 72                    & 20                    & 1                     & 27                    &  17                   &  9.8                  & 1.28                  &  0.24                 & 0.39                  & ...                   & 3                     &  1                    &  9.3                  &  0                    & 4                     & 4                     & 3                     & 3                     & 0                     & medium\\_spend\\_cust\\\\\n",
       "\\end{tabular}\n"
      ],
      "text/markdown": [
       "\n",
       "| X | age | ed | union | employ | income | debtinc | creddebt | lncreddebt | othdebt | ... | addresscat | cartype | carvalue | carbought | card2 | card2type | card2benefit | bfast | internet | Customer_cat |\n",
       "|---|---|---|---|---|---|---|---|---|---|---|---|---|---|---|---|---|---|---|---|---|\n",
       "|  2                | 22                | 17                | 0                 |  0                |  15               | 18.6              | 1.22              |  0.20             | 1.57              | ...               | 1                 |  1                |  6.8              |  0                | 4                 | 1                 | 3                 | 1                 | 4                 | low_spend_cust    |\n",
       "|  3                | 67                | 14                | 0                 | 16                |  35               |  9.9              | 0.93              | -0.07             | 2.54              | ...               | 5                 |  1                | 18.8              |  0                | 4                 | 1                 | 3                 | 3                 | 0                 | low_spend_cust    |\n",
       "|  6                | 64                | 17                | 0                 | 22                | 107               |  5.6              | 1.06              |  0.06             | 4.93              | ...               | 5                 | -1                | -1.0              | -1                | 3                 | 3                 | 2                 | 3                 | 0                 | medium_spend_cust |\n",
       "|  8                | 44                | 16                | 0                 | 11                |  97               | 14.4              | 5.95              |  1.78             | 8.02              | ...               | 4                 |  0                | 55.5              |  0                | 3                 | 1                 | 4                 | 3                 | 0                 | medium_spend_cust |\n",
       "| 11                | 59                | 19                | 0                 |  8                |  47               |  8.6              | 1.36              |  0.31             | 2.68              | ...               | 3                 |  0                | 28.0              |  0                | 1                 | 1                 | 4                 | 3                 | 3                 | medium_spend_cust |\n",
       "| 15                | 72                | 20                | 1                 | 27                |  17               |  9.8              | 1.28              |  0.24             | 0.39              | ...               | 3                 |  1                |  9.3              |  0                | 4                 | 4                 | 3                 | 3                 | 0                 | medium_spend_cust |\n",
       "\n"
      ],
      "text/plain": [
       "  X  age ed union employ income debtinc creddebt lncreddebt othdebt ...\n",
       "1  2 22  17 0      0      15    18.6    1.22      0.20      1.57    ...\n",
       "2  3 67  14 0     16      35     9.9    0.93     -0.07      2.54    ...\n",
       "3  6 64  17 0     22     107     5.6    1.06      0.06      4.93    ...\n",
       "4  8 44  16 0     11      97    14.4    5.95      1.78      8.02    ...\n",
       "5 11 59  19 0      8      47     8.6    1.36      0.31      2.68    ...\n",
       "6 15 72  20 1     27      17     9.8    1.28      0.24      0.39    ...\n",
       "  addresscat cartype carvalue carbought card2 card2type card2benefit bfast\n",
       "1 1           1       6.8      0        4     1         3            1    \n",
       "2 5           1      18.8      0        4     1         3            3    \n",
       "3 5          -1      -1.0     -1        3     3         2            3    \n",
       "4 4           0      55.5      0        3     1         4            3    \n",
       "5 3           0      28.0      0        1     1         4            3    \n",
       "6 3           1       9.3      0        4     4         3            3    \n",
       "  internet Customer_cat     \n",
       "1 4        low_spend_cust   \n",
       "2 0        low_spend_cust   \n",
       "3 0        medium_spend_cust\n",
       "4 0        medium_spend_cust\n",
       "5 3        medium_spend_cust\n",
       "6 0        medium_spend_cust"
      ]
     },
     "metadata": {},
     "output_type": "display_data"
    }
   ],
   "source": [
    "# Carregando os dados pré-processados\n",
    "?read.csv\n",
    "dados_treino1 <- read.csv(\"dados/dados_treino_balanceados.csv\")\n",
    "dados_teste1 <- read.csv(\"dados/dados_teste.csv\")\n",
    "dim(dados_treino1)\n",
    "dim(dados_teste1)\n",
    "head(dados_treino1)\n",
    "head(dados_teste1)"
   ]
  },
  {
   "cell_type": "code",
   "execution_count": 6,
   "metadata": {},
   "outputs": [
    {
     "name": "stderr",
     "output_type": "stream",
     "text": [
      "Warning message:\n",
      "\"Missing column names filled in: 'X1' [1]\"Parsed with column specification:\n",
      "cols(\n",
      "  .default = col_double(),\n",
      "  birthmonth = col_character(),\n",
      "  Customer_cat = col_character()\n",
      ")\n",
      "See spec(...) for full column specifications.\n",
      "Warning message:\n",
      "\"Missing column names filled in: 'X1' [1]\"Parsed with column specification:\n",
      "cols(\n",
      "  .default = col_double(),\n",
      "  birthmonth = col_character(),\n",
      "  Customer_cat = col_character()\n",
      ")\n",
      "See spec(...) for full column specifications.\n"
     ]
    },
    {
     "data": {
      "text/html": [
       "<ol class=list-inline>\n",
       "\t<li>8554</li>\n",
       "\t<li>118</li>\n",
       "</ol>\n"
      ],
      "text/latex": [
       "\\begin{enumerate*}\n",
       "\\item 8554\n",
       "\\item 118\n",
       "\\end{enumerate*}\n"
      ],
      "text/markdown": [
       "1. 8554\n",
       "2. 118\n",
       "\n",
       "\n"
      ],
      "text/plain": [
       "[1] 8554  118"
      ]
     },
     "metadata": {},
     "output_type": "display_data"
    },
    {
     "data": {
      "text/html": [
       "<ol class=list-inline>\n",
       "\t<li>1000</li>\n",
       "\t<li>118</li>\n",
       "</ol>\n"
      ],
      "text/latex": [
       "\\begin{enumerate*}\n",
       "\\item 1000\n",
       "\\item 118\n",
       "\\end{enumerate*}\n"
      ],
      "text/markdown": [
       "1. 1000\n",
       "2. 118\n",
       "\n",
       "\n"
      ],
      "text/plain": [
       "[1] 1000  118"
      ]
     },
     "metadata": {},
     "output_type": "display_data"
    },
    {
     "data": {
      "text/html": [
       "<table>\n",
       "<thead><tr><th scope=col>X1</th><th scope=col>age</th><th scope=col>ed</th><th scope=col>union</th><th scope=col>employ</th><th scope=col>income</th><th scope=col>debtinc</th><th scope=col>creddebt</th><th scope=col>lncreddebt</th><th scope=col>othdebt</th><th scope=col>...</th><th scope=col>addresscat</th><th scope=col>cartype</th><th scope=col>carvalue</th><th scope=col>carbought</th><th scope=col>card2</th><th scope=col>card2type</th><th scope=col>card2benefit</th><th scope=col>bfast</th><th scope=col>internet</th><th scope=col>Customer_cat</th></tr></thead>\n",
       "<tbody>\n",
       "\t<tr><td> 761             </td><td>18               </td><td>13               </td><td>0                </td><td> 0               </td><td> 19              </td><td>13.0             </td><td>1.59             </td><td> 0.46            </td><td> 0.88            </td><td>...              </td><td>1                </td><td>0                </td><td> 9.0             </td><td>0                </td><td>3                </td><td>4                </td><td>4                </td><td>3                </td><td>0                </td><td>medium_spend_cust</td></tr>\n",
       "\t<tr><td>2852             </td><td>20               </td><td>15               </td><td>0                </td><td> 0               </td><td> 42              </td><td> 5.3             </td><td>0.67             </td><td>-0.41            </td><td> 1.56            </td><td>...              </td><td>1                </td><td>0                </td><td>19.4             </td><td>1                </td><td>2                </td><td>3                </td><td>1                </td><td>1                </td><td>0                </td><td>medium_spend_cust</td></tr>\n",
       "\t<tr><td>4869             </td><td>19               </td><td>14               </td><td>0                </td><td> 0               </td><td> 18              </td><td> 1.2             </td><td>0.04             </td><td>-3.15            </td><td> 0.17            </td><td>...              </td><td>1                </td><td>0                </td><td> 9.4             </td><td>1                </td><td>1                </td><td>3                </td><td>1                </td><td>3                </td><td>3                </td><td>medium_spend_cust</td></tr>\n",
       "\t<tr><td>1393             </td><td>35               </td><td>15               </td><td>0                </td><td> 7               </td><td> 30              </td><td> 2.7             </td><td>0.25             </td><td>-1.37            </td><td> 0.56            </td><td>...              </td><td>2                </td><td>1                </td><td>11.0             </td><td>1                </td><td>2                </td><td>1                </td><td>1                </td><td>3                </td><td>4                </td><td>medium_spend_cust</td></tr>\n",
       "\t<tr><td>3877             </td><td>43               </td><td>17               </td><td>0                </td><td> 8               </td><td>115              </td><td>19.8             </td><td>8.13             </td><td> 2.10            </td><td>14.64            </td><td>...              </td><td>4                </td><td>1                </td><td>50.8             </td><td>0                </td><td>3                </td><td>2                </td><td>4                </td><td>2                </td><td>0                </td><td>low_spend_cust   </td></tr>\n",
       "\t<tr><td>2609             </td><td>48               </td><td>17               </td><td>0                </td><td>15               </td><td> 80              </td><td> 3.4             </td><td>1.52             </td><td> 0.42            </td><td> 1.20            </td><td>...              </td><td>4                </td><td>0                </td><td>48.0             </td><td>0                </td><td>4                </td><td>4                </td><td>1                </td><td>2                </td><td>0                </td><td>low_spend_cust   </td></tr>\n",
       "</tbody>\n",
       "</table>\n"
      ],
      "text/latex": [
       "\\begin{tabular}{r|llllllllllllllllllllllllllllllllllllllllllllllllllllllllllllllllllllllllllllllllllllllllllllllllllllllllllllllllllllll}\n",
       " X1 & age & ed & union & employ & income & debtinc & creddebt & lncreddebt & othdebt & ... & addresscat & cartype & carvalue & carbought & card2 & card2type & card2benefit & bfast & internet & Customer\\_cat\\\\\n",
       "\\hline\n",
       "\t  761                  & 18                    & 13                    & 0                     &  0                    &  19                   & 13.0                  & 1.59                  &  0.46                 &  0.88                 & ...                   & 1                     & 0                     &  9.0                  & 0                     & 3                     & 4                     & 4                     & 3                     & 0                     & medium\\_spend\\_cust\\\\\n",
       "\t 2852                  & 20                    & 15                    & 0                     &  0                    &  42                   &  5.3                  & 0.67                  & -0.41                 &  1.56                 & ...                   & 1                     & 0                     & 19.4                  & 1                     & 2                     & 3                     & 1                     & 1                     & 0                     & medium\\_spend\\_cust\\\\\n",
       "\t 4869                  & 19                    & 14                    & 0                     &  0                    &  18                   &  1.2                  & 0.04                  & -3.15                 &  0.17                 & ...                   & 1                     & 0                     &  9.4                  & 1                     & 1                     & 3                     & 1                     & 3                     & 3                     & medium\\_spend\\_cust\\\\\n",
       "\t 1393                  & 35                    & 15                    & 0                     &  7                    &  30                   &  2.7                  & 0.25                  & -1.37                 &  0.56                 & ...                   & 2                     & 1                     & 11.0                  & 1                     & 2                     & 1                     & 1                     & 3                     & 4                     & medium\\_spend\\_cust\\\\\n",
       "\t 3877                  & 43                    & 17                    & 0                     &  8                    & 115                   & 19.8                  & 8.13                  &  2.10                 & 14.64                 & ...                   & 4                     & 1                     & 50.8                  & 0                     & 3                     & 2                     & 4                     & 2                     & 0                     & low\\_spend\\_cust   \\\\\n",
       "\t 2609                  & 48                    & 17                    & 0                     & 15                    &  80                   &  3.4                  & 1.52                  &  0.42                 &  1.20                 & ...                   & 4                     & 0                     & 48.0                  & 0                     & 4                     & 4                     & 1                     & 2                     & 0                     & low\\_spend\\_cust   \\\\\n",
       "\\end{tabular}\n"
      ],
      "text/markdown": [
       "\n",
       "| X1 | age | ed | union | employ | income | debtinc | creddebt | lncreddebt | othdebt | ... | addresscat | cartype | carvalue | carbought | card2 | card2type | card2benefit | bfast | internet | Customer_cat |\n",
       "|---|---|---|---|---|---|---|---|---|---|---|---|---|---|---|---|---|---|---|---|---|\n",
       "|  761              | 18                | 13                | 0                 |  0                |  19               | 13.0              | 1.59              |  0.46             |  0.88             | ...               | 1                 | 0                 |  9.0              | 0                 | 3                 | 4                 | 4                 | 3                 | 0                 | medium_spend_cust |\n",
       "| 2852              | 20                | 15                | 0                 |  0                |  42               |  5.3              | 0.67              | -0.41             |  1.56             | ...               | 1                 | 0                 | 19.4              | 1                 | 2                 | 3                 | 1                 | 1                 | 0                 | medium_spend_cust |\n",
       "| 4869              | 19                | 14                | 0                 |  0                |  18               |  1.2              | 0.04              | -3.15             |  0.17             | ...               | 1                 | 0                 |  9.4              | 1                 | 1                 | 3                 | 1                 | 3                 | 3                 | medium_spend_cust |\n",
       "| 1393              | 35                | 15                | 0                 |  7                |  30               |  2.7              | 0.25              | -1.37             |  0.56             | ...               | 2                 | 1                 | 11.0              | 1                 | 2                 | 1                 | 1                 | 3                 | 4                 | medium_spend_cust |\n",
       "| 3877              | 43                | 17                | 0                 |  8                | 115               | 19.8              | 8.13              |  2.10             | 14.64             | ...               | 4                 | 1                 | 50.8              | 0                 | 3                 | 2                 | 4                 | 2                 | 0                 | low_spend_cust    |\n",
       "| 2609              | 48                | 17                | 0                 | 15                |  80               |  3.4              | 1.52              |  0.42             |  1.20             | ...               | 4                 | 0                 | 48.0              | 0                 | 4                 | 4                 | 1                 | 2                 | 0                 | low_spend_cust    |\n",
       "\n"
      ],
      "text/plain": [
       "  X1   age ed union employ income debtinc creddebt lncreddebt othdebt ...\n",
       "1  761 18  13 0      0      19    13.0    1.59      0.46       0.88   ...\n",
       "2 2852 20  15 0      0      42     5.3    0.67     -0.41       1.56   ...\n",
       "3 4869 19  14 0      0      18     1.2    0.04     -3.15       0.17   ...\n",
       "4 1393 35  15 0      7      30     2.7    0.25     -1.37       0.56   ...\n",
       "5 3877 43  17 0      8     115    19.8    8.13      2.10      14.64   ...\n",
       "6 2609 48  17 0     15      80     3.4    1.52      0.42       1.20   ...\n",
       "  addresscat cartype carvalue carbought card2 card2type card2benefit bfast\n",
       "1 1          0        9.0     0         3     4         4            3    \n",
       "2 1          0       19.4     1         2     3         1            1    \n",
       "3 1          0        9.4     1         1     3         1            3    \n",
       "4 2          1       11.0     1         2     1         1            3    \n",
       "5 4          1       50.8     0         3     2         4            2    \n",
       "6 4          0       48.0     0         4     4         1            2    \n",
       "  internet Customer_cat     \n",
       "1 0        medium_spend_cust\n",
       "2 0        medium_spend_cust\n",
       "3 3        medium_spend_cust\n",
       "4 4        medium_spend_cust\n",
       "5 0        low_spend_cust   \n",
       "6 0        low_spend_cust   "
      ]
     },
     "metadata": {},
     "output_type": "display_data"
    },
    {
     "data": {
      "text/html": [
       "<table>\n",
       "<thead><tr><th scope=col>X1</th><th scope=col>age</th><th scope=col>ed</th><th scope=col>union</th><th scope=col>employ</th><th scope=col>income</th><th scope=col>debtinc</th><th scope=col>creddebt</th><th scope=col>lncreddebt</th><th scope=col>othdebt</th><th scope=col>...</th><th scope=col>addresscat</th><th scope=col>cartype</th><th scope=col>carvalue</th><th scope=col>carbought</th><th scope=col>card2</th><th scope=col>card2type</th><th scope=col>card2benefit</th><th scope=col>bfast</th><th scope=col>internet</th><th scope=col>Customer_cat</th></tr></thead>\n",
       "<tbody>\n",
       "\t<tr><td> 2               </td><td>22               </td><td>17               </td><td>0                </td><td> 0               </td><td> 15              </td><td>18.6             </td><td>1.22             </td><td> 0.20            </td><td>1.57             </td><td>...              </td><td>1                </td><td> 1               </td><td> 6.8             </td><td> 0               </td><td>4                </td><td>1                </td><td>3                </td><td>1                </td><td>4                </td><td>low_spend_cust   </td></tr>\n",
       "\t<tr><td> 3               </td><td>67               </td><td>14               </td><td>0                </td><td>16               </td><td> 35              </td><td> 9.9             </td><td>0.93             </td><td>-0.07            </td><td>2.54             </td><td>...              </td><td>5                </td><td> 1               </td><td>18.8             </td><td> 0               </td><td>4                </td><td>1                </td><td>3                </td><td>3                </td><td>0                </td><td>low_spend_cust   </td></tr>\n",
       "\t<tr><td> 6               </td><td>64               </td><td>17               </td><td>0                </td><td>22               </td><td>107              </td><td> 5.6             </td><td>1.06             </td><td> 0.06            </td><td>4.93             </td><td>...              </td><td>5                </td><td>-1               </td><td>-1.0             </td><td>-1               </td><td>3                </td><td>3                </td><td>2                </td><td>3                </td><td>0                </td><td>medium_spend_cust</td></tr>\n",
       "\t<tr><td> 8               </td><td>44               </td><td>16               </td><td>0                </td><td>11               </td><td> 97              </td><td>14.4             </td><td>5.95             </td><td> 1.78            </td><td>8.02             </td><td>...              </td><td>4                </td><td> 0               </td><td>55.5             </td><td> 0               </td><td>3                </td><td>1                </td><td>4                </td><td>3                </td><td>0                </td><td>medium_spend_cust</td></tr>\n",
       "\t<tr><td>11               </td><td>59               </td><td>19               </td><td>0                </td><td> 8               </td><td> 47              </td><td> 8.6             </td><td>1.36             </td><td> 0.31            </td><td>2.68             </td><td>...              </td><td>3                </td><td> 0               </td><td>28.0             </td><td> 0               </td><td>1                </td><td>1                </td><td>4                </td><td>3                </td><td>3                </td><td>medium_spend_cust</td></tr>\n",
       "\t<tr><td>15               </td><td>72               </td><td>20               </td><td>1                </td><td>27               </td><td> 17              </td><td> 9.8             </td><td>1.28             </td><td> 0.24            </td><td>0.39             </td><td>...              </td><td>3                </td><td> 1               </td><td> 9.3             </td><td> 0               </td><td>4                </td><td>4                </td><td>3                </td><td>3                </td><td>0                </td><td>medium_spend_cust</td></tr>\n",
       "</tbody>\n",
       "</table>\n"
      ],
      "text/latex": [
       "\\begin{tabular}{r|llllllllllllllllllllllllllllllllllllllllllllllllllllllllllllllllllllllllllllllllllllllllllllllllllllllllllllllllllllll}\n",
       " X1 & age & ed & union & employ & income & debtinc & creddebt & lncreddebt & othdebt & ... & addresscat & cartype & carvalue & carbought & card2 & card2type & card2benefit & bfast & internet & Customer\\_cat\\\\\n",
       "\\hline\n",
       "\t  2                    & 22                    & 17                    & 0                     &  0                    &  15                   & 18.6                  & 1.22                  &  0.20                 & 1.57                  & ...                   & 1                     &  1                    &  6.8                  &  0                    & 4                     & 1                     & 3                     & 1                     & 4                     & low\\_spend\\_cust   \\\\\n",
       "\t  3                    & 67                    & 14                    & 0                     & 16                    &  35                   &  9.9                  & 0.93                  & -0.07                 & 2.54                  & ...                   & 5                     &  1                    & 18.8                  &  0                    & 4                     & 1                     & 3                     & 3                     & 0                     & low\\_spend\\_cust   \\\\\n",
       "\t  6                    & 64                    & 17                    & 0                     & 22                    & 107                   &  5.6                  & 1.06                  &  0.06                 & 4.93                  & ...                   & 5                     & -1                    & -1.0                  & -1                    & 3                     & 3                     & 2                     & 3                     & 0                     & medium\\_spend\\_cust\\\\\n",
       "\t  8                    & 44                    & 16                    & 0                     & 11                    &  97                   & 14.4                  & 5.95                  &  1.78                 & 8.02                  & ...                   & 4                     &  0                    & 55.5                  &  0                    & 3                     & 1                     & 4                     & 3                     & 0                     & medium\\_spend\\_cust\\\\\n",
       "\t 11                    & 59                    & 19                    & 0                     &  8                    &  47                   &  8.6                  & 1.36                  &  0.31                 & 2.68                  & ...                   & 3                     &  0                    & 28.0                  &  0                    & 1                     & 1                     & 4                     & 3                     & 3                     & medium\\_spend\\_cust\\\\\n",
       "\t 15                    & 72                    & 20                    & 1                     & 27                    &  17                   &  9.8                  & 1.28                  &  0.24                 & 0.39                  & ...                   & 3                     &  1                    &  9.3                  &  0                    & 4                     & 4                     & 3                     & 3                     & 0                     & medium\\_spend\\_cust\\\\\n",
       "\\end{tabular}\n"
      ],
      "text/markdown": [
       "\n",
       "| X1 | age | ed | union | employ | income | debtinc | creddebt | lncreddebt | othdebt | ... | addresscat | cartype | carvalue | carbought | card2 | card2type | card2benefit | bfast | internet | Customer_cat |\n",
       "|---|---|---|---|---|---|---|---|---|---|---|---|---|---|---|---|---|---|---|---|---|\n",
       "|  2                | 22                | 17                | 0                 |  0                |  15               | 18.6              | 1.22              |  0.20             | 1.57              | ...               | 1                 |  1                |  6.8              |  0                | 4                 | 1                 | 3                 | 1                 | 4                 | low_spend_cust    |\n",
       "|  3                | 67                | 14                | 0                 | 16                |  35               |  9.9              | 0.93              | -0.07             | 2.54              | ...               | 5                 |  1                | 18.8              |  0                | 4                 | 1                 | 3                 | 3                 | 0                 | low_spend_cust    |\n",
       "|  6                | 64                | 17                | 0                 | 22                | 107               |  5.6              | 1.06              |  0.06             | 4.93              | ...               | 5                 | -1                | -1.0              | -1                | 3                 | 3                 | 2                 | 3                 | 0                 | medium_spend_cust |\n",
       "|  8                | 44                | 16                | 0                 | 11                |  97               | 14.4              | 5.95              |  1.78             | 8.02              | ...               | 4                 |  0                | 55.5              |  0                | 3                 | 1                 | 4                 | 3                 | 0                 | medium_spend_cust |\n",
       "| 11                | 59                | 19                | 0                 |  8                |  47               |  8.6              | 1.36              |  0.31             | 2.68              | ...               | 3                 |  0                | 28.0              |  0                | 1                 | 1                 | 4                 | 3                 | 3                 | medium_spend_cust |\n",
       "| 15                | 72                | 20                | 1                 | 27                |  17               |  9.8              | 1.28              |  0.24             | 0.39              | ...               | 3                 |  1                |  9.3              |  0                | 4                 | 4                 | 3                 | 3                 | 0                 | medium_spend_cust |\n",
       "\n"
      ],
      "text/plain": [
       "  X1 age ed union employ income debtinc creddebt lncreddebt othdebt ...\n",
       "1  2 22  17 0      0      15    18.6    1.22      0.20      1.57    ...\n",
       "2  3 67  14 0     16      35     9.9    0.93     -0.07      2.54    ...\n",
       "3  6 64  17 0     22     107     5.6    1.06      0.06      4.93    ...\n",
       "4  8 44  16 0     11      97    14.4    5.95      1.78      8.02    ...\n",
       "5 11 59  19 0      8      47     8.6    1.36      0.31      2.68    ...\n",
       "6 15 72  20 1     27      17     9.8    1.28      0.24      0.39    ...\n",
       "  addresscat cartype carvalue carbought card2 card2type card2benefit bfast\n",
       "1 1           1       6.8      0        4     1         3            1    \n",
       "2 5           1      18.8      0        4     1         3            3    \n",
       "3 5          -1      -1.0     -1        3     3         2            3    \n",
       "4 4           0      55.5      0        3     1         4            3    \n",
       "5 3           0      28.0      0        1     1         4            3    \n",
       "6 3           1       9.3      0        4     4         3            3    \n",
       "  internet Customer_cat     \n",
       "1 4        low_spend_cust   \n",
       "2 0        low_spend_cust   \n",
       "3 0        medium_spend_cust\n",
       "4 0        medium_spend_cust\n",
       "5 3        medium_spend_cust\n",
       "6 0        medium_spend_cust"
      ]
     },
     "metadata": {},
     "output_type": "display_data"
    }
   ],
   "source": [
    "# A função read_csv mostra o que aconteceu\n",
    "?read_csv\n",
    "dados_treino <- read_csv(\"dados/dados_treino_balanceados.csv\")\n",
    "dados_teste <- read_csv(\"dados/dados_teste.csv\")\n",
    "dim(dados_treino)\n",
    "dim(dados_teste)\n",
    "head(dados_treino)\n",
    "head(dados_teste)"
   ]
  },
  {
   "cell_type": "code",
   "execution_count": 7,
   "metadata": {},
   "outputs": [
    {
     "data": {
      "text/html": [
       "<ol class=list-inline>\n",
       "\t<li>8554</li>\n",
       "\t<li>117</li>\n",
       "</ol>\n"
      ],
      "text/latex": [
       "\\begin{enumerate*}\n",
       "\\item 8554\n",
       "\\item 117\n",
       "\\end{enumerate*}\n"
      ],
      "text/markdown": [
       "1. 8554\n",
       "2. 117\n",
       "\n",
       "\n"
      ],
      "text/plain": [
       "[1] 8554  117"
      ]
     },
     "metadata": {},
     "output_type": "display_data"
    },
    {
     "data": {
      "text/html": [
       "<ol class=list-inline>\n",
       "\t<li>1000</li>\n",
       "\t<li>117</li>\n",
       "</ol>\n"
      ],
      "text/latex": [
       "\\begin{enumerate*}\n",
       "\\item 1000\n",
       "\\item 117\n",
       "\\end{enumerate*}\n"
      ],
      "text/markdown": [
       "1. 1000\n",
       "2. 117\n",
       "\n",
       "\n"
      ],
      "text/plain": [
       "[1] 1000  117"
      ]
     },
     "metadata": {},
     "output_type": "display_data"
    }
   ],
   "source": [
    "# Removemos a coluna X criada na indexação randômica\n",
    "dados_treino <- dados_treino[-1]\n",
    "dados_teste <- dados_teste[-1]\n",
    "\n",
    "dim(dados_treino)\n",
    "dim(dados_teste)"
   ]
  },
  {
   "cell_type": "code",
   "execution_count": 8,
   "metadata": {},
   "outputs": [
    {
     "data": {
      "text/html": [
       "<table>\n",
       "<thead><tr><th scope=col>age</th><th scope=col>ed</th><th scope=col>union</th><th scope=col>employ</th><th scope=col>income</th><th scope=col>debtinc</th><th scope=col>creddebt</th><th scope=col>lncreddebt</th><th scope=col>othdebt</th><th scope=col>lnothdebt</th><th scope=col>...</th><th scope=col>addresscat</th><th scope=col>cartype</th><th scope=col>carvalue</th><th scope=col>carbought</th><th scope=col>card2</th><th scope=col>card2type</th><th scope=col>card2benefit</th><th scope=col>bfast</th><th scope=col>internet</th><th scope=col>Customer_cat</th></tr></thead>\n",
       "<tbody>\n",
       "\t<tr><td>18               </td><td>13               </td><td>0                </td><td> 0               </td><td> 19              </td><td>13.0             </td><td>1.59             </td><td> 0.46            </td><td> 0.88            </td><td>-0.13            </td><td>...              </td><td>1                </td><td>0                </td><td> 9.0             </td><td>0                </td><td>3                </td><td>4                </td><td>4                </td><td>3                </td><td>0                </td><td>medium_spend_cust</td></tr>\n",
       "\t<tr><td>20               </td><td>15               </td><td>0                </td><td> 0               </td><td> 42              </td><td> 5.3             </td><td>0.67             </td><td>-0.41            </td><td> 1.56            </td><td> 0.44            </td><td>...              </td><td>1                </td><td>0                </td><td>19.4             </td><td>1                </td><td>2                </td><td>3                </td><td>1                </td><td>1                </td><td>0                </td><td>medium_spend_cust</td></tr>\n",
       "\t<tr><td>19               </td><td>14               </td><td>0                </td><td> 0               </td><td> 18              </td><td> 1.2             </td><td>0.04             </td><td>-3.15            </td><td> 0.17            </td><td>-1.75            </td><td>...              </td><td>1                </td><td>0                </td><td> 9.4             </td><td>1                </td><td>1                </td><td>3                </td><td>1                </td><td>3                </td><td>3                </td><td>medium_spend_cust</td></tr>\n",
       "\t<tr><td>35               </td><td>15               </td><td>0                </td><td> 7               </td><td> 30              </td><td> 2.7             </td><td>0.25             </td><td>-1.37            </td><td> 0.56            </td><td>-0.59            </td><td>...              </td><td>2                </td><td>1                </td><td>11.0             </td><td>1                </td><td>2                </td><td>1                </td><td>1                </td><td>3                </td><td>4                </td><td>medium_spend_cust</td></tr>\n",
       "\t<tr><td>43               </td><td>17               </td><td>0                </td><td> 8               </td><td>115              </td><td>19.8             </td><td>8.13             </td><td> 2.10            </td><td>14.64            </td><td> 2.68            </td><td>...              </td><td>4                </td><td>1                </td><td>50.8             </td><td>0                </td><td>3                </td><td>2                </td><td>4                </td><td>2                </td><td>0                </td><td>low_spend_cust   </td></tr>\n",
       "\t<tr><td>48               </td><td>17               </td><td>0                </td><td>15               </td><td> 80              </td><td> 3.4             </td><td>1.52             </td><td> 0.42            </td><td> 1.20            </td><td> 0.19            </td><td>...              </td><td>4                </td><td>0                </td><td>48.0             </td><td>0                </td><td>4                </td><td>4                </td><td>1                </td><td>2                </td><td>0                </td><td>low_spend_cust   </td></tr>\n",
       "</tbody>\n",
       "</table>\n"
      ],
      "text/latex": [
       "\\begin{tabular}{r|lllllllllllllllllllllllllllllllllllllllllllllllllllllllllllllllllllllllllllllllllllllllllllllllllllllllllllllllllllll}\n",
       " age & ed & union & employ & income & debtinc & creddebt & lncreddebt & othdebt & lnothdebt & ... & addresscat & cartype & carvalue & carbought & card2 & card2type & card2benefit & bfast & internet & Customer\\_cat\\\\\n",
       "\\hline\n",
       "\t 18                    & 13                    & 0                     &  0                    &  19                   & 13.0                  & 1.59                  &  0.46                 &  0.88                 & -0.13                 & ...                   & 1                     & 0                     &  9.0                  & 0                     & 3                     & 4                     & 4                     & 3                     & 0                     & medium\\_spend\\_cust\\\\\n",
       "\t 20                    & 15                    & 0                     &  0                    &  42                   &  5.3                  & 0.67                  & -0.41                 &  1.56                 &  0.44                 & ...                   & 1                     & 0                     & 19.4                  & 1                     & 2                     & 3                     & 1                     & 1                     & 0                     & medium\\_spend\\_cust\\\\\n",
       "\t 19                    & 14                    & 0                     &  0                    &  18                   &  1.2                  & 0.04                  & -3.15                 &  0.17                 & -1.75                 & ...                   & 1                     & 0                     &  9.4                  & 1                     & 1                     & 3                     & 1                     & 3                     & 3                     & medium\\_spend\\_cust\\\\\n",
       "\t 35                    & 15                    & 0                     &  7                    &  30                   &  2.7                  & 0.25                  & -1.37                 &  0.56                 & -0.59                 & ...                   & 2                     & 1                     & 11.0                  & 1                     & 2                     & 1                     & 1                     & 3                     & 4                     & medium\\_spend\\_cust\\\\\n",
       "\t 43                    & 17                    & 0                     &  8                    & 115                   & 19.8                  & 8.13                  &  2.10                 & 14.64                 &  2.68                 & ...                   & 4                     & 1                     & 50.8                  & 0                     & 3                     & 2                     & 4                     & 2                     & 0                     & low\\_spend\\_cust   \\\\\n",
       "\t 48                    & 17                    & 0                     & 15                    &  80                   &  3.4                  & 1.52                  &  0.42                 &  1.20                 &  0.19                 & ...                   & 4                     & 0                     & 48.0                  & 0                     & 4                     & 4                     & 1                     & 2                     & 0                     & low\\_spend\\_cust   \\\\\n",
       "\\end{tabular}\n"
      ],
      "text/markdown": [
       "\n",
       "| age | ed | union | employ | income | debtinc | creddebt | lncreddebt | othdebt | lnothdebt | ... | addresscat | cartype | carvalue | carbought | card2 | card2type | card2benefit | bfast | internet | Customer_cat |\n",
       "|---|---|---|---|---|---|---|---|---|---|---|---|---|---|---|---|---|---|---|---|---|\n",
       "| 18                | 13                | 0                 |  0                |  19               | 13.0              | 1.59              |  0.46             |  0.88             | -0.13             | ...               | 1                 | 0                 |  9.0              | 0                 | 3                 | 4                 | 4                 | 3                 | 0                 | medium_spend_cust |\n",
       "| 20                | 15                | 0                 |  0                |  42               |  5.3              | 0.67              | -0.41             |  1.56             |  0.44             | ...               | 1                 | 0                 | 19.4              | 1                 | 2                 | 3                 | 1                 | 1                 | 0                 | medium_spend_cust |\n",
       "| 19                | 14                | 0                 |  0                |  18               |  1.2              | 0.04              | -3.15             |  0.17             | -1.75             | ...               | 1                 | 0                 |  9.4              | 1                 | 1                 | 3                 | 1                 | 3                 | 3                 | medium_spend_cust |\n",
       "| 35                | 15                | 0                 |  7                |  30               |  2.7              | 0.25              | -1.37             |  0.56             | -0.59             | ...               | 2                 | 1                 | 11.0              | 1                 | 2                 | 1                 | 1                 | 3                 | 4                 | medium_spend_cust |\n",
       "| 43                | 17                | 0                 |  8                | 115               | 19.8              | 8.13              |  2.10             | 14.64             |  2.68             | ...               | 4                 | 1                 | 50.8              | 0                 | 3                 | 2                 | 4                 | 2                 | 0                 | low_spend_cust    |\n",
       "| 48                | 17                | 0                 | 15                |  80               |  3.4              | 1.52              |  0.42             |  1.20             |  0.19             | ...               | 4                 | 0                 | 48.0              | 0                 | 4                 | 4                 | 1                 | 2                 | 0                 | low_spend_cust    |\n",
       "\n"
      ],
      "text/plain": [
       "  age ed union employ income debtinc creddebt lncreddebt othdebt lnothdebt ...\n",
       "1 18  13 0      0      19    13.0    1.59      0.46       0.88   -0.13     ...\n",
       "2 20  15 0      0      42     5.3    0.67     -0.41       1.56    0.44     ...\n",
       "3 19  14 0      0      18     1.2    0.04     -3.15       0.17   -1.75     ...\n",
       "4 35  15 0      7      30     2.7    0.25     -1.37       0.56   -0.59     ...\n",
       "5 43  17 0      8     115    19.8    8.13      2.10      14.64    2.68     ...\n",
       "6 48  17 0     15      80     3.4    1.52      0.42       1.20    0.19     ...\n",
       "  addresscat cartype carvalue carbought card2 card2type card2benefit bfast\n",
       "1 1          0        9.0     0         3     4         4            3    \n",
       "2 1          0       19.4     1         2     3         1            1    \n",
       "3 1          0        9.4     1         1     3         1            3    \n",
       "4 2          1       11.0     1         2     1         1            3    \n",
       "5 4          1       50.8     0         3     2         4            2    \n",
       "6 4          0       48.0     0         4     4         1            2    \n",
       "  internet Customer_cat     \n",
       "1 0        medium_spend_cust\n",
       "2 0        medium_spend_cust\n",
       "3 3        medium_spend_cust\n",
       "4 4        medium_spend_cust\n",
       "5 0        low_spend_cust   \n",
       "6 0        low_spend_cust   "
      ]
     },
     "metadata": {},
     "output_type": "display_data"
    }
   ],
   "source": [
    "# Transformando a variável target em valor numérico\n",
    "head(dados_treino)"
   ]
  },
  {
   "cell_type": "code",
   "execution_count": 9,
   "metadata": {},
   "outputs": [
    {
     "name": "stdout",
     "output_type": "stream",
     "text": [
      " chr [1:8554] \"medium_spend_cust\" \"medium_spend_cust\" \"medium_spend_cust\" ...\n"
     ]
    }
   ],
   "source": [
    "str(dados_treino$Customer_cat)"
   ]
  },
  {
   "cell_type": "code",
   "execution_count": 10,
   "metadata": {},
   "outputs": [
    {
     "data": {
      "text/html": [
       "<ol class=list-inline>\n",
       "\t<li>'medium_spend_cust'</li>\n",
       "\t<li>'medium_spend_cust'</li>\n",
       "\t<li>'medium_spend_cust'</li>\n",
       "\t<li>'medium_spend_cust'</li>\n",
       "\t<li>'low_spend_cust'</li>\n",
       "\t<li>'low_spend_cust'</li>\n",
       "</ol>\n"
      ],
      "text/latex": [
       "\\begin{enumerate*}\n",
       "\\item 'medium\\_spend\\_cust'\n",
       "\\item 'medium\\_spend\\_cust'\n",
       "\\item 'medium\\_spend\\_cust'\n",
       "\\item 'medium\\_spend\\_cust'\n",
       "\\item 'low\\_spend\\_cust'\n",
       "\\item 'low\\_spend\\_cust'\n",
       "\\end{enumerate*}\n"
      ],
      "text/markdown": [
       "1. 'medium_spend_cust'\n",
       "2. 'medium_spend_cust'\n",
       "3. 'medium_spend_cust'\n",
       "4. 'medium_spend_cust'\n",
       "5. 'low_spend_cust'\n",
       "6. 'low_spend_cust'\n",
       "\n",
       "\n"
      ],
      "text/plain": [
       "[1] \"medium_spend_cust\" \"medium_spend_cust\" \"medium_spend_cust\"\n",
       "[4] \"medium_spend_cust\" \"low_spend_cust\"    \"low_spend_cust\"   "
      ]
     },
     "metadata": {},
     "output_type": "display_data"
    }
   ],
   "source": [
    "head(dados_treino$Customer_cat)"
   ]
  },
  {
   "cell_type": "code",
   "execution_count": 18,
   "metadata": {},
   "outputs": [
    {
     "name": "stdout",
     "output_type": "stream",
     "text": [
      " num [1:8554] 3 3 3 3 2 2 2 2 2 2 ...\n"
     ]
    },
    {
     "data": {
      "text/html": [
       "<ol class=list-inline>\n",
       "\t<li>3</li>\n",
       "\t<li>3</li>\n",
       "\t<li>3</li>\n",
       "\t<li>3</li>\n",
       "\t<li>2</li>\n",
       "\t<li>2</li>\n",
       "</ol>\n"
      ],
      "text/latex": [
       "\\begin{enumerate*}\n",
       "\\item 3\n",
       "\\item 3\n",
       "\\item 3\n",
       "\\item 3\n",
       "\\item 2\n",
       "\\item 2\n",
       "\\end{enumerate*}\n"
      ],
      "text/markdown": [
       "1. 3\n",
       "2. 3\n",
       "3. 3\n",
       "4. 3\n",
       "5. 2\n",
       "6. 2\n",
       "\n",
       "\n"
      ],
      "text/plain": [
       "[1] 3 3 3 3 2 2"
      ]
     },
     "metadata": {},
     "output_type": "display_data"
    }
   ],
   "source": [
    "dados_treino$Customer_cat <- as.numeric(as.factor(dados_treino$Customer_cat))\n",
    "str(dados_treino$Customer_cat)\n",
    "head(dados_treino$Customer_cat)"
   ]
  },
  {
   "cell_type": "code",
   "execution_count": 19,
   "metadata": {},
   "outputs": [
    {
     "name": "stdout",
     "output_type": "stream",
     "text": [
      " Factor w/ 3 levels \"1\",\"2\",\"3\": 3 3 3 3 2 2 2 2 2 2 ...\n"
     ]
    },
    {
     "data": {
      "text/html": [
       "<ol class=list-inline>\n",
       "\t<li>3</li>\n",
       "\t<li>3</li>\n",
       "\t<li>3</li>\n",
       "\t<li>3</li>\n",
       "\t<li>2</li>\n",
       "\t<li>2</li>\n",
       "</ol>\n",
       "\n",
       "<details>\n",
       "\t<summary style=display:list-item;cursor:pointer>\n",
       "\t\t<strong>Levels</strong>:\n",
       "\t</summary>\n",
       "\t<ol class=list-inline>\n",
       "\t\t<li>'1'</li>\n",
       "\t\t<li>'2'</li>\n",
       "\t\t<li>'3'</li>\n",
       "\t</ol>\n",
       "</details>"
      ],
      "text/latex": [
       "\\begin{enumerate*}\n",
       "\\item 3\n",
       "\\item 3\n",
       "\\item 3\n",
       "\\item 3\n",
       "\\item 2\n",
       "\\item 2\n",
       "\\end{enumerate*}\n",
       "\n",
       "\\emph{Levels}: \\begin{enumerate*}\n",
       "\\item '1'\n",
       "\\item '2'\n",
       "\\item '3'\n",
       "\\end{enumerate*}\n"
      ],
      "text/markdown": [
       "1. 3\n",
       "2. 3\n",
       "3. 3\n",
       "4. 3\n",
       "5. 2\n",
       "6. 2\n",
       "\n",
       "\n",
       "\n",
       "**Levels**: 1. '1'\n",
       "2. '2'\n",
       "3. '3'\n",
       "\n",
       "\n"
      ],
      "text/plain": [
       "[1] 3 3 3 3 2 2\n",
       "Levels: 1 2 3"
      ]
     },
     "metadata": {},
     "output_type": "display_data"
    }
   ],
   "source": [
    "dados_treino$Customer_cat <- as.factor(dados_treino$Customer_cat)\n",
    "str(dados_treino$Customer_cat)\n",
    "head(dados_treino$Customer_cat)"
   ]
  },
  {
   "cell_type": "code",
   "execution_count": 16,
   "metadata": {},
   "outputs": [
    {
     "name": "stdout",
     "output_type": "stream",
     "text": [
      " Factor w/ 3 levels \"1\",\"2\",\"3\": 2 2 3 3 3 3 3 3 2 3 ...\n"
     ]
    },
    {
     "data": {
      "text/html": [
       "<ol class=list-inline>\n",
       "\t<li>2</li>\n",
       "\t<li>2</li>\n",
       "\t<li>3</li>\n",
       "\t<li>3</li>\n",
       "\t<li>3</li>\n",
       "\t<li>3</li>\n",
       "</ol>\n",
       "\n",
       "<details>\n",
       "\t<summary style=display:list-item;cursor:pointer>\n",
       "\t\t<strong>Levels</strong>:\n",
       "\t</summary>\n",
       "\t<ol class=list-inline>\n",
       "\t\t<li>'1'</li>\n",
       "\t\t<li>'2'</li>\n",
       "\t\t<li>'3'</li>\n",
       "\t</ol>\n",
       "</details>"
      ],
      "text/latex": [
       "\\begin{enumerate*}\n",
       "\\item 2\n",
       "\\item 2\n",
       "\\item 3\n",
       "\\item 3\n",
       "\\item 3\n",
       "\\item 3\n",
       "\\end{enumerate*}\n",
       "\n",
       "\\emph{Levels}: \\begin{enumerate*}\n",
       "\\item '1'\n",
       "\\item '2'\n",
       "\\item '3'\n",
       "\\end{enumerate*}\n"
      ],
      "text/markdown": [
       "1. 2\n",
       "2. 2\n",
       "3. 3\n",
       "4. 3\n",
       "5. 3\n",
       "6. 3\n",
       "\n",
       "\n",
       "\n",
       "**Levels**: 1. '1'\n",
       "2. '2'\n",
       "3. '3'\n",
       "\n",
       "\n"
      ],
      "text/plain": [
       "[1] 2 2 3 3 3 3\n",
       "Levels: 1 2 3"
      ]
     },
     "metadata": {},
     "output_type": "display_data"
    }
   ],
   "source": [
    "dados_teste$Customer_cat <- as.numeric(as.factor(dados_teste$Customer_cat))\n",
    "dados_teste$Customer_cat <- as.factor(dados_teste$Customer_cat)\n",
    "str(dados_teste$Customer_cat)\n",
    "head(dados_teste$Customer_cat)"
   ]
  },
  {
   "cell_type": "code",
   "execution_count": 20,
   "metadata": {},
   "outputs": [
    {
     "data": {
      "text/plain": [
       "\n",
       "Call:\n",
       "svm(formula = Customer_cat ~ ., data = dados_treino, na.action = na.omit, \n",
       "    scale = TRUE)\n",
       "\n",
       "\n",
       "Parameters:\n",
       "   SVM-Type:  C-classification \n",
       " SVM-Kernel:  radial \n",
       "       cost:  1 \n",
       "\n",
       "Number of Support Vectors:  4032\n",
       "\n",
       " ( 2183 1360 489 )\n",
       "\n",
       "\n",
       "Number of Classes:  3 \n",
       "\n",
       "Levels: \n",
       " 1 2 3\n",
       "\n",
       "\n"
      ]
     },
     "metadata": {},
     "output_type": "display_data"
    },
    {
     "name": "stdout",
     "output_type": "stream",
     "text": [
      "\n",
      "Call:\n",
      "svm(formula = Customer_cat ~ ., data = dados_treino, na.action = na.omit, \n",
      "    scale = TRUE)\n",
      "\n",
      "\n",
      "Parameters:\n",
      "   SVM-Type:  C-classification \n",
      " SVM-Kernel:  radial \n",
      "       cost:  1 \n",
      "\n",
      "Number of Support Vectors:  4032\n",
      "\n"
     ]
    }
   ],
   "source": [
    "##### Modelagem Preditiva ##### \n",
    "\n",
    "# Primeira versão do modelo SVM - Versão Padrão com Kernel Radial (RBF)\n",
    "# O algoritmo escolhe o tipo de SVM de acordo com o tipo de dado da variável target\n",
    "?svm\n",
    "modelo_v1 <- svm(Customer_cat ~ ., data = dados_treino, na.action = na.omit, scale = TRUE)\n",
    "summary(modelo_v1)\n",
    "print(modelo_v1)"
   ]
  },
  {
   "cell_type": "code",
   "execution_count": 21,
   "metadata": {},
   "outputs": [],
   "source": [
    "# Fazendo previsões com o modelo\n",
    "previsoes_v1 <- predict(modelo_v1, newdata = dados_teste)"
   ]
  },
  {
   "cell_type": "code",
   "execution_count": 22,
   "metadata": {},
   "outputs": [
    {
     "data": {
      "text/plain": [
       "Confusion Matrix and Statistics\n",
       "\n",
       "          Reference\n",
       "Prediction   1   2   3\n",
       "         1   5   0   5\n",
       "         2   0 187  54\n",
       "         3  18 116 615\n",
       "\n",
       "Overall Statistics\n",
       "                                         \n",
       "               Accuracy : 0.807          \n",
       "                 95% CI : (0.7811, 0.831)\n",
       "    No Information Rate : 0.674          \n",
       "    P-Value [Acc > NIR] : < 2.2e-16      \n",
       "                                         \n",
       "                  Kappa : 0.5426         \n",
       "                                         \n",
       " Mcnemar's Test P-Value : NA             \n",
       "\n",
       "Statistics by Class:\n",
       "\n",
       "                     Class: 1 Class: 2 Class: 3\n",
       "Sensitivity            0.2174   0.6172   0.9125\n",
       "Specificity            0.9949   0.9225   0.5890\n",
       "Pos Pred Value         0.5000   0.7759   0.8211\n",
       "Neg Pred Value         0.9818   0.8472   0.7649\n",
       "Prevalence             0.0230   0.3030   0.6740\n",
       "Detection Rate         0.0050   0.1870   0.6150\n",
       "Detection Prevalence   0.0100   0.2410   0.7490\n",
       "Balanced Accuracy      0.6061   0.7698   0.7507"
      ]
     },
     "metadata": {},
     "output_type": "display_data"
    }
   ],
   "source": [
    "# Matriz de Confusão\n",
    "?caret::confusionMatrix\n",
    "caret::confusionMatrix(previsoes_v1, dados_teste$Customer_cat)"
   ]
  },
  {
   "cell_type": "code",
   "execution_count": 23,
   "metadata": {},
   "outputs": [
    {
     "data": {
      "text/html": [
       "1000"
      ],
      "text/latex": [
       "1000"
      ],
      "text/markdown": [
       "1000"
      ],
      "text/plain": [
       "[1] 1000"
      ]
     },
     "metadata": {},
     "output_type": "display_data"
    },
    {
     "data": {
      "text/html": [
       "1000"
      ],
      "text/latex": [
       "1000"
      ],
      "text/markdown": [
       "1000"
      ],
      "text/plain": [
       "[1] 1000"
      ]
     },
     "metadata": {},
     "output_type": "display_data"
    }
   ],
   "source": [
    "# Por que o erro aconteceu? Vamos checar! Isso chama-se troubleshooting.\n",
    "\n",
    "# Comprimento do valor real e do valor previsto\n",
    "length(dados_teste$Customer_cat)\n",
    "length(previsoes_v1)"
   ]
  },
  {
   "cell_type": "code",
   "execution_count": 24,
   "metadata": {},
   "outputs": [
    {
     "data": {
      "text/html": [
       "0"
      ],
      "text/latex": [
       "0"
      ],
      "text/markdown": [
       "0"
      ],
      "text/plain": [
       "[1] 0"
      ]
     },
     "metadata": {},
     "output_type": "display_data"
    }
   ],
   "source": [
    "# Temos valores NA em teste?\n",
    "sum(is.na(dados_teste))"
   ]
  },
  {
   "cell_type": "code",
   "execution_count": 25,
   "metadata": {},
   "outputs": [
    {
     "data": {
      "text/html": [
       "1000"
      ],
      "text/latex": [
       "1000"
      ],
      "text/markdown": [
       "1000"
      ],
      "text/plain": [
       "[1] 1000"
      ]
     },
     "metadata": {},
     "output_type": "display_data"
    },
    {
     "data": {
      "text/html": [
       "0"
      ],
      "text/latex": [
       "0"
      ],
      "text/markdown": [
       "0"
      ],
      "text/plain": [
       "[1] 0"
      ]
     },
     "metadata": {},
     "output_type": "display_data"
    }
   ],
   "source": [
    "# Removemos valores NA\n",
    "dados_teste = na.omit(dados_teste)\n",
    "length(dados_teste$Customer_cat)\n",
    "sum(is.na(dados_teste))"
   ]
  },
  {
   "cell_type": "code",
   "execution_count": 26,
   "metadata": {},
   "outputs": [
    {
     "data": {
      "text/plain": [
       "Confusion Matrix and Statistics\n",
       "\n",
       "          Reference\n",
       "Prediction   1   2   3\n",
       "         1   5   0   5\n",
       "         2   0 187  54\n",
       "         3  18 116 615\n",
       "\n",
       "Overall Statistics\n",
       "                                         \n",
       "               Accuracy : 0.807          \n",
       "                 95% CI : (0.7811, 0.831)\n",
       "    No Information Rate : 0.674          \n",
       "    P-Value [Acc > NIR] : < 2.2e-16      \n",
       "                                         \n",
       "                  Kappa : 0.5426         \n",
       "                                         \n",
       " Mcnemar's Test P-Value : NA             \n",
       "\n",
       "Statistics by Class:\n",
       "\n",
       "                     Class: 1 Class: 2 Class: 3\n",
       "Sensitivity            0.2174   0.6172   0.9125\n",
       "Specificity            0.9949   0.9225   0.5890\n",
       "Pos Pred Value         0.5000   0.7759   0.8211\n",
       "Neg Pred Value         0.9818   0.8472   0.7649\n",
       "Prevalence             0.0230   0.3030   0.6740\n",
       "Detection Rate         0.0050   0.1870   0.6150\n",
       "Detection Prevalence   0.0100   0.2410   0.7490\n",
       "Balanced Accuracy      0.6061   0.7698   0.7507"
      ]
     },
     "metadata": {},
     "output_type": "display_data"
    }
   ],
   "source": [
    "# E agora sim a matriz de confusão\n",
    "caret::confusionMatrix(previsoes_v1, dados_teste$Customer_cat)"
   ]
  },
  {
   "cell_type": "code",
   "execution_count": 27,
   "metadata": {},
   "outputs": [
    {
     "name": "stdout",
     "output_type": "stream",
     "text": [
      "package 'multiROC' successfully unpacked and MD5 sums checked\n",
      "\n",
      "The downloaded binary packages are in\n",
      "\tC:\\Users\\cassi\\AppData\\Local\\Temp\\RtmpoPDhVV\\downloaded_packages\n"
     ]
    },
    {
     "name": "stderr",
     "output_type": "stream",
     "text": [
      "Warning message:\n",
      "\"package 'multiROC' was built under R version 3.6.3\""
     ]
    }
   ],
   "source": [
    "# Métricas\n",
    "install.packages(\"multiROC\")\n",
    "library(multiROC)"
   ]
  },
  {
   "cell_type": "code",
   "execution_count": 28,
   "metadata": {},
   "outputs": [
    {
     "ename": "ERROR",
     "evalue": "Error in roc.default(response, predictor, levels = X, percent = percent, : Predictor must be numeric or ordered.\n",
     "output_type": "error",
     "traceback": [
      "Error in roc.default(response, predictor, levels = X, percent = percent, : Predictor must be numeric or ordered.\nTraceback:\n",
      "1. multiclass.roc(response = dados_teste$Customer_cat, predictor = previsoes_v1)",
      "2. multiclass.roc.default(response = dados_teste$Customer_cat, predictor = previsoes_v1)",
      "3. multiclass.roc.univariate(response, predictor, levels, percent, \n .     direction, ...)",
      "4. utils::combn(levels, 2, function(X, response, predictor, percent, \n .     ...) {\n .     roc(response, predictor, levels = X, percent = percent, auc = FALSE, \n .         ci = FALSE, ...)\n . }, simplify = FALSE, response = response, predictor = predictor, \n .     percent = percent, direction = direction, ...)",
      "5. FUN(x[a], ...)",
      "6. roc(response, predictor, levels = X, percent = percent, auc = FALSE, \n .     ci = FALSE, ...)",
      "7. roc.default(response, predictor, levels = X, percent = percent, \n .     auc = FALSE, ci = FALSE, ...)",
      "8. stop(\"Predictor must be numeric or ordered.\")"
     ]
    }
   ],
   "source": [
    "?multiclass.roc\n",
    "curva_roc <- multiclass.roc(response = dados_teste$Customer_cat, predictor = previsoes_v1)\n",
    "class(dados_teste$Customer_cat)\n",
    "class(previsoes_v1)"
   ]
  },
  {
   "cell_type": "code",
   "execution_count": 29,
   "metadata": {},
   "outputs": [
    {
     "name": "stderr",
     "output_type": "stream",
     "text": [
      "Setting direction: controls > cases\n",
      "Setting direction: controls < cases\n",
      "Setting direction: controls < cases\n"
     ]
    }
   ],
   "source": [
    "# Faz a conversão\n",
    "curva_roc <- multiclass.roc(response = dados_teste$Customer_cat, predictor = as.numeric(as.factor(previsoes_v1)))"
   ]
  },
  {
   "cell_type": "code",
   "execution_count": 30,
   "metadata": {},
   "outputs": [
    {
     "data": {
      "text/html": [
       "0.656320402392452"
      ],
      "text/latex": [
       "0.656320402392452"
      ],
      "text/markdown": [
       "0.656320402392452"
      ],
      "text/plain": [
       "Multi-class area under the curve: 0.6563"
      ]
     },
     "metadata": {},
     "output_type": "display_data"
    },
    {
     "ename": "ERROR",
     "evalue": "Error in View(final_df): 'View()' not yet supported in the Jupyter R kernel\n",
     "output_type": "error",
     "traceback": [
      "Error in View(final_df): 'View()' not yet supported in the Jupyter R kernel\nTraceback:\n",
      "1. View(final_df)",
      "2. stop(sQuote(\"View()\"), \" not yet supported in the Jupyter R kernel\")"
     ]
    }
   ],
   "source": [
    "# Score AUC (Area Under The Curve)\n",
    "curva_roc$auc\n",
    "\n",
    "# Juntando valores reais e previstos na mesma tabela\n",
    "\n",
    "# Previsões\n",
    "valores_previstos <- data.frame(as.numeric(as.factor(previsoes_v1)))\n",
    "colnames(valores_previstos) <- (\"previsão\")\n",
    "\n",
    "# Valores reais\n",
    "valores_reais <- data.frame(as.numeric(as.factor(dados_teste$Customer_cat)))\n",
    "colnames(valores_reais) <- (\"valor_real\")\n",
    "\n",
    "# Dataframe final\n",
    "final_df <- cbind(valores_reais, valores_previstos)\n",
    "View(final_df)\n",
    "\n",
    "\n",
    "# Segunda versão do modelo SVM - Versão com Kernel Linear e GridSearch\n",
    "\n",
    "# Vamos fazer uma pesquisa em grade (Grid Search) para o ajuste de hiperparâmetros e usar Kernel linear. \n",
    "# Mas aqui não manteremos o custo superior a 2, para que valores discrepantes não afetem extensivamente \n",
    "# a criação de limites de decisão e, portanto, levem ao ajuste excessivo (overfitting).\n",
    "set.seed(182)\n",
    "?tune\n",
    "modelo_grid1 <- tune(svm, \n",
    "                     Customer_cat ~ ., \n",
    "                     data = dados_treino, \n",
    "                     kernel = 'linear',\n",
    "                     ranges = list(cost = c(0.05, 0.1, 0.5, 1, 2))) \n",
    "\n",
    "\n",
    "summary(modelo_grid1)\n",
    "\n",
    "# Parâmetros do melhor modelo\n",
    "modelo_grid1$best.parameters\n",
    "\n",
    "# Melhor modelo\n",
    "modelo_grid1$best.model \n",
    "modelo_v2 <- modelo_grid1$best.model \n",
    "summary(modelo_v2)\n",
    "\n",
    "# Previsões\n",
    "previsoes_v2 <- predict(modelo_v2, dados_teste)\n",
    "\n",
    "# Matriz de Confusão e Score AUC\n",
    "confusionMatrix(previsoes_v2, dados_teste$Customer_cat)\n",
    "curva_roc <- multiclass.roc(response = dados_teste$Customer_cat, predictor = as.numeric(as.factor(previsoes_v2)))\n",
    "curva_roc$auc\n",
    "\n",
    "# Está oferecendo um desempenho muito melhor em termos de sensibilidade na previsão de classes minoritárias\n",
    "\n",
    "\n",
    "# Terceira versão do modelo SVM - Versão com Kernel RBF e Otimização no Parâmetro Gamma\n",
    "\n",
    "# Vamos fazer uma pesquisa em grade para o ajuste de parâmetros com kernel radial, e não manteremos \n",
    "# o custo superior a 2, para que os discrepantes não afetem extensivamente a criação de limites \n",
    "# de decisão e, portanto, levem ao ajuste excessivo.\n",
    "\n",
    "# Da mesma forma, não manteremos um valor muito abaixo de 0,001 para gamma, pois isso levaria a \n",
    "# um excesso de ajuste.\n",
    "set.seed(182)\n",
    "modelo_grid2 <- tune(svm,\n",
    "                     Customer_cat ~ .,\n",
    "                     data = dados_treino,\n",
    "                     kernel='radial',\n",
    "                     ranges = list(cost = c(0.01,0.05,0.1,0.5,1,2),\n",
    "                                   gamma = c(0.0001,0.001,0.01,.05,0.1,0.01,1,2)))\n",
    "\n",
    "summary(modelo_grid2)\n",
    "\n",
    "# Parâmetros do melhor modelo\n",
    "modelo_grid2$best.parameters\n",
    "\n",
    "# Melhor modelo\n",
    "modelo_v3 <- modelo_grid2$best.model \n",
    "\n",
    "# Previsões\n",
    "previsoes_v3 <- predict(modelo_v3, dados_teste)\n",
    "\n",
    "# Matriz de Confusão e Score AUC\n",
    "confusionMatrix(previsoes_v3, dados_teste$Customer_cat)\n",
    "curva_roc <- multiclass.roc(response = dados_teste$Customer_cat, predictor = as.numeric(as.factor(previsoes_v3)))\n",
    "curva_roc$auc\n",
    "\n",
    "\n",
    "# Quarta versão do modelo SVM - Versão com Kernel Polinomial\n",
    "\n",
    "# Vamos fazer uma pesquisa em grade para ajustar parâmetros com kernel poliinomial, e não manteremos \n",
    "# o custo superior a 2, para que os discrepantes não afetem extensivamente a criação de limites \n",
    "# de decisão e, portanto, levem a um excesso de ajuste.\n",
    "\n",
    "# Da mesma forma, não manteremos o grau polinomial de ordem superior a 4, pois isso levaria a \n",
    "# um ajuste excessivo\n",
    "set.seed(182)\n",
    "modelo_grid3 <- tune(svm,\n",
    "                     Customer_cat ~ .,\n",
    "                     data = dados_treino,\n",
    "                     kernel = 'polynomial',\n",
    "                     ranges = list(cost = c(1,2), degree = c(2,3,4)))\n",
    "\n",
    "summary(modelo_grid3)\n",
    "\n",
    "# Parâmetros do melhor modelo\n",
    "modelo_grid3$best.parameters\n",
    "\n",
    "# Melhor modelo\n",
    "modelo_v4 <- modelo_grid3$best.model \n",
    "\n",
    "# Previsões\n",
    "previsoes_v4 <- predict(modelo_v4, dados_teste)\n",
    "\n",
    "# Matriz de Confusão e Score AUC\n",
    "confusionMatrix(previsoes_v4, dados_teste$Customer_cat)\n",
    "curva_roc <- multiclass.roc(response = dados_teste$Customer_cat, predictor = as.numeric(as.factor(previsoes_v4)))\n",
    "curva_roc$auc\n",
    "\n",
    "# Podemos ver que o modelo ajustado com kernel polinomial tem uma sensibilidade fraca na \n",
    "# previsão de clientes com alto gasto para o conjunto de testes.\n",
    "\n",
    "\n",
    "# Comparação dos Modelos\n",
    "\n",
    "# Resultados do Modelo 1\n",
    "resultados_v1 <- caret::confusionMatrix(previsoes_v1, dados_teste$Customer_cat)\n",
    "resultados_v1$overall\n",
    "resultados_v1$byClass\n",
    "\n",
    "# Medidas Globais do Modelo 1\n",
    "acuracia_v1 <- resultados_v1$overall['Accuracy']\n",
    "curva_roc <- multiclass.roc(response = dados_teste$Customer_cat, predictor = as.numeric(as.factor(previsoes_v1)))\n",
    "score_auc_v1 <- curva_roc$auc\n",
    "\n",
    "# Exemplo: Caso você queira outras medidas como precision e recall, lembre-se que elas são por classe\n",
    "precision_v1_classe1 <- resultados_v1$byClass[1, 'Precision']   \n",
    "precision_v1_classe2 <- resultados_v1$byClass[2, 'Precision']  \n",
    "recall_v1_classe3 <- resultados_v1$byClass[3, 'Sensitivity']\n",
    "\n",
    "# Vetor com os resultados de avaliação do Modelo v1\n",
    "vetor_modelo1 <- c(\"Modelo1 Kernel RBF\", round(acuracia_v1, 4), round(score_auc_v1, 4))\n",
    "\n",
    "\n",
    "# Medidas Globais do Modelo 2\n",
    "resultados_v2 <- caret::confusionMatrix(previsoes_v2, dados_teste$Customer_cat)\n",
    "acuracia_v2 <- resultados_v2$overall['Accuracy']\n",
    "curva_roc <- multiclass.roc(response = dados_teste$Customer_cat, predictor = as.numeric(as.factor(previsoes_v2)))\n",
    "score_auc_v2 <- curva_roc$auc\n",
    "\n",
    "# Vetor com os resultados de avaliação do Modelo v2\n",
    "vetor_modelo2 <- c(\"Modelo2 Kernel Linear\", round(acuracia_v2, 4), round(score_auc_v2, 4))\n",
    "\n",
    "\n",
    "# Medidas Globais do Modelo 3\n",
    "resultados_v3 <- caret::confusionMatrix(previsoes_v3, dados_teste$Customer_cat)\n",
    "acuracia_v3 <- resultados_v3$overall['Accuracy']\n",
    "curva_roc <- multiclass.roc(response = dados_teste$Customer_cat, predictor = as.numeric(as.factor(previsoes_v3)))\n",
    "score_auc_v3 <- curva_roc$auc\n",
    "\n",
    "# Vetor com os resultados de avaliação do Modelo v1\n",
    "vetor_modelo3 <- c(\"Modelo3 Kernel RBF Tunning\", round(acuracia_v3, 4), round(score_auc_v3, 4))\n",
    "\n",
    "\n",
    "# Medidas Globais do Modelo 4\n",
    "resultados_v4 <- caret::confusionMatrix(previsoes_v4, dados_teste$Customer_cat)\n",
    "acuracia_v4 <- resultados_v4$overall['Accuracy']\n",
    "curva_roc <- multiclass.roc(response = dados_teste$Customer_cat, predictor = as.numeric(as.factor(previsoes_v4)))\n",
    "score_auc_v4 <- curva_roc$auc\n",
    "\n",
    "# Vetor com os resultados de avaliação do Modelo v1\n",
    "vetor_modelo4 <- c(\"Modelo4 Kernel Polinomial\", round(acuracia_v4, 4), round(score_auc_v4, 4))\n",
    "\n",
    "\n",
    "# Concatenando os resultados\n",
    "# Dataframe para os resultados dos modelos\n",
    "?base::rbind\n",
    "compara_modelos <- rbind(vetor_modelo1, vetor_modelo2, vetor_modelo3, vetor_modelo4)\n",
    "View(compara_modelos)\n",
    "rownames(compara_modelos) <- c(\"1\", \"2\", \"3\", \"4\")\n",
    "colnames(compara_modelos) <- c(\"Modelo\", \"Acuracia\", \"AUC\")\n",
    "View(compara_modelos)\n",
    "class(compara_modelos)\n",
    "compara_modelos <- as.data.frame(compara_modelos)\n",
    "class(compara_modelos)\n",
    "View(compara_modelos)\n",
    "\n",
    "# Plot\n",
    "library(ggplot2)\n",
    "\n",
    "# Acurácia\n",
    "ggplot(compara_modelos, aes(x = Modelo, y = Acuracia, fill = Modelo)) + \n",
    "  geom_bar(stat = \"identity\") \n",
    "\n",
    "# AUC\n",
    "ggplot(compara_modelos, aes(x = Modelo, y = AUC, fill = Modelo)) + \n",
    "  geom_bar(stat = \"identity\")\n",
    "\n",
    "# Assim, o método final proposto é baseado no Kernel Linear, a versão 2 do nosso modelo.\n",
    "\n",
    "\n",
    "# Previsões com o Modelo Escolhido\n",
    "\n",
    "# Salvando o modelo selecionado\n",
    "?saveRDS\n",
    "saveRDS(modelo_v2, \"modelos/modelo_v2.rds\")\n",
    "\n",
    "# Carregando o modelo salvo\n",
    "modelo_svm <- readRDS(\"modelos/modelo_v2.rds\")\n",
    "print(modelo_svm)\n",
    "\n",
    "# Carrega o arquivo com dados de novos clientes.\n",
    "# Para esses clientes não temos a variável target, pois isso é o que queremos prever.\n",
    "novos_clientes <- read.csv(\"dados/novos_clientes.csv\", header = TRUE)\n",
    "View(novos_clientes)\n",
    "dim(novos_clientes)\n",
    "\n",
    "# Fazendo previsões\n",
    "previsoes_novos_clientes <- predict(modelo_svm, novos_clientes)\n",
    "\n",
    "# Apresentando o resultado final\n",
    "\n",
    "# Previsões\n",
    "previsoes_gastos_novos_clientes <- data.frame(as.numeric(as.factor(previsoes_novos_clientes)))\n",
    "colnames(previsoes_gastos_novos_clientes) <- (\"Previsão de Gasto\")\n",
    "\n",
    "# Idade dos clientes\n",
    "idades_novos_clientes <- data.frame(novos_clientes$age)\n",
    "colnames(idades_novos_clientes) <- (\"Idades\")\n",
    "\n",
    "# Dataframe final\n",
    "resultado_final <- cbind(idades_novos_clientes, previsoes_gastos_novos_clientes)\n",
    "View(resultado_final)\n",
    "\n",
    "# Ajusta o label da previsão\n",
    "library(plyr)\n",
    "?mapvalues\n",
    "resultado_final$`Previsão de Gasto` <- mapvalues(resultado_final$`Previsão de Gasto`,\n",
    "                                                 from = c(1,2,3),\n",
    "                                                 to = c(\"Alto\", \"Médio\", \"Baixo\"))\n",
    "\n",
    "View(resultado_final)\n",
    "write.csv(resultado_final, \"dados/resultado_final.csv\")\n",
    "\n",
    "\n"
   ]
  },
  {
   "cell_type": "code",
   "execution_count": null,
   "metadata": {},
   "outputs": [],
   "source": []
  },
  {
   "cell_type": "code",
   "execution_count": 14,
   "metadata": {},
   "outputs": [
    {
     "data": {
      "text/html": [
       "<ol class=list-inline>\n",
       "\t<li>3</li>\n",
       "\t<li>3</li>\n",
       "\t<li>3</li>\n",
       "\t<li>3</li>\n",
       "\t<li>2</li>\n",
       "\t<li>2</li>\n",
       "</ol>\n",
       "\n",
       "<details>\n",
       "\t<summary style=display:list-item;cursor:pointer>\n",
       "\t\t<strong>Levels</strong>:\n",
       "\t</summary>\n",
       "\t<ol class=list-inline>\n",
       "\t\t<li>'1'</li>\n",
       "\t\t<li>'2'</li>\n",
       "\t\t<li>'3'</li>\n",
       "\t</ol>\n",
       "</details>"
      ],
      "text/latex": [
       "\\begin{enumerate*}\n",
       "\\item 3\n",
       "\\item 3\n",
       "\\item 3\n",
       "\\item 3\n",
       "\\item 2\n",
       "\\item 2\n",
       "\\end{enumerate*}\n",
       "\n",
       "\\emph{Levels}: \\begin{enumerate*}\n",
       "\\item '1'\n",
       "\\item '2'\n",
       "\\item '3'\n",
       "\\end{enumerate*}\n"
      ],
      "text/markdown": [
       "1. 3\n",
       "2. 3\n",
       "3. 3\n",
       "4. 3\n",
       "5. 2\n",
       "6. 2\n",
       "\n",
       "\n",
       "\n",
       "**Levels**: 1. '1'\n",
       "2. '2'\n",
       "3. '3'\n",
       "\n",
       "\n"
      ],
      "text/plain": [
       "[1] 3 3 3 3 2 2\n",
       "Levels: 1 2 3"
      ]
     },
     "metadata": {},
     "output_type": "display_data"
    }
   ],
   "source": []
  }
 ],
 "metadata": {
  "kernelspec": {
   "display_name": "R",
   "language": "R",
   "name": "ir"
  },
  "language_info": {
   "codemirror_mode": "r",
   "file_extension": ".r",
   "mimetype": "text/x-r-source",
   "name": "R",
   "pygments_lexer": "r",
   "version": "3.6.1"
  }
 },
 "nbformat": 4,
 "nbformat_minor": 4
}
