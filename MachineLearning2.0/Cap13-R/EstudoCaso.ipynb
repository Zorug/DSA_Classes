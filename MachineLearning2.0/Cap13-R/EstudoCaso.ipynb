{
 "cells": [
  {
   "cell_type": "code",
   "execution_count": 1,
   "metadata": {},
   "outputs": [
    {
     "data": {
      "text/html": [
       "'C:/Users/cassi/OneDrive/Programação/DSA/MachineLearning2.0/Cap13-R'"
      ],
      "text/latex": [
       "'C:/Users/cassi/OneDrive/Programação/DSA/MachineLearning2.0/Cap13-R'"
      ],
      "text/markdown": [
       "'C:/Users/cassi/OneDrive/Programação/DSA/MachineLearning2.0/Cap13-R'"
      ],
      "text/plain": [
       "[1] \"C:/Users/cassi/OneDrive/Programação/DSA/MachineLearning2.0/Cap13-R\""
      ]
     },
     "metadata": {},
     "output_type": "display_data"
    }
   ],
   "source": [
    "# Estudo de Caso - Prevendo os Efeitos do Consumo de Álcool em Doenças do Fígado\n",
    "\n",
    "# Leia o manual em pdf no Capítulo 13 do curso com a especificação do estudo de caso.\n",
    "\n",
    "# Obs: Caso tenha problemas com a acentuação, consulte este link:\n",
    "# https://support.rstudio.com/hc/en-us/articles/200532197-Character-Encoding\n",
    "\n",
    "# Definindo o diretório de trabalho\n",
    "getwd()"
   ]
  },
  {
   "cell_type": "code",
   "execution_count": 2,
   "metadata": {},
   "outputs": [
    {
     "name": "stderr",
     "output_type": "stream",
     "text": [
      "Warning message:\n",
      "\"package 'dplyr' was built under R version 3.6.3\"\n",
      "Attaching package: 'dplyr'\n",
      "\n",
      "The following objects are masked from 'package:stats':\n",
      "\n",
      "    filter, lag\n",
      "\n",
      "The following objects are masked from 'package:base':\n",
      "\n",
      "    intersect, setdiff, setequal, union\n",
      "\n",
      "Warning message:\n",
      "\"package 'caret' was built under R version 3.6.3\"Loading required package: lattice\n",
      "Loading required package: ggplot2\n",
      "Registered S3 methods overwritten by 'ggplot2':\n",
      "  method         from \n",
      "  [.quosures     rlang\n",
      "  c.quosures     rlang\n",
      "  print.quosures rlang\n"
     ]
    },
    {
     "ename": "ERROR",
     "evalue": "Error in library(neuralnet): there is no package called 'neuralnet'\n",
     "output_type": "error",
     "traceback": [
      "Error in library(neuralnet): there is no package called 'neuralnet'\nTraceback:\n",
      "1. library(neuralnet)"
     ]
    }
   ],
   "source": [
    "# Pacotes\n",
    "library(dplyr)\n",
    "library(caret)\n",
    "library(neuralnet)"
   ]
  },
  {
   "cell_type": "code",
   "execution_count": 7,
   "metadata": {},
   "outputs": [
    {
     "data": {
      "text/html": [
       "<table>\n",
       "<thead><tr><th scope=col>idade</th><th scope=col>sexo</th><th scope=col>tot_bilirubin</th><th scope=col>direct_bilirubin</th><th scope=col>tot_proteins</th><th scope=col>albumina</th><th scope=col>ag_ratio</th><th scope=col>sgpt</th><th scope=col>sgot</th><th scope=col>alkphos</th><th scope=col>classe</th></tr></thead>\n",
       "<tbody>\n",
       "\t<tr><td>65    </td><td>Mulher</td><td> 0.7  </td><td>0.1   </td><td>187   </td><td>16    </td><td> 18   </td><td>6.8   </td><td>3.3   </td><td>0.90  </td><td>1     </td></tr>\n",
       "\t<tr><td>62    </td><td>Homem </td><td>10.9  </td><td>5.5   </td><td>699   </td><td>64    </td><td>100   </td><td>7.5   </td><td>3.2   </td><td>0.74  </td><td>1     </td></tr>\n",
       "\t<tr><td>62    </td><td>Homem </td><td> 7.3  </td><td>4.1   </td><td>490   </td><td>60    </td><td> 68   </td><td>7.0   </td><td>3.3   </td><td>0.89  </td><td>1     </td></tr>\n",
       "\t<tr><td>58    </td><td>Homem </td><td> 1.0  </td><td>0.4   </td><td>182   </td><td>14    </td><td> 20   </td><td>6.8   </td><td>3.4   </td><td>1.00  </td><td>1     </td></tr>\n",
       "\t<tr><td>72    </td><td>Homem </td><td> 3.9  </td><td>2.0   </td><td>195   </td><td>27    </td><td> 59   </td><td>7.3   </td><td>2.4   </td><td>0.40  </td><td>1     </td></tr>\n",
       "\t<tr><td>46    </td><td>Homem </td><td> 1.8  </td><td>0.7   </td><td>208   </td><td>19    </td><td> 14   </td><td>7.6   </td><td>4.4   </td><td>1.30  </td><td>1     </td></tr>\n",
       "</tbody>\n",
       "</table>\n"
      ],
      "text/latex": [
       "\\begin{tabular}{r|lllllllllll}\n",
       " idade & sexo & tot\\_bilirubin & direct\\_bilirubin & tot\\_proteins & albumina & ag\\_ratio & sgpt & sgot & alkphos & classe\\\\\n",
       "\\hline\n",
       "\t 65     & Mulher &  0.7   & 0.1    & 187    & 16     &  18    & 6.8    & 3.3    & 0.90   & 1     \\\\\n",
       "\t 62     & Homem  & 10.9   & 5.5    & 699    & 64     & 100    & 7.5    & 3.2    & 0.74   & 1     \\\\\n",
       "\t 62     & Homem  &  7.3   & 4.1    & 490    & 60     &  68    & 7.0    & 3.3    & 0.89   & 1     \\\\\n",
       "\t 58     & Homem  &  1.0   & 0.4    & 182    & 14     &  20    & 6.8    & 3.4    & 1.00   & 1     \\\\\n",
       "\t 72     & Homem  &  3.9   & 2.0    & 195    & 27     &  59    & 7.3    & 2.4    & 0.40   & 1     \\\\\n",
       "\t 46     & Homem  &  1.8   & 0.7    & 208    & 19     &  14    & 7.6    & 4.4    & 1.30   & 1     \\\\\n",
       "\\end{tabular}\n"
      ],
      "text/markdown": [
       "\n",
       "| idade | sexo | tot_bilirubin | direct_bilirubin | tot_proteins | albumina | ag_ratio | sgpt | sgot | alkphos | classe |\n",
       "|---|---|---|---|---|---|---|---|---|---|---|\n",
       "| 65     | Mulher |  0.7   | 0.1    | 187    | 16     |  18    | 6.8    | 3.3    | 0.90   | 1      |\n",
       "| 62     | Homem  | 10.9   | 5.5    | 699    | 64     | 100    | 7.5    | 3.2    | 0.74   | 1      |\n",
       "| 62     | Homem  |  7.3   | 4.1    | 490    | 60     |  68    | 7.0    | 3.3    | 0.89   | 1      |\n",
       "| 58     | Homem  |  1.0   | 0.4    | 182    | 14     |  20    | 6.8    | 3.4    | 1.00   | 1      |\n",
       "| 72     | Homem  |  3.9   | 2.0    | 195    | 27     |  59    | 7.3    | 2.4    | 0.40   | 1      |\n",
       "| 46     | Homem  |  1.8   | 0.7    | 208    | 19     |  14    | 7.6    | 4.4    | 1.30   | 1      |\n",
       "\n"
      ],
      "text/plain": [
       "  idade sexo   tot_bilirubin direct_bilirubin tot_proteins albumina ag_ratio\n",
       "1 65    Mulher  0.7          0.1              187          16        18     \n",
       "2 62    Homem  10.9          5.5              699          64       100     \n",
       "3 62    Homem   7.3          4.1              490          60        68     \n",
       "4 58    Homem   1.0          0.4              182          14        20     \n",
       "5 72    Homem   3.9          2.0              195          27        59     \n",
       "6 46    Homem   1.8          0.7              208          19        14     \n",
       "  sgpt sgot alkphos classe\n",
       "1 6.8  3.3  0.90    1     \n",
       "2 7.5  3.2  0.74    1     \n",
       "3 7.0  3.3  0.89    1     \n",
       "4 6.8  3.4  1.00    1     \n",
       "5 7.3  2.4  0.40    1     \n",
       "6 7.6  4.4  1.30    1     "
      ]
     },
     "metadata": {},
     "output_type": "display_data"
    }
   ],
   "source": [
    "##### Carregando os dados ##### \n",
    "df_pacientes <- read.csv(\"dados/dataset.csv\")\n",
    "head(df_pacientes)"
   ]
  },
  {
   "cell_type": "code",
   "execution_count": 8,
   "metadata": {},
   "outputs": [
    {
     "name": "stdout",
     "output_type": "stream",
     "text": [
      "'data.frame':\t583 obs. of  11 variables:\n",
      " $ idade           : int  65 62 62 58 72 46 26 29 17 55 ...\n",
      " $ sexo            : Factor w/ 2 levels \"Homem\",\"Mulher\": 2 1 1 1 1 1 2 2 1 1 ...\n",
      " $ tot_bilirubin   : num  0.7 10.9 7.3 1 3.9 1.8 0.9 0.9 0.9 0.7 ...\n",
      " $ direct_bilirubin: num  0.1 5.5 4.1 0.4 2 0.7 0.2 0.3 0.3 0.2 ...\n",
      " $ tot_proteins    : int  187 699 490 182 195 208 154 202 202 290 ...\n",
      " $ albumina        : int  16 64 60 14 27 19 16 14 22 53 ...\n",
      " $ ag_ratio        : int  18 100 68 20 59 14 12 11 19 58 ...\n",
      " $ sgpt            : num  6.8 7.5 7 6.8 7.3 7.6 7 6.7 7.4 6.8 ...\n",
      " $ sgot            : num  3.3 3.2 3.3 3.4 2.4 4.4 3.5 3.6 4.1 3.4 ...\n",
      " $ alkphos         : num  0.9 0.74 0.89 1 0.4 1.3 1 1.1 1.2 1 ...\n",
      " $ classe          : int  1 1 1 1 1 1 1 1 2 1 ...\n"
     ]
    }
   ],
   "source": [
    "##### Análise Explorória ##### \n",
    "\n",
    "# Vamos verificar os tipos de dados\n",
    "str(df_pacientes)"
   ]
  },
  {
   "cell_type": "code",
   "execution_count": 10,
   "metadata": {},
   "outputs": [
    {
     "data": {
      "text/html": [
       "4"
      ],
      "text/latex": [
       "4"
      ],
      "text/markdown": [
       "4"
      ],
      "text/plain": [
       "[1] 4"
      ]
     },
     "metadata": {},
     "output_type": "display_data"
    }
   ],
   "source": [
    "# Vamos checar se temos valores missing\n",
    "sum(is.na(df_pacientes))"
   ]
  },
  {
   "cell_type": "code",
   "execution_count": 11,
   "metadata": {},
   "outputs": [
    {
     "data": {
      "text/plain": [
       "     idade           sexo     tot_bilirubin    direct_bilirubin\n",
       " Min.   : 4.00   Homem :441   Min.   : 0.400   Min.   : 0.100  \n",
       " 1st Qu.:33.00   Mulher:142   1st Qu.: 0.800   1st Qu.: 0.200  \n",
       " Median :45.00                Median : 1.000   Median : 0.300  \n",
       " Mean   :44.75                Mean   : 3.299   Mean   : 1.486  \n",
       " 3rd Qu.:58.00                3rd Qu.: 2.600   3rd Qu.: 1.300  \n",
       " Max.   :90.00                Max.   :75.000   Max.   :19.700  \n",
       "                                                               \n",
       "  tot_proteins       albumina          ag_ratio           sgpt      \n",
       " Min.   :  63.0   Min.   :  10.00   Min.   :  10.0   Min.   :2.700  \n",
       " 1st Qu.: 175.5   1st Qu.:  23.00   1st Qu.:  25.0   1st Qu.:5.800  \n",
       " Median : 208.0   Median :  35.00   Median :  42.0   Median :6.600  \n",
       " Mean   : 290.6   Mean   :  80.71   Mean   : 109.9   Mean   :6.483  \n",
       " 3rd Qu.: 298.0   3rd Qu.:  60.50   3rd Qu.:  87.0   3rd Qu.:7.200  \n",
       " Max.   :2110.0   Max.   :2000.00   Max.   :4929.0   Max.   :9.600  \n",
       "                                                                    \n",
       "      sgot          alkphos           classe     \n",
       " Min.   :0.900   Min.   :0.3000   Min.   :1.000  \n",
       " 1st Qu.:2.600   1st Qu.:0.7000   1st Qu.:1.000  \n",
       " Median :3.100   Median :0.9300   Median :1.000  \n",
       " Mean   :3.142   Mean   :0.9471   Mean   :1.286  \n",
       " 3rd Qu.:3.800   3rd Qu.:1.1000   3rd Qu.:2.000  \n",
       " Max.   :5.500   Max.   :2.8000   Max.   :2.000  \n",
       "                 NA's   :4                       "
      ]
     },
     "metadata": {},
     "output_type": "display_data"
    }
   ],
   "source": [
    "# Resumo estatístico\n",
    "summary(df_pacientes)"
   ]
  },
  {
   "cell_type": "code",
   "execution_count": 13,
   "metadata": {},
   "outputs": [
    {
     "data": {
      "text/plain": [
       "\n",
       "  1   2 \n",
       "416 167 "
      ]
     },
     "metadata": {},
     "output_type": "display_data"
    }
   ],
   "source": [
    "# Proporção da classe\n",
    "# Em nosso dataset, a coluna target \"classe\" representa:\n",
    "# 1 significa a presença de doença do fígado\n",
    "# 2 significa que nenhuma doença do fígado foi identificada\n",
    "table(df_pacientes$classe)"
   ]
  },
  {
   "cell_type": "code",
   "execution_count": 14,
   "metadata": {},
   "outputs": [
    {
     "data": {
      "text/plain": [
       "\n",
       "        1         2 \n",
       "0.7135506 0.2864494 "
      ]
     },
     "metadata": {},
     "output_type": "display_data"
    }
   ],
   "source": [
    "prop.table(table(df_pacientes$classe))"
   ]
  },
  {
   "cell_type": "code",
   "execution_count": 16,
   "metadata": {},
   "outputs": [
    {
     "data": {
      "text/html": [
       "<table>\n",
       "<thead><tr><th scope=col>idade</th><th scope=col>sexo</th><th scope=col>tot_bilirubin</th><th scope=col>direct_bilirubin</th><th scope=col>tot_proteins</th><th scope=col>albumina</th><th scope=col>ag_ratio</th><th scope=col>sgpt</th><th scope=col>sgot</th><th scope=col>alkphos</th><th scope=col>classe</th><th scope=col>doente</th></tr></thead>\n",
       "<tbody>\n",
       "\t<tr><td>65    </td><td>Mulher</td><td> 0.7  </td><td>0.1   </td><td>187   </td><td>16    </td><td> 18   </td><td>6.8   </td><td>3.3   </td><td>0.90  </td><td>1     </td><td>sim   </td></tr>\n",
       "\t<tr><td>62    </td><td>Homem </td><td>10.9  </td><td>5.5   </td><td>699   </td><td>64    </td><td>100   </td><td>7.5   </td><td>3.2   </td><td>0.74  </td><td>1     </td><td>sim   </td></tr>\n",
       "\t<tr><td>62    </td><td>Homem </td><td> 7.3  </td><td>4.1   </td><td>490   </td><td>60    </td><td> 68   </td><td>7.0   </td><td>3.3   </td><td>0.89  </td><td>1     </td><td>sim   </td></tr>\n",
       "\t<tr><td>58    </td><td>Homem </td><td> 1.0  </td><td>0.4   </td><td>182   </td><td>14    </td><td> 20   </td><td>6.8   </td><td>3.4   </td><td>1.00  </td><td>1     </td><td>sim   </td></tr>\n",
       "\t<tr><td>72    </td><td>Homem </td><td> 3.9  </td><td>2.0   </td><td>195   </td><td>27    </td><td> 59   </td><td>7.3   </td><td>2.4   </td><td>0.40  </td><td>1     </td><td>sim   </td></tr>\n",
       "\t<tr><td>46    </td><td>Homem </td><td> 1.8  </td><td>0.7   </td><td>208   </td><td>19    </td><td> 14   </td><td>7.6   </td><td>4.4   </td><td>1.30  </td><td>1     </td><td>sim   </td></tr>\n",
       "</tbody>\n",
       "</table>\n"
      ],
      "text/latex": [
       "\\begin{tabular}{r|llllllllllll}\n",
       " idade & sexo & tot\\_bilirubin & direct\\_bilirubin & tot\\_proteins & albumina & ag\\_ratio & sgpt & sgot & alkphos & classe & doente\\\\\n",
       "\\hline\n",
       "\t 65     & Mulher &  0.7   & 0.1    & 187    & 16     &  18    & 6.8    & 3.3    & 0.90   & 1      & sim   \\\\\n",
       "\t 62     & Homem  & 10.9   & 5.5    & 699    & 64     & 100    & 7.5    & 3.2    & 0.74   & 1      & sim   \\\\\n",
       "\t 62     & Homem  &  7.3   & 4.1    & 490    & 60     &  68    & 7.0    & 3.3    & 0.89   & 1      & sim   \\\\\n",
       "\t 58     & Homem  &  1.0   & 0.4    & 182    & 14     &  20    & 6.8    & 3.4    & 1.00   & 1      & sim   \\\\\n",
       "\t 72     & Homem  &  3.9   & 2.0    & 195    & 27     &  59    & 7.3    & 2.4    & 0.40   & 1      & sim   \\\\\n",
       "\t 46     & Homem  &  1.8   & 0.7    & 208    & 19     &  14    & 7.6    & 4.4    & 1.30   & 1      & sim   \\\\\n",
       "\\end{tabular}\n"
      ],
      "text/markdown": [
       "\n",
       "| idade | sexo | tot_bilirubin | direct_bilirubin | tot_proteins | albumina | ag_ratio | sgpt | sgot | alkphos | classe | doente |\n",
       "|---|---|---|---|---|---|---|---|---|---|---|---|\n",
       "| 65     | Mulher |  0.7   | 0.1    | 187    | 16     |  18    | 6.8    | 3.3    | 0.90   | 1      | sim    |\n",
       "| 62     | Homem  | 10.9   | 5.5    | 699    | 64     | 100    | 7.5    | 3.2    | 0.74   | 1      | sim    |\n",
       "| 62     | Homem  |  7.3   | 4.1    | 490    | 60     |  68    | 7.0    | 3.3    | 0.89   | 1      | sim    |\n",
       "| 58     | Homem  |  1.0   | 0.4    | 182    | 14     |  20    | 6.8    | 3.4    | 1.00   | 1      | sim    |\n",
       "| 72     | Homem  |  3.9   | 2.0    | 195    | 27     |  59    | 7.3    | 2.4    | 0.40   | 1      | sim    |\n",
       "| 46     | Homem  |  1.8   | 0.7    | 208    | 19     |  14    | 7.6    | 4.4    | 1.30   | 1      | sim    |\n",
       "\n"
      ],
      "text/plain": [
       "  idade sexo   tot_bilirubin direct_bilirubin tot_proteins albumina ag_ratio\n",
       "1 65    Mulher  0.7          0.1              187          16        18     \n",
       "2 62    Homem  10.9          5.5              699          64       100     \n",
       "3 62    Homem   7.3          4.1              490          60        68     \n",
       "4 58    Homem   1.0          0.4              182          14        20     \n",
       "5 72    Homem   3.9          2.0              195          27        59     \n",
       "6 46    Homem   1.8          0.7              208          19        14     \n",
       "  sgpt sgot alkphos classe doente\n",
       "1 6.8  3.3  0.90    1      sim   \n",
       "2 7.5  3.2  0.74    1      sim   \n",
       "3 7.0  3.3  0.89    1      sim   \n",
       "4 6.8  3.4  1.00    1      sim   \n",
       "5 7.3  2.4  0.40    1      sim   \n",
       "6 7.6  4.4  1.30    1      sim   "
      ]
     },
     "metadata": {},
     "output_type": "display_data"
    }
   ],
   "source": [
    "# As classes estão desbalanceadas, com mais registros da classe positiva (tem doença).\n",
    "# Cuidaremos disso daqui a pouco\n",
    "\n",
    "##### Pré-Processamento e Engenharia de Atributos ##### \n",
    "\n",
    "# Vamos criar outra coluna chamada \"doente\" e preencher com os valores sim/nao\n",
    "# Esse passo não é obrigatório, sendo apenas didático\n",
    "# Usaremos essa nova coluna como coluna target\n",
    "df_pacientes[\"doente\"] <- ifelse(df_pacientes$classe == 2, \"nao\", \"sim\")\n",
    "head(df_pacientes)"
   ]
  },
  {
   "cell_type": "code",
   "execution_count": 17,
   "metadata": {},
   "outputs": [
    {
     "name": "stdout",
     "output_type": "stream",
     "text": [
      "'data.frame':\t583 obs. of  12 variables:\n",
      " $ idade           : int  65 62 62 58 72 46 26 29 17 55 ...\n",
      " $ sexo            : Factor w/ 2 levels \"Homem\",\"Mulher\": 2 1 1 1 1 1 2 2 1 1 ...\n",
      " $ tot_bilirubin   : num  0.7 10.9 7.3 1 3.9 1.8 0.9 0.9 0.9 0.7 ...\n",
      " $ direct_bilirubin: num  0.1 5.5 4.1 0.4 2 0.7 0.2 0.3 0.3 0.2 ...\n",
      " $ tot_proteins    : int  187 699 490 182 195 208 154 202 202 290 ...\n",
      " $ albumina        : int  16 64 60 14 27 19 16 14 22 53 ...\n",
      " $ ag_ratio        : int  18 100 68 20 59 14 12 11 19 58 ...\n",
      " $ sgpt            : num  6.8 7.5 7 6.8 7.3 7.6 7 6.7 7.4 6.8 ...\n",
      " $ sgot            : num  3.3 3.2 3.3 3.4 2.4 4.4 3.5 3.6 4.1 3.4 ...\n",
      " $ alkphos         : num  0.9 0.74 0.89 1 0.4 1.3 1 1.1 1.2 1 ...\n",
      " $ classe          : int  1 1 1 1 1 1 1 1 2 1 ...\n",
      " $ doente          : chr  \"sim\" \"sim\" \"sim\" \"sim\" ...\n"
     ]
    }
   ],
   "source": [
    "str(df_pacientes)"
   ]
  },
  {
   "cell_type": "code",
   "execution_count": 18,
   "metadata": {},
   "outputs": [
    {
     "name": "stdout",
     "output_type": "stream",
     "text": [
      "'data.frame':\t583 obs. of  12 variables:\n",
      " $ idade           : int  65 62 62 58 72 46 26 29 17 55 ...\n",
      " $ sexo            : Factor w/ 2 levels \"Homem\",\"Mulher\": 2 1 1 1 1 1 2 2 1 1 ...\n",
      " $ tot_bilirubin   : num  0.7 10.9 7.3 1 3.9 1.8 0.9 0.9 0.9 0.7 ...\n",
      " $ direct_bilirubin: num  0.1 5.5 4.1 0.4 2 0.7 0.2 0.3 0.3 0.2 ...\n",
      " $ tot_proteins    : int  187 699 490 182 195 208 154 202 202 290 ...\n",
      " $ albumina        : int  16 64 60 14 27 19 16 14 22 53 ...\n",
      " $ ag_ratio        : int  18 100 68 20 59 14 12 11 19 58 ...\n",
      " $ sgpt            : num  6.8 7.5 7 6.8 7.3 7.6 7 6.7 7.4 6.8 ...\n",
      " $ sgot            : num  3.3 3.2 3.3 3.4 2.4 4.4 3.5 3.6 4.1 3.4 ...\n",
      " $ alkphos         : num  0.9 0.74 0.89 1 0.4 1.3 1 1.1 1.2 1 ...\n",
      " $ classe          : int  1 1 1 1 1 1 1 1 2 1 ...\n",
      " $ doente          : Factor w/ 2 levels \"nao\",\"sim\": 2 2 2 2 2 2 2 2 1 2 ...\n"
     ]
    }
   ],
   "source": [
    "# Transformando a coluna target em fator\n",
    "df_pacientes[\"doente\"] <- factor(df_pacientes$doente)\n",
    "str(df_pacientes)"
   ]
  },
  {
   "cell_type": "code",
   "execution_count": 19,
   "metadata": {},
   "outputs": [
    {
     "data": {
      "text/html": [
       "0"
      ],
      "text/latex": [
       "0"
      ],
      "text/markdown": [
       "0"
      ],
      "text/plain": [
       "[1] 0"
      ]
     },
     "metadata": {},
     "output_type": "display_data"
    }
   ],
   "source": [
    "# A coluna alkphos possui 4 valores nulos. Vamos fazer imputação substituindo pela mediana.\n",
    "alkphos_mediana <- median(df_pacientes$alkphos, na.rm = T)\n",
    "df_pacientes$alkphos[is.na(df_pacientes$alkphos)] <- alkphos_mediana\n",
    "sum(is.na(df_pacientes))"
   ]
  },
  {
   "cell_type": "code",
   "execution_count": 20,
   "metadata": {},
   "outputs": [
    {
     "data": {
      "text/html": [
       "<table>\n",
       "<thead><tr><th scope=col>idade</th><th scope=col>sexo</th><th scope=col>tot_bilirubin</th><th scope=col>direct_bilirubin</th><th scope=col>tot_proteins</th><th scope=col>albumina</th><th scope=col>ag_ratio</th><th scope=col>sgpt</th><th scope=col>sgot</th><th scope=col>alkphos</th><th scope=col>classe</th><th scope=col>doente</th><th scope=col>Mulher</th><th scope=col>Homem</th></tr></thead>\n",
       "<tbody>\n",
       "\t<tr><td>65    </td><td>Mulher</td><td> 0.7  </td><td>0.1   </td><td>187   </td><td>16    </td><td> 18   </td><td>6.8   </td><td>3.3   </td><td>0.90  </td><td>1     </td><td>sim   </td><td>1     </td><td>0     </td></tr>\n",
       "\t<tr><td>62    </td><td>Homem </td><td>10.9  </td><td>5.5   </td><td>699   </td><td>64    </td><td>100   </td><td>7.5   </td><td>3.2   </td><td>0.74  </td><td>1     </td><td>sim   </td><td>0     </td><td>1     </td></tr>\n",
       "\t<tr><td>62    </td><td>Homem </td><td> 7.3  </td><td>4.1   </td><td>490   </td><td>60    </td><td> 68   </td><td>7.0   </td><td>3.3   </td><td>0.89  </td><td>1     </td><td>sim   </td><td>0     </td><td>1     </td></tr>\n",
       "\t<tr><td>58    </td><td>Homem </td><td> 1.0  </td><td>0.4   </td><td>182   </td><td>14    </td><td> 20   </td><td>6.8   </td><td>3.4   </td><td>1.00  </td><td>1     </td><td>sim   </td><td>0     </td><td>1     </td></tr>\n",
       "\t<tr><td>72    </td><td>Homem </td><td> 3.9  </td><td>2.0   </td><td>195   </td><td>27    </td><td> 59   </td><td>7.3   </td><td>2.4   </td><td>0.40  </td><td>1     </td><td>sim   </td><td>0     </td><td>1     </td></tr>\n",
       "\t<tr><td>46    </td><td>Homem </td><td> 1.8  </td><td>0.7   </td><td>208   </td><td>19    </td><td> 14   </td><td>7.6   </td><td>4.4   </td><td>1.30  </td><td>1     </td><td>sim   </td><td>0     </td><td>1     </td></tr>\n",
       "</tbody>\n",
       "</table>\n"
      ],
      "text/latex": [
       "\\begin{tabular}{r|llllllllllllll}\n",
       " idade & sexo & tot\\_bilirubin & direct\\_bilirubin & tot\\_proteins & albumina & ag\\_ratio & sgpt & sgot & alkphos & classe & doente & Mulher & Homem\\\\\n",
       "\\hline\n",
       "\t 65     & Mulher &  0.7   & 0.1    & 187    & 16     &  18    & 6.8    & 3.3    & 0.90   & 1      & sim    & 1      & 0     \\\\\n",
       "\t 62     & Homem  & 10.9   & 5.5    & 699    & 64     & 100    & 7.5    & 3.2    & 0.74   & 1      & sim    & 0      & 1     \\\\\n",
       "\t 62     & Homem  &  7.3   & 4.1    & 490    & 60     &  68    & 7.0    & 3.3    & 0.89   & 1      & sim    & 0      & 1     \\\\\n",
       "\t 58     & Homem  &  1.0   & 0.4    & 182    & 14     &  20    & 6.8    & 3.4    & 1.00   & 1      & sim    & 0      & 1     \\\\\n",
       "\t 72     & Homem  &  3.9   & 2.0    & 195    & 27     &  59    & 7.3    & 2.4    & 0.40   & 1      & sim    & 0      & 1     \\\\\n",
       "\t 46     & Homem  &  1.8   & 0.7    & 208    & 19     &  14    & 7.6    & 4.4    & 1.30   & 1      & sim    & 0      & 1     \\\\\n",
       "\\end{tabular}\n"
      ],
      "text/markdown": [
       "\n",
       "| idade | sexo | tot_bilirubin | direct_bilirubin | tot_proteins | albumina | ag_ratio | sgpt | sgot | alkphos | classe | doente | Mulher | Homem |\n",
       "|---|---|---|---|---|---|---|---|---|---|---|---|---|---|\n",
       "| 65     | Mulher |  0.7   | 0.1    | 187    | 16     |  18    | 6.8    | 3.3    | 0.90   | 1      | sim    | 1      | 0      |\n",
       "| 62     | Homem  | 10.9   | 5.5    | 699    | 64     | 100    | 7.5    | 3.2    | 0.74   | 1      | sim    | 0      | 1      |\n",
       "| 62     | Homem  |  7.3   | 4.1    | 490    | 60     |  68    | 7.0    | 3.3    | 0.89   | 1      | sim    | 0      | 1      |\n",
       "| 58     | Homem  |  1.0   | 0.4    | 182    | 14     |  20    | 6.8    | 3.4    | 1.00   | 1      | sim    | 0      | 1      |\n",
       "| 72     | Homem  |  3.9   | 2.0    | 195    | 27     |  59    | 7.3    | 2.4    | 0.40   | 1      | sim    | 0      | 1      |\n",
       "| 46     | Homem  |  1.8   | 0.7    | 208    | 19     |  14    | 7.6    | 4.4    | 1.30   | 1      | sim    | 0      | 1      |\n",
       "\n"
      ],
      "text/plain": [
       "  idade sexo   tot_bilirubin direct_bilirubin tot_proteins albumina ag_ratio\n",
       "1 65    Mulher  0.7          0.1              187          16        18     \n",
       "2 62    Homem  10.9          5.5              699          64       100     \n",
       "3 62    Homem   7.3          4.1              490          60        68     \n",
       "4 58    Homem   1.0          0.4              182          14        20     \n",
       "5 72    Homem   3.9          2.0              195          27        59     \n",
       "6 46    Homem   1.8          0.7              208          19        14     \n",
       "  sgpt sgot alkphos classe doente Mulher Homem\n",
       "1 6.8  3.3  0.90    1      sim    1      0    \n",
       "2 7.5  3.2  0.74    1      sim    0      1    \n",
       "3 7.0  3.3  0.89    1      sim    0      1    \n",
       "4 6.8  3.4  1.00    1      sim    0      1    \n",
       "5 7.3  2.4  0.40    1      sim    0      1    \n",
       "6 7.6  4.4  1.30    1      sim    0      1    "
      ]
     },
     "metadata": {},
     "output_type": "display_data"
    },
    {
     "name": "stdout",
     "output_type": "stream",
     "text": [
      "'data.frame':\t583 obs. of  14 variables:\n",
      " $ idade           : int  65 62 62 58 72 46 26 29 17 55 ...\n",
      " $ sexo            : Factor w/ 2 levels \"Homem\",\"Mulher\": 2 1 1 1 1 1 2 2 1 1 ...\n",
      " $ tot_bilirubin   : num  0.7 10.9 7.3 1 3.9 1.8 0.9 0.9 0.9 0.7 ...\n",
      " $ direct_bilirubin: num  0.1 5.5 4.1 0.4 2 0.7 0.2 0.3 0.3 0.2 ...\n",
      " $ tot_proteins    : int  187 699 490 182 195 208 154 202 202 290 ...\n",
      " $ albumina        : int  16 64 60 14 27 19 16 14 22 53 ...\n",
      " $ ag_ratio        : int  18 100 68 20 59 14 12 11 19 58 ...\n",
      " $ sgpt            : num  6.8 7.5 7 6.8 7.3 7.6 7 6.7 7.4 6.8 ...\n",
      " $ sgot            : num  3.3 3.2 3.3 3.4 2.4 4.4 3.5 3.6 4.1 3.4 ...\n",
      " $ alkphos         : num  0.9 0.74 0.89 1 0.4 1.3 1 1.1 1.2 1 ...\n",
      " $ classe          : int  1 1 1 1 1 1 1 1 2 1 ...\n",
      " $ doente          : Factor w/ 2 levels \"nao\",\"sim\": 2 2 2 2 2 2 2 2 1 2 ...\n",
      " $ Mulher          : num  1 0 0 0 0 0 1 1 0 0 ...\n",
      " $ Homem           : num  0 1 1 1 1 1 0 0 1 1 ...\n"
     ]
    }
   ],
   "source": [
    "# Vamos criar variáveis dummy para o sexo do paciente\n",
    "df_pacientes[\"Mulher\"] <- ifelse(df_pacientes$sexo == \"Mulher\",1,0)\n",
    "df_pacientes[\"Homem\"] <- ifelse(df_pacientes$sexo == \"Homem\",1,0)\n",
    "head(df_pacientes)\n",
    "str(df_pacientes)"
   ]
  },
  {
   "cell_type": "code",
   "execution_count": 21,
   "metadata": {},
   "outputs": [],
   "source": [
    "# Divisão dos dados em treino e teste com proporção 70/30\n",
    "df_treino <- df_pacientes[1:as.integer(0.70 * nrow(df_pacientes)),]\n",
    "df_teste <- df_pacientes[-c(1:as.integer(0.70 * nrow(df_pacientes))),]"
   ]
  },
  {
   "cell_type": "code",
   "execution_count": 22,
   "metadata": {},
   "outputs": [
    {
     "data": {
      "text/html": [
       "<table>\n",
       "<thead><tr><th scope=col>idade</th><th scope=col>sexo</th><th scope=col>tot_bilirubin</th><th scope=col>direct_bilirubin</th><th scope=col>tot_proteins</th><th scope=col>albumina</th><th scope=col>ag_ratio</th><th scope=col>sgpt</th><th scope=col>sgot</th><th scope=col>alkphos</th><th scope=col>classe</th><th scope=col>doente</th><th scope=col>Mulher</th><th scope=col>Homem</th></tr></thead>\n",
       "<tbody>\n",
       "\t<tr><td>65    </td><td>Mulher</td><td> 0.7  </td><td>0.1   </td><td>187   </td><td>16    </td><td> 18   </td><td>6.8   </td><td>3.3   </td><td>0.90  </td><td>1     </td><td>sim   </td><td>1     </td><td>0     </td></tr>\n",
       "\t<tr><td>62    </td><td>Homem </td><td>10.9  </td><td>5.5   </td><td>699   </td><td>64    </td><td>100   </td><td>7.5   </td><td>3.2   </td><td>0.74  </td><td>1     </td><td>sim   </td><td>0     </td><td>1     </td></tr>\n",
       "\t<tr><td>62    </td><td>Homem </td><td> 7.3  </td><td>4.1   </td><td>490   </td><td>60    </td><td> 68   </td><td>7.0   </td><td>3.3   </td><td>0.89  </td><td>1     </td><td>sim   </td><td>0     </td><td>1     </td></tr>\n",
       "\t<tr><td>58    </td><td>Homem </td><td> 1.0  </td><td>0.4   </td><td>182   </td><td>14    </td><td> 20   </td><td>6.8   </td><td>3.4   </td><td>1.00  </td><td>1     </td><td>sim   </td><td>0     </td><td>1     </td></tr>\n",
       "\t<tr><td>72    </td><td>Homem </td><td> 3.9  </td><td>2.0   </td><td>195   </td><td>27    </td><td> 59   </td><td>7.3   </td><td>2.4   </td><td>0.40  </td><td>1     </td><td>sim   </td><td>0     </td><td>1     </td></tr>\n",
       "\t<tr><td>46    </td><td>Homem </td><td> 1.8  </td><td>0.7   </td><td>208   </td><td>19    </td><td> 14   </td><td>7.6   </td><td>4.4   </td><td>1.30  </td><td>1     </td><td>sim   </td><td>0     </td><td>1     </td></tr>\n",
       "</tbody>\n",
       "</table>\n"
      ],
      "text/latex": [
       "\\begin{tabular}{r|llllllllllllll}\n",
       " idade & sexo & tot\\_bilirubin & direct\\_bilirubin & tot\\_proteins & albumina & ag\\_ratio & sgpt & sgot & alkphos & classe & doente & Mulher & Homem\\\\\n",
       "\\hline\n",
       "\t 65     & Mulher &  0.7   & 0.1    & 187    & 16     &  18    & 6.8    & 3.3    & 0.90   & 1      & sim    & 1      & 0     \\\\\n",
       "\t 62     & Homem  & 10.9   & 5.5    & 699    & 64     & 100    & 7.5    & 3.2    & 0.74   & 1      & sim    & 0      & 1     \\\\\n",
       "\t 62     & Homem  &  7.3   & 4.1    & 490    & 60     &  68    & 7.0    & 3.3    & 0.89   & 1      & sim    & 0      & 1     \\\\\n",
       "\t 58     & Homem  &  1.0   & 0.4    & 182    & 14     &  20    & 6.8    & 3.4    & 1.00   & 1      & sim    & 0      & 1     \\\\\n",
       "\t 72     & Homem  &  3.9   & 2.0    & 195    & 27     &  59    & 7.3    & 2.4    & 0.40   & 1      & sim    & 0      & 1     \\\\\n",
       "\t 46     & Homem  &  1.8   & 0.7    & 208    & 19     &  14    & 7.6    & 4.4    & 1.30   & 1      & sim    & 0      & 1     \\\\\n",
       "\\end{tabular}\n"
      ],
      "text/markdown": [
       "\n",
       "| idade | sexo | tot_bilirubin | direct_bilirubin | tot_proteins | albumina | ag_ratio | sgpt | sgot | alkphos | classe | doente | Mulher | Homem |\n",
       "|---|---|---|---|---|---|---|---|---|---|---|---|---|---|\n",
       "| 65     | Mulher |  0.7   | 0.1    | 187    | 16     |  18    | 6.8    | 3.3    | 0.90   | 1      | sim    | 1      | 0      |\n",
       "| 62     | Homem  | 10.9   | 5.5    | 699    | 64     | 100    | 7.5    | 3.2    | 0.74   | 1      | sim    | 0      | 1      |\n",
       "| 62     | Homem  |  7.3   | 4.1    | 490    | 60     |  68    | 7.0    | 3.3    | 0.89   | 1      | sim    | 0      | 1      |\n",
       "| 58     | Homem  |  1.0   | 0.4    | 182    | 14     |  20    | 6.8    | 3.4    | 1.00   | 1      | sim    | 0      | 1      |\n",
       "| 72     | Homem  |  3.9   | 2.0    | 195    | 27     |  59    | 7.3    | 2.4    | 0.40   | 1      | sim    | 0      | 1      |\n",
       "| 46     | Homem  |  1.8   | 0.7    | 208    | 19     |  14    | 7.6    | 4.4    | 1.30   | 1      | sim    | 0      | 1      |\n",
       "\n"
      ],
      "text/plain": [
       "  idade sexo   tot_bilirubin direct_bilirubin tot_proteins albumina ag_ratio\n",
       "1 65    Mulher  0.7          0.1              187          16        18     \n",
       "2 62    Homem  10.9          5.5              699          64       100     \n",
       "3 62    Homem   7.3          4.1              490          60        68     \n",
       "4 58    Homem   1.0          0.4              182          14        20     \n",
       "5 72    Homem   3.9          2.0              195          27        59     \n",
       "6 46    Homem   1.8          0.7              208          19        14     \n",
       "  sgpt sgot alkphos classe doente Mulher Homem\n",
       "1 6.8  3.3  0.90    1      sim    1      0    \n",
       "2 7.5  3.2  0.74    1      sim    0      1    \n",
       "3 7.0  3.3  0.89    1      sim    0      1    \n",
       "4 6.8  3.4  1.00    1      sim    0      1    \n",
       "5 7.3  2.4  0.40    1      sim    0      1    \n",
       "6 7.6  4.4  1.30    1      sim    0      1    "
      ]
     },
     "metadata": {},
     "output_type": "display_data"
    },
    {
     "data": {
      "text/html": [
       "<table>\n",
       "<thead><tr><th></th><th scope=col>idade</th><th scope=col>sexo</th><th scope=col>tot_bilirubin</th><th scope=col>direct_bilirubin</th><th scope=col>tot_proteins</th><th scope=col>albumina</th><th scope=col>ag_ratio</th><th scope=col>sgpt</th><th scope=col>sgot</th><th scope=col>alkphos</th><th scope=col>classe</th><th scope=col>doente</th><th scope=col>Mulher</th><th scope=col>Homem</th></tr></thead>\n",
       "<tbody>\n",
       "\t<tr><th scope=row>409</th><td>48    </td><td>Homem </td><td>2.4   </td><td>1.1   </td><td>554   </td><td>141   </td><td> 73   </td><td>7.5   </td><td>3.6   </td><td>0.9   </td><td>1     </td><td>sim   </td><td>0     </td><td>1     </td></tr>\n",
       "\t<tr><th scope=row>410</th><td>48    </td><td>Homem </td><td>5.0   </td><td>2.6   </td><td>555   </td><td>284   </td><td>190   </td><td>6.5   </td><td>3.3   </td><td>1.0   </td><td>1     </td><td>sim   </td><td>0     </td><td>1     </td></tr>\n",
       "\t<tr><th scope=row>411</th><td>18    </td><td>Homem </td><td>1.4   </td><td>0.6   </td><td>215   </td><td>440   </td><td>850   </td><td>5.0   </td><td>1.9   </td><td>0.6   </td><td>1     </td><td>sim   </td><td>0     </td><td>1     </td></tr>\n",
       "\t<tr><th scope=row>412</th><td>23    </td><td>Mulher</td><td>2.3   </td><td>0.8   </td><td>509   </td><td> 28   </td><td> 44   </td><td>6.9   </td><td>2.9   </td><td>0.7   </td><td>2     </td><td>nao   </td><td>1     </td><td>0     </td></tr>\n",
       "\t<tr><th scope=row>413</th><td>65    </td><td>Homem </td><td>4.9   </td><td>2.7   </td><td>190   </td><td> 33   </td><td> 71   </td><td>7.1   </td><td>2.9   </td><td>0.7   </td><td>1     </td><td>sim   </td><td>0     </td><td>1     </td></tr>\n",
       "\t<tr><th scope=row>414</th><td>48    </td><td>Homem </td><td>0.7   </td><td>0.2   </td><td>208   </td><td> 15   </td><td> 30   </td><td>4.6   </td><td>2.1   </td><td>0.8   </td><td>2     </td><td>nao   </td><td>0     </td><td>1     </td></tr>\n",
       "</tbody>\n",
       "</table>\n"
      ],
      "text/latex": [
       "\\begin{tabular}{r|llllllllllllll}\n",
       "  & idade & sexo & tot\\_bilirubin & direct\\_bilirubin & tot\\_proteins & albumina & ag\\_ratio & sgpt & sgot & alkphos & classe & doente & Mulher & Homem\\\\\n",
       "\\hline\n",
       "\t409 & 48     & Homem  & 2.4    & 1.1    & 554    & 141    &  73    & 7.5    & 3.6    & 0.9    & 1      & sim    & 0      & 1     \\\\\n",
       "\t410 & 48     & Homem  & 5.0    & 2.6    & 555    & 284    & 190    & 6.5    & 3.3    & 1.0    & 1      & sim    & 0      & 1     \\\\\n",
       "\t411 & 18     & Homem  & 1.4    & 0.6    & 215    & 440    & 850    & 5.0    & 1.9    & 0.6    & 1      & sim    & 0      & 1     \\\\\n",
       "\t412 & 23     & Mulher & 2.3    & 0.8    & 509    &  28    &  44    & 6.9    & 2.9    & 0.7    & 2      & nao    & 1      & 0     \\\\\n",
       "\t413 & 65     & Homem  & 4.9    & 2.7    & 190    &  33    &  71    & 7.1    & 2.9    & 0.7    & 1      & sim    & 0      & 1     \\\\\n",
       "\t414 & 48     & Homem  & 0.7    & 0.2    & 208    &  15    &  30    & 4.6    & 2.1    & 0.8    & 2      & nao    & 0      & 1     \\\\\n",
       "\\end{tabular}\n"
      ],
      "text/markdown": [
       "\n",
       "| <!--/--> | idade | sexo | tot_bilirubin | direct_bilirubin | tot_proteins | albumina | ag_ratio | sgpt | sgot | alkphos | classe | doente | Mulher | Homem |\n",
       "|---|---|---|---|---|---|---|---|---|---|---|---|---|---|---|\n",
       "| 409 | 48     | Homem  | 2.4    | 1.1    | 554    | 141    |  73    | 7.5    | 3.6    | 0.9    | 1      | sim    | 0      | 1      |\n",
       "| 410 | 48     | Homem  | 5.0    | 2.6    | 555    | 284    | 190    | 6.5    | 3.3    | 1.0    | 1      | sim    | 0      | 1      |\n",
       "| 411 | 18     | Homem  | 1.4    | 0.6    | 215    | 440    | 850    | 5.0    | 1.9    | 0.6    | 1      | sim    | 0      | 1      |\n",
       "| 412 | 23     | Mulher | 2.3    | 0.8    | 509    |  28    |  44    | 6.9    | 2.9    | 0.7    | 2      | nao    | 1      | 0      |\n",
       "| 413 | 65     | Homem  | 4.9    | 2.7    | 190    |  33    |  71    | 7.1    | 2.9    | 0.7    | 1      | sim    | 0      | 1      |\n",
       "| 414 | 48     | Homem  | 0.7    | 0.2    | 208    |  15    |  30    | 4.6    | 2.1    | 0.8    | 2      | nao    | 0      | 1      |\n",
       "\n"
      ],
      "text/plain": [
       "    idade sexo   tot_bilirubin direct_bilirubin tot_proteins albumina ag_ratio\n",
       "409 48    Homem  2.4           1.1              554          141       73     \n",
       "410 48    Homem  5.0           2.6              555          284      190     \n",
       "411 18    Homem  1.4           0.6              215          440      850     \n",
       "412 23    Mulher 2.3           0.8              509           28       44     \n",
       "413 65    Homem  4.9           2.7              190           33       71     \n",
       "414 48    Homem  0.7           0.2              208           15       30     \n",
       "    sgpt sgot alkphos classe doente Mulher Homem\n",
       "409 7.5  3.6  0.9     1      sim    0      1    \n",
       "410 6.5  3.3  1.0     1      sim    0      1    \n",
       "411 5.0  1.9  0.6     1      sim    0      1    \n",
       "412 6.9  2.9  0.7     2      nao    1      0    \n",
       "413 7.1  2.9  0.7     1      sim    0      1    \n",
       "414 4.6  2.1  0.8     2      nao    0      1    "
      ]
     },
     "metadata": {},
     "output_type": "display_data"
    }
   ],
   "source": [
    "# Verificamos os dados\n",
    "head(df_treino)\n",
    "head(df_teste)"
   ]
  },
  {
   "cell_type": "code",
   "execution_count": 23,
   "metadata": {},
   "outputs": [
    {
     "name": "stdout",
     "output_type": "stream",
     "text": [
      "'data.frame':\t408 obs. of  14 variables:\n",
      " $ idade           : int  65 62 62 58 72 46 26 29 17 55 ...\n",
      " $ sexo            : Factor w/ 2 levels \"Homem\",\"Mulher\": 2 1 1 1 1 1 2 2 1 1 ...\n",
      " $ tot_bilirubin   : num  0.7 10.9 7.3 1 3.9 1.8 0.9 0.9 0.9 0.7 ...\n",
      " $ direct_bilirubin: num  0.1 5.5 4.1 0.4 2 0.7 0.2 0.3 0.3 0.2 ...\n",
      " $ tot_proteins    : int  187 699 490 182 195 208 154 202 202 290 ...\n",
      " $ albumina        : int  16 64 60 14 27 19 16 14 22 53 ...\n",
      " $ ag_ratio        : int  18 100 68 20 59 14 12 11 19 58 ...\n",
      " $ sgpt            : num  6.8 7.5 7 6.8 7.3 7.6 7 6.7 7.4 6.8 ...\n",
      " $ sgot            : num  3.3 3.2 3.3 3.4 2.4 4.4 3.5 3.6 4.1 3.4 ...\n",
      " $ alkphos         : num  0.9 0.74 0.89 1 0.4 1.3 1 1.1 1.2 1 ...\n",
      " $ classe          : int  1 1 1 1 1 1 1 1 2 1 ...\n",
      " $ doente          : Factor w/ 2 levels \"nao\",\"sim\": 2 2 2 2 2 2 2 2 1 2 ...\n",
      " $ Mulher          : num  1 0 0 0 0 0 1 1 0 0 ...\n",
      " $ Homem           : num  0 1 1 1 1 1 0 0 1 1 ...\n",
      "'data.frame':\t175 obs. of  14 variables:\n",
      " $ idade           : int  48 48 18 23 65 48 65 70 70 11 ...\n",
      " $ sexo            : Factor w/ 2 levels \"Homem\",\"Mulher\": 1 1 1 2 1 1 1 1 1 1 ...\n",
      " $ tot_bilirubin   : num  2.4 5 1.4 2.3 4.9 0.7 1.4 1.3 0.6 0.7 ...\n",
      " $ direct_bilirubin: num  1.1 2.6 0.6 0.8 2.7 0.2 0.6 0.3 0.1 0.1 ...\n",
      " $ tot_proteins    : int  554 555 215 509 190 208 260 690 862 592 ...\n",
      " $ albumina        : int  141 284 440 28 33 15 28 93 76 26 ...\n",
      " $ ag_ratio        : int  73 190 850 44 71 30 24 40 180 29 ...\n",
      " $ sgpt            : num  7.5 6.5 5 6.9 7.1 4.6 5.2 3.6 6.3 7.1 ...\n",
      " $ sgot            : num  3.6 3.3 1.9 2.9 2.9 2.1 2.2 2.7 2.7 4.2 ...\n",
      " $ alkphos         : num  0.9 1 0.6 0.7 0.7 0.8 0.7 0.7 0.75 1.4 ...\n",
      " $ classe          : int  1 1 1 2 1 2 2 1 1 2 ...\n",
      " $ doente          : Factor w/ 2 levels \"nao\",\"sim\": 2 2 2 1 2 1 1 2 2 1 ...\n",
      " $ Mulher          : num  0 0 0 1 0 0 0 0 0 0 ...\n",
      " $ Homem           : num  1 1 1 0 1 1 1 1 1 1 ...\n"
     ]
    }
   ],
   "source": [
    "# Verificamos os tipos de dados\n",
    "str(df_treino)\n",
    "str(df_teste)"
   ]
  },
  {
   "cell_type": "code",
   "execution_count": 25,
   "metadata": {},
   "outputs": [
    {
     "data": {
      "text/plain": [
       "\n",
       "nao sim \n",
       "0.5 0.5 "
      ]
     },
     "metadata": {},
     "output_type": "display_data"
    },
    {
     "name": "stdout",
     "output_type": "stream",
     "text": [
      "'data.frame':\t582 obs. of  16 variables:\n",
      " $ idade           : int  17 64 25 33 63 20 84 57 38 38 ...\n",
      " $ sexo            : Factor w/ 2 levels \"Homem\",\"Mulher\": 1 1 1 1 1 1 2 1 2 2 ...\n",
      " $ tot_bilirubin   : num  0.9 0.9 0.6 1.6 0.9 1.1 0.7 1 2.6 2.6 ...\n",
      " $ direct_bilirubin: num  0.3 0.3 0.1 0.5 0.2 0.5 0.2 0.3 1.2 1.2 ...\n",
      " $ tot_proteins    : int  202 310 183 165 194 128 188 187 410 410 ...\n",
      " $ albumina        : int  22 61 91 15 52 20 13 19 59 59 ...\n",
      " $ ag_ratio        : int  19 58 53 23 45 30 21 23 57 57 ...\n",
      " $ sgpt            : num  7.4 7 5.5 7.3 6 3.9 6 5.2 5.6 5.6 ...\n",
      " $ sgot            : num  4.1 3.4 2.3 3.5 3.9 1.9 3.2 2.9 3 3 ...\n",
      " $ alkphos         : num  1.2 0.9 0.7 0.92 1.85 0.95 1.1 1.2 0.8 0.8 ...\n",
      " $ classe          : int  2 2 2 2 2 2 2 2 2 2 ...\n",
      " $ doente          : Factor w/ 2 levels \"nao\",\"sim\": 1 1 1 1 1 1 1 1 1 1 ...\n",
      " $ Mulher          : num  0 0 0 0 0 0 1 0 1 1 ...\n",
      " $ Homem           : num  1 1 1 1 1 1 0 1 0 0 ...\n",
      " $ Class           : Factor w/ 2 levels \"nao\",\"sim\": 1 1 1 1 1 1 1 1 1 1 ...\n",
      " $ Class           : Factor w/ 2 levels \"nao\",\"sim\": 1 1 1 1 1 1 1 1 1 1 ...\n"
     ]
    }
   ],
   "source": [
    "# Vimos na análise exploratória que as classes estão desbalanceadas.\n",
    "# Vamos aplicar o upsampling e criar amostras para a classe negativa\n",
    "# Fazemos isso apenas para dados de treino\n",
    "?upSample\n",
    "df_treino <- upSample(x = df_treino, df_treino$doente)\n",
    "prop.table(table(df_treino$doente))\n",
    "str(df_treino)"
   ]
  },
  {
   "cell_type": "code",
   "execution_count": 26,
   "metadata": {},
   "outputs": [],
   "source": [
    "# Função para padronização das variáveis quantitativas\n",
    "func_normaliza <- function(x){\n",
    "  return ((x - min(x)) / (max(x) - min(x)))\n",
    "}"
   ]
  },
  {
   "cell_type": "code",
   "execution_count": 27,
   "metadata": {},
   "outputs": [
    {
     "name": "stdout",
     "output_type": "stream",
     "text": [
      "'data.frame':\t582 obs. of  16 variables:\n",
      " $ idade           : int  17 64 25 33 63 20 84 57 38 38 ...\n",
      " $ sexo            : Factor w/ 2 levels \"Homem\",\"Mulher\": 1 1 1 1 1 1 2 1 2 2 ...\n",
      " $ tot_bilirubin   : num  0.9 0.9 0.6 1.6 0.9 1.1 0.7 1 2.6 2.6 ...\n",
      " $ direct_bilirubin: num  0.3 0.3 0.1 0.5 0.2 0.5 0.2 0.3 1.2 1.2 ...\n",
      " $ tot_proteins    : int  202 310 183 165 194 128 188 187 410 410 ...\n",
      " $ albumina        : int  22 61 91 15 52 20 13 19 59 59 ...\n",
      " $ ag_ratio        : int  19 58 53 23 45 30 21 23 57 57 ...\n",
      " $ sgpt            : num  7.4 7 5.5 7.3 6 3.9 6 5.2 5.6 5.6 ...\n",
      " $ sgot            : num  4.1 3.4 2.3 3.5 3.9 1.9 3.2 2.9 3 3 ...\n",
      " $ alkphos         : num  1.2 0.9 0.7 0.92 1.85 0.95 1.1 1.2 0.8 0.8 ...\n",
      " $ classe          : int  2 2 2 2 2 2 2 2 2 2 ...\n",
      " $ doente          : Factor w/ 2 levels \"nao\",\"sim\": 1 1 1 1 1 1 1 1 1 1 ...\n",
      " $ Mulher          : num  0 0 0 0 0 0 1 0 1 1 ...\n",
      " $ Homem           : num  1 1 1 1 1 1 0 1 0 0 ...\n",
      " $ Class           : Factor w/ 2 levels \"nao\",\"sim\": 1 1 1 1 1 1 1 1 1 1 ...\n",
      " $ Class           : Factor w/ 2 levels \"nao\",\"sim\": 1 1 1 1 1 1 1 1 1 1 ...\n"
     ]
    },
    {
     "ename": "ERROR",
     "evalue": "Error in Summary.factor(structure(c(1L, 1L, 1L, 1L, 1L, 1L, 1L, 1L, 1L, : 'min' not meaningful for factors\n",
     "output_type": "error",
     "traceback": [
      "Error in Summary.factor(structure(c(1L, 1L, 1L, 1L, 1L, 1L, 1L, 1L, 1L, : 'min' not meaningful for factors\nTraceback:\n",
      "1. as.data.frame(lapply(df_treino[, -c(2, 11:15)], FUN = func_normaliza))",
      "2. lapply(df_treino[, -c(2, 11:15)], FUN = func_normaliza)",
      "3. FUN(X[[i]], ...)",
      "4. Summary.factor(structure(c(1L, 1L, 1L, 1L, 1L, 1L, 1L, 1L, 1L, \n . 1L, 1L, 1L, 1L, 1L, 1L, 1L, 1L, 1L, 1L, 1L, 1L, 1L, 1L, 1L, 1L, \n . 1L, 1L, 1L, 1L, 1L, 1L, 1L, 1L, 1L, 1L, 1L, 1L, 1L, 1L, 1L, 1L, \n . 1L, 1L, 1L, 1L, 1L, 1L, 1L, 1L, 1L, 1L, 1L, 1L, 1L, 1L, 1L, 1L, \n . 1L, 1L, 1L, 1L, 1L, 1L, 1L, 1L, 1L, 1L, 1L, 1L, 1L, 1L, 1L, 1L, \n . 1L, 1L, 1L, 1L, 1L, 1L, 1L, 1L, 1L, 1L, 1L, 1L, 1L, 1L, 1L, 1L, \n . 1L, 1L, 1L, 1L, 1L, 1L, 1L, 1L, 1L, 1L, 1L, 1L, 1L, 1L, 1L, 1L, \n . 1L, 1L, 1L, 1L, 1L, 1L, 1L, 1L, 1L, 1L, 1L, 1L, 1L, 1L, 1L, 1L, \n . 1L, 1L, 1L, 1L, 1L, 1L, 1L, 1L, 1L, 1L, 1L, 1L, 1L, 1L, 1L, 1L, \n . 1L, 1L, 1L, 1L, 1L, 1L, 1L, 1L, 1L, 1L, 1L, 1L, 1L, 1L, 1L, 1L, \n . 1L, 1L, 1L, 1L, 1L, 1L, 1L, 1L, 1L, 1L, 1L, 1L, 1L, 1L, 1L, 1L, \n . 1L, 1L, 1L, 1L, 1L, 1L, 1L, 1L, 1L, 1L, 1L, 1L, 1L, 1L, 1L, 1L, \n . 1L, 1L, 1L, 1L, 1L, 1L, 1L, 1L, 1L, 1L, 1L, 1L, 1L, 1L, 1L, 1L, \n . 1L, 1L, 1L, 1L, 1L, 1L, 1L, 1L, 1L, 1L, 1L, 1L, 1L, 1L, 1L, 1L, \n . 1L, 1L, 1L, 1L, 1L, 1L, 1L, 1L, 1L, 1L, 1L, 1L, 1L, 1L, 1L, 1L, \n . 1L, 1L, 1L, 1L, 1L, 1L, 1L, 1L, 1L, 1L, 1L, 1L, 1L, 1L, 1L, 1L, \n . 1L, 1L, 1L, 1L, 1L, 1L, 1L, 1L, 1L, 1L, 1L, 1L, 1L, 1L, 1L, 1L, \n . 1L, 1L, 1L, 1L, 1L, 1L, 1L, 1L, 1L, 1L, 1L, 1L, 1L, 1L, 1L, 1L, \n . 1L, 1L, 1L, 1L, 1L, 1L, 1L, 1L, 1L, 1L, 2L, 2L, 2L, 2L, 2L, 2L, \n . 2L, 2L, 2L, 2L, 2L, 2L, 2L, 2L, 2L, 2L, 2L, 2L, 2L, 2L, 2L, 2L, \n . 2L, 2L, 2L, 2L, 2L, 2L, 2L, 2L, 2L, 2L, 2L, 2L, 2L, 2L, 2L, 2L, \n . 2L, 2L, 2L, 2L, 2L, 2L, 2L, 2L, 2L, 2L, 2L, 2L, 2L, 2L, 2L, 2L, \n . 2L, 2L, 2L, 2L, 2L, 2L, 2L, 2L, 2L, 2L, 2L, 2L, 2L, 2L, 2L, 2L, \n . 2L, 2L, 2L, 2L, 2L, 2L, 2L, 2L, 2L, 2L, 2L, 2L, 2L, 2L, 2L, 2L, \n . 2L, 2L, 2L, 2L, 2L, 2L, 2L, 2L, 2L, 2L, 2L, 2L, 2L, 2L, 2L, 2L, \n . 2L, 2L, 2L, 2L, 2L, 2L, 2L, 2L, 2L, 2L, 2L, 2L, 2L, 2L, 2L, 2L, \n . 2L, 2L, 2L, 2L, 2L, 2L, 2L, 2L, 2L, 2L, 2L, 2L, 2L, 2L, 2L, 2L, \n . 2L, 2L, 2L, 2L, 2L, 2L, 2L, 2L, 2L, 2L, 2L, 2L, 2L, 2L, 2L, 2L, \n . 2L, 2L, 2L, 2L, 2L, 2L, 2L, 2L, 2L, 2L, 2L, 2L, 2L, 2L, 2L, 2L, \n . 2L, 2L, 2L, 2L, 2L, 2L, 2L, 2L, 2L, 2L, 2L, 2L, 2L, 2L, 2L, 2L, \n . 2L, 2L, 2L, 2L, 2L, 2L, 2L, 2L, 2L, 2L, 2L, 2L, 2L, 2L, 2L, 2L, \n . 2L, 2L, 2L, 2L, 2L, 2L, 2L, 2L, 2L, 2L, 2L, 2L, 2L, 2L, 2L, 2L, \n . 2L, 2L, 2L, 2L, 2L, 2L, 2L, 2L, 2L, 2L, 2L, 2L, 2L, 2L, 2L, 2L, \n . 2L, 2L, 2L, 2L, 2L, 2L, 2L, 2L, 2L, 2L, 2L, 2L, 2L, 2L, 2L, 2L, \n . 2L, 2L, 2L, 2L, 2L, 2L, 2L, 2L, 2L, 2L, 2L, 2L, 2L, 2L, 2L, 2L, \n . 2L, 2L, 2L, 2L, 2L, 2L, 2L, 2L, 2L, 2L, 2L, 2L, 2L, 2L, 2L, 2L, \n . 2L, 2L, 2L, 2L, 2L, 2L, 2L, 2L, 2L, 2L, 2L, 2L, 2L), .Label = c(\"nao\", \n . \"sim\"), class = \"factor\"), na.rm = FALSE)   # at line 3 of file <text>",
      "5. stop(gettextf(\"%s not meaningful for factors\", sQuote(.Generic)))"
     ]
    }
   ],
   "source": [
    "# Aplica a função\n",
    "# Observe que estamos excluindo da padronização as colunas de índice 2 e de 11 a 15\n",
    "# Por que? Porque são colunas categóricas, onde a padronização não é necessária\n",
    "str(df_treino)\n",
    "df_treino_norm <- as.data.frame(lapply(df_treino[,-c(2,11:15)], FUN = func_normaliza))\n",
    "df_teste_norm <- as.data.frame(lapply(df_teste[,-c(2,11:15)], FUN = func_normaliza))"
   ]
  },
  {
   "cell_type": "code",
   "execution_count": 6,
   "metadata": {},
   "outputs": [
    {
     "data": {
      "text/html": [
       "<table>\n",
       "<thead><tr><th scope=col>idade</th><th scope=col>sexo</th><th scope=col>tot_bilirubin</th><th scope=col>direct_bilirubin</th><th scope=col>tot_proteins</th><th scope=col>albumina</th><th scope=col>ag_ratio</th><th scope=col>sgpt</th><th scope=col>sgot</th><th scope=col>alkphos</th><th scope=col>classe</th></tr></thead>\n",
       "<tbody>\n",
       "\t<tr><td>65    </td><td>Mulher</td><td> 0.7  </td><td>0.1   </td><td>187   </td><td>16    </td><td> 18   </td><td>6.8   </td><td>3.3   </td><td>0.90  </td><td>1     </td></tr>\n",
       "\t<tr><td>62    </td><td>Homem </td><td>10.9  </td><td>5.5   </td><td>699   </td><td>64    </td><td>100   </td><td>7.5   </td><td>3.2   </td><td>0.74  </td><td>1     </td></tr>\n",
       "\t<tr><td>62    </td><td>Homem </td><td> 7.3  </td><td>4.1   </td><td>490   </td><td>60    </td><td> 68   </td><td>7.0   </td><td>3.3   </td><td>0.89  </td><td>1     </td></tr>\n",
       "\t<tr><td>58    </td><td>Homem </td><td> 1.0  </td><td>0.4   </td><td>182   </td><td>14    </td><td> 20   </td><td>6.8   </td><td>3.4   </td><td>1.00  </td><td>1     </td></tr>\n",
       "\t<tr><td>72    </td><td>Homem </td><td> 3.9  </td><td>2.0   </td><td>195   </td><td>27    </td><td> 59   </td><td>7.3   </td><td>2.4   </td><td>0.40  </td><td>1     </td></tr>\n",
       "\t<tr><td>46    </td><td>Homem </td><td> 1.8  </td><td>0.7   </td><td>208   </td><td>19    </td><td> 14   </td><td>7.6   </td><td>4.4   </td><td>1.30  </td><td>1     </td></tr>\n",
       "</tbody>\n",
       "</table>\n"
      ],
      "text/latex": [
       "\\begin{tabular}{r|lllllllllll}\n",
       " idade & sexo & tot\\_bilirubin & direct\\_bilirubin & tot\\_proteins & albumina & ag\\_ratio & sgpt & sgot & alkphos & classe\\\\\n",
       "\\hline\n",
       "\t 65     & Mulher &  0.7   & 0.1    & 187    & 16     &  18    & 6.8    & 3.3    & 0.90   & 1     \\\\\n",
       "\t 62     & Homem  & 10.9   & 5.5    & 699    & 64     & 100    & 7.5    & 3.2    & 0.74   & 1     \\\\\n",
       "\t 62     & Homem  &  7.3   & 4.1    & 490    & 60     &  68    & 7.0    & 3.3    & 0.89   & 1     \\\\\n",
       "\t 58     & Homem  &  1.0   & 0.4    & 182    & 14     &  20    & 6.8    & 3.4    & 1.00   & 1     \\\\\n",
       "\t 72     & Homem  &  3.9   & 2.0    & 195    & 27     &  59    & 7.3    & 2.4    & 0.40   & 1     \\\\\n",
       "\t 46     & Homem  &  1.8   & 0.7    & 208    & 19     &  14    & 7.6    & 4.4    & 1.30   & 1     \\\\\n",
       "\\end{tabular}\n"
      ],
      "text/markdown": [
       "\n",
       "| idade | sexo | tot_bilirubin | direct_bilirubin | tot_proteins | albumina | ag_ratio | sgpt | sgot | alkphos | classe |\n",
       "|---|---|---|---|---|---|---|---|---|---|---|\n",
       "| 65     | Mulher |  0.7   | 0.1    | 187    | 16     |  18    | 6.8    | 3.3    | 0.90   | 1      |\n",
       "| 62     | Homem  | 10.9   | 5.5    | 699    | 64     | 100    | 7.5    | 3.2    | 0.74   | 1      |\n",
       "| 62     | Homem  |  7.3   | 4.1    | 490    | 60     |  68    | 7.0    | 3.3    | 0.89   | 1      |\n",
       "| 58     | Homem  |  1.0   | 0.4    | 182    | 14     |  20    | 6.8    | 3.4    | 1.00   | 1      |\n",
       "| 72     | Homem  |  3.9   | 2.0    | 195    | 27     |  59    | 7.3    | 2.4    | 0.40   | 1      |\n",
       "| 46     | Homem  |  1.8   | 0.7    | 208    | 19     |  14    | 7.6    | 4.4    | 1.30   | 1      |\n",
       "\n"
      ],
      "text/plain": [
       "  idade sexo   tot_bilirubin direct_bilirubin tot_proteins albumina ag_ratio\n",
       "1 65    Mulher  0.7          0.1              187          16        18     \n",
       "2 62    Homem  10.9          5.5              699          64       100     \n",
       "3 62    Homem   7.3          4.1              490          60        68     \n",
       "4 58    Homem   1.0          0.4              182          14        20     \n",
       "5 72    Homem   3.9          2.0              195          27        59     \n",
       "6 46    Homem   1.8          0.7              208          19        14     \n",
       "  sgpt sgot alkphos classe\n",
       "1 6.8  3.3  0.90    1     \n",
       "2 7.5  3.2  0.74    1     \n",
       "3 7.0  3.3  0.89    1     \n",
       "4 6.8  3.4  1.00    1     \n",
       "5 7.3  2.4  0.40    1     \n",
       "6 7.6  4.4  1.30    1     "
      ]
     },
     "metadata": {},
     "output_type": "display_data"
    },
    {
     "name": "stdout",
     "output_type": "stream",
     "text": [
      "'data.frame':\t583 obs. of  11 variables:\n",
      " $ idade           : int  65 62 62 58 72 46 26 29 17 55 ...\n",
      " $ sexo            : Factor w/ 2 levels \"Homem\",\"Mulher\": 2 1 1 1 1 1 2 2 1 1 ...\n",
      " $ tot_bilirubin   : num  0.7 10.9 7.3 1 3.9 1.8 0.9 0.9 0.9 0.7 ...\n",
      " $ direct_bilirubin: num  0.1 5.5 4.1 0.4 2 0.7 0.2 0.3 0.3 0.2 ...\n",
      " $ tot_proteins    : int  187 699 490 182 195 208 154 202 202 290 ...\n",
      " $ albumina        : int  16 64 60 14 27 19 16 14 22 53 ...\n",
      " $ ag_ratio        : int  18 100 68 20 59 14 12 11 19 58 ...\n",
      " $ sgpt            : num  6.8 7.5 7 6.8 7.3 7.6 7 6.7 7.4 6.8 ...\n",
      " $ sgot            : num  3.3 3.2 3.3 3.4 2.4 4.4 3.5 3.6 4.1 3.4 ...\n",
      " $ alkphos         : num  0.9 0.74 0.89 1 0.4 1.3 1 1.1 1.2 1 ...\n",
      " $ classe          : int  1 1 1 1 1 1 1 1 2 1 ...\n"
     ]
    },
    {
     "data": {
      "text/html": [
       "4"
      ],
      "text/latex": [
       "4"
      ],
      "text/markdown": [
       "4"
      ],
      "text/plain": [
       "[1] 4"
      ]
     },
     "metadata": {},
     "output_type": "display_data"
    },
    {
     "data": {
      "text/plain": [
       "     idade           sexo     tot_bilirubin    direct_bilirubin\n",
       " Min.   : 4.00   Homem :441   Min.   : 0.400   Min.   : 0.100  \n",
       " 1st Qu.:33.00   Mulher:142   1st Qu.: 0.800   1st Qu.: 0.200  \n",
       " Median :45.00                Median : 1.000   Median : 0.300  \n",
       " Mean   :44.75                Mean   : 3.299   Mean   : 1.486  \n",
       " 3rd Qu.:58.00                3rd Qu.: 2.600   3rd Qu.: 1.300  \n",
       " Max.   :90.00                Max.   :75.000   Max.   :19.700  \n",
       "                                                               \n",
       "  tot_proteins       albumina          ag_ratio           sgpt      \n",
       " Min.   :  63.0   Min.   :  10.00   Min.   :  10.0   Min.   :2.700  \n",
       " 1st Qu.: 175.5   1st Qu.:  23.00   1st Qu.:  25.0   1st Qu.:5.800  \n",
       " Median : 208.0   Median :  35.00   Median :  42.0   Median :6.600  \n",
       " Mean   : 290.6   Mean   :  80.71   Mean   : 109.9   Mean   :6.483  \n",
       " 3rd Qu.: 298.0   3rd Qu.:  60.50   3rd Qu.:  87.0   3rd Qu.:7.200  \n",
       " Max.   :2110.0   Max.   :2000.00   Max.   :4929.0   Max.   :9.600  \n",
       "                                                                    \n",
       "      sgot          alkphos           classe     \n",
       " Min.   :0.900   Min.   :0.3000   Min.   :1.000  \n",
       " 1st Qu.:2.600   1st Qu.:0.7000   1st Qu.:1.000  \n",
       " Median :3.100   Median :0.9300   Median :1.000  \n",
       " Mean   :3.142   Mean   :0.9471   Mean   :1.286  \n",
       " 3rd Qu.:3.800   3rd Qu.:1.1000   3rd Qu.:2.000  \n",
       " Max.   :5.500   Max.   :2.8000   Max.   :2.000  \n",
       "                 NA's   :4                       "
      ]
     },
     "metadata": {},
     "output_type": "display_data"
    },
    {
     "data": {
      "text/plain": [
       "\n",
       "  1   2 \n",
       "416 167 "
      ]
     },
     "metadata": {},
     "output_type": "display_data"
    },
    {
     "data": {
      "text/plain": [
       "\n",
       "        1         2 \n",
       "0.7135506 0.2864494 "
      ]
     },
     "metadata": {},
     "output_type": "display_data"
    },
    {
     "data": {
      "text/html": [
       "<table>\n",
       "<thead><tr><th scope=col>idade</th><th scope=col>sexo</th><th scope=col>tot_bilirubin</th><th scope=col>direct_bilirubin</th><th scope=col>tot_proteins</th><th scope=col>albumina</th><th scope=col>ag_ratio</th><th scope=col>sgpt</th><th scope=col>sgot</th><th scope=col>alkphos</th><th scope=col>classe</th><th scope=col>doente</th></tr></thead>\n",
       "<tbody>\n",
       "\t<tr><td>65    </td><td>Mulher</td><td> 0.7  </td><td>0.1   </td><td>187   </td><td>16    </td><td> 18   </td><td>6.8   </td><td>3.3   </td><td>0.90  </td><td>1     </td><td>sim   </td></tr>\n",
       "\t<tr><td>62    </td><td>Homem </td><td>10.9  </td><td>5.5   </td><td>699   </td><td>64    </td><td>100   </td><td>7.5   </td><td>3.2   </td><td>0.74  </td><td>1     </td><td>sim   </td></tr>\n",
       "\t<tr><td>62    </td><td>Homem </td><td> 7.3  </td><td>4.1   </td><td>490   </td><td>60    </td><td> 68   </td><td>7.0   </td><td>3.3   </td><td>0.89  </td><td>1     </td><td>sim   </td></tr>\n",
       "\t<tr><td>58    </td><td>Homem </td><td> 1.0  </td><td>0.4   </td><td>182   </td><td>14    </td><td> 20   </td><td>6.8   </td><td>3.4   </td><td>1.00  </td><td>1     </td><td>sim   </td></tr>\n",
       "\t<tr><td>72    </td><td>Homem </td><td> 3.9  </td><td>2.0   </td><td>195   </td><td>27    </td><td> 59   </td><td>7.3   </td><td>2.4   </td><td>0.40  </td><td>1     </td><td>sim   </td></tr>\n",
       "\t<tr><td>46    </td><td>Homem </td><td> 1.8  </td><td>0.7   </td><td>208   </td><td>19    </td><td> 14   </td><td>7.6   </td><td>4.4   </td><td>1.30  </td><td>1     </td><td>sim   </td></tr>\n",
       "</tbody>\n",
       "</table>\n"
      ],
      "text/latex": [
       "\\begin{tabular}{r|llllllllllll}\n",
       " idade & sexo & tot\\_bilirubin & direct\\_bilirubin & tot\\_proteins & albumina & ag\\_ratio & sgpt & sgot & alkphos & classe & doente\\\\\n",
       "\\hline\n",
       "\t 65     & Mulher &  0.7   & 0.1    & 187    & 16     &  18    & 6.8    & 3.3    & 0.90   & 1      & sim   \\\\\n",
       "\t 62     & Homem  & 10.9   & 5.5    & 699    & 64     & 100    & 7.5    & 3.2    & 0.74   & 1      & sim   \\\\\n",
       "\t 62     & Homem  &  7.3   & 4.1    & 490    & 60     &  68    & 7.0    & 3.3    & 0.89   & 1      & sim   \\\\\n",
       "\t 58     & Homem  &  1.0   & 0.4    & 182    & 14     &  20    & 6.8    & 3.4    & 1.00   & 1      & sim   \\\\\n",
       "\t 72     & Homem  &  3.9   & 2.0    & 195    & 27     &  59    & 7.3    & 2.4    & 0.40   & 1      & sim   \\\\\n",
       "\t 46     & Homem  &  1.8   & 0.7    & 208    & 19     &  14    & 7.6    & 4.4    & 1.30   & 1      & sim   \\\\\n",
       "\\end{tabular}\n"
      ],
      "text/markdown": [
       "\n",
       "| idade | sexo | tot_bilirubin | direct_bilirubin | tot_proteins | albumina | ag_ratio | sgpt | sgot | alkphos | classe | doente |\n",
       "|---|---|---|---|---|---|---|---|---|---|---|---|\n",
       "| 65     | Mulher |  0.7   | 0.1    | 187    | 16     |  18    | 6.8    | 3.3    | 0.90   | 1      | sim    |\n",
       "| 62     | Homem  | 10.9   | 5.5    | 699    | 64     | 100    | 7.5    | 3.2    | 0.74   | 1      | sim    |\n",
       "| 62     | Homem  |  7.3   | 4.1    | 490    | 60     |  68    | 7.0    | 3.3    | 0.89   | 1      | sim    |\n",
       "| 58     | Homem  |  1.0   | 0.4    | 182    | 14     |  20    | 6.8    | 3.4    | 1.00   | 1      | sim    |\n",
       "| 72     | Homem  |  3.9   | 2.0    | 195    | 27     |  59    | 7.3    | 2.4    | 0.40   | 1      | sim    |\n",
       "| 46     | Homem  |  1.8   | 0.7    | 208    | 19     |  14    | 7.6    | 4.4    | 1.30   | 1      | sim    |\n",
       "\n"
      ],
      "text/plain": [
       "  idade sexo   tot_bilirubin direct_bilirubin tot_proteins albumina ag_ratio\n",
       "1 65    Mulher  0.7          0.1              187          16        18     \n",
       "2 62    Homem  10.9          5.5              699          64       100     \n",
       "3 62    Homem   7.3          4.1              490          60        68     \n",
       "4 58    Homem   1.0          0.4              182          14        20     \n",
       "5 72    Homem   3.9          2.0              195          27        59     \n",
       "6 46    Homem   1.8          0.7              208          19        14     \n",
       "  sgpt sgot alkphos classe doente\n",
       "1 6.8  3.3  0.90    1      sim   \n",
       "2 7.5  3.2  0.74    1      sim   \n",
       "3 7.0  3.3  0.89    1      sim   \n",
       "4 6.8  3.4  1.00    1      sim   \n",
       "5 7.3  2.4  0.40    1      sim   \n",
       "6 7.6  4.4  1.30    1      sim   "
      ]
     },
     "metadata": {},
     "output_type": "display_data"
    },
    {
     "name": "stdout",
     "output_type": "stream",
     "text": [
      "'data.frame':\t583 obs. of  12 variables:\n",
      " $ idade           : int  65 62 62 58 72 46 26 29 17 55 ...\n",
      " $ sexo            : Factor w/ 2 levels \"Homem\",\"Mulher\": 2 1 1 1 1 1 2 2 1 1 ...\n",
      " $ tot_bilirubin   : num  0.7 10.9 7.3 1 3.9 1.8 0.9 0.9 0.9 0.7 ...\n",
      " $ direct_bilirubin: num  0.1 5.5 4.1 0.4 2 0.7 0.2 0.3 0.3 0.2 ...\n",
      " $ tot_proteins    : int  187 699 490 182 195 208 154 202 202 290 ...\n",
      " $ albumina        : int  16 64 60 14 27 19 16 14 22 53 ...\n",
      " $ ag_ratio        : int  18 100 68 20 59 14 12 11 19 58 ...\n",
      " $ sgpt            : num  6.8 7.5 7 6.8 7.3 7.6 7 6.7 7.4 6.8 ...\n",
      " $ sgot            : num  3.3 3.2 3.3 3.4 2.4 4.4 3.5 3.6 4.1 3.4 ...\n",
      " $ alkphos         : num  0.9 0.74 0.89 1 0.4 1.3 1 1.1 1.2 1 ...\n",
      " $ classe          : int  1 1 1 1 1 1 1 1 2 1 ...\n",
      " $ doente          : chr  \"sim\" \"sim\" \"sim\" \"sim\" ...\n",
      "'data.frame':\t583 obs. of  12 variables:\n",
      " $ idade           : int  65 62 62 58 72 46 26 29 17 55 ...\n",
      " $ sexo            : Factor w/ 2 levels \"Homem\",\"Mulher\": 2 1 1 1 1 1 2 2 1 1 ...\n",
      " $ tot_bilirubin   : num  0.7 10.9 7.3 1 3.9 1.8 0.9 0.9 0.9 0.7 ...\n",
      " $ direct_bilirubin: num  0.1 5.5 4.1 0.4 2 0.7 0.2 0.3 0.3 0.2 ...\n",
      " $ tot_proteins    : int  187 699 490 182 195 208 154 202 202 290 ...\n",
      " $ albumina        : int  16 64 60 14 27 19 16 14 22 53 ...\n",
      " $ ag_ratio        : int  18 100 68 20 59 14 12 11 19 58 ...\n",
      " $ sgpt            : num  6.8 7.5 7 6.8 7.3 7.6 7 6.7 7.4 6.8 ...\n",
      " $ sgot            : num  3.3 3.2 3.3 3.4 2.4 4.4 3.5 3.6 4.1 3.4 ...\n",
      " $ alkphos         : num  0.9 0.74 0.89 1 0.4 1.3 1 1.1 1.2 1 ...\n",
      " $ classe          : int  1 1 1 1 1 1 1 1 2 1 ...\n",
      " $ doente          : Factor w/ 2 levels \"nao\",\"sim\": 2 2 2 2 2 2 2 2 1 2 ...\n"
     ]
    },
    {
     "data": {
      "text/html": [
       "0"
      ],
      "text/latex": [
       "0"
      ],
      "text/markdown": [
       "0"
      ],
      "text/plain": [
       "[1] 0"
      ]
     },
     "metadata": {},
     "output_type": "display_data"
    },
    {
     "data": {
      "text/html": [
       "<table>\n",
       "<thead><tr><th scope=col>idade</th><th scope=col>sexo</th><th scope=col>tot_bilirubin</th><th scope=col>direct_bilirubin</th><th scope=col>tot_proteins</th><th scope=col>albumina</th><th scope=col>ag_ratio</th><th scope=col>sgpt</th><th scope=col>sgot</th><th scope=col>alkphos</th><th scope=col>classe</th><th scope=col>doente</th><th scope=col>Mulher</th><th scope=col>Homem</th></tr></thead>\n",
       "<tbody>\n",
       "\t<tr><td>65    </td><td>Mulher</td><td> 0.7  </td><td>0.1   </td><td>187   </td><td>16    </td><td> 18   </td><td>6.8   </td><td>3.3   </td><td>0.90  </td><td>1     </td><td>sim   </td><td>1     </td><td>0     </td></tr>\n",
       "\t<tr><td>62    </td><td>Homem </td><td>10.9  </td><td>5.5   </td><td>699   </td><td>64    </td><td>100   </td><td>7.5   </td><td>3.2   </td><td>0.74  </td><td>1     </td><td>sim   </td><td>0     </td><td>1     </td></tr>\n",
       "\t<tr><td>62    </td><td>Homem </td><td> 7.3  </td><td>4.1   </td><td>490   </td><td>60    </td><td> 68   </td><td>7.0   </td><td>3.3   </td><td>0.89  </td><td>1     </td><td>sim   </td><td>0     </td><td>1     </td></tr>\n",
       "\t<tr><td>58    </td><td>Homem </td><td> 1.0  </td><td>0.4   </td><td>182   </td><td>14    </td><td> 20   </td><td>6.8   </td><td>3.4   </td><td>1.00  </td><td>1     </td><td>sim   </td><td>0     </td><td>1     </td></tr>\n",
       "\t<tr><td>72    </td><td>Homem </td><td> 3.9  </td><td>2.0   </td><td>195   </td><td>27    </td><td> 59   </td><td>7.3   </td><td>2.4   </td><td>0.40  </td><td>1     </td><td>sim   </td><td>0     </td><td>1     </td></tr>\n",
       "\t<tr><td>46    </td><td>Homem </td><td> 1.8  </td><td>0.7   </td><td>208   </td><td>19    </td><td> 14   </td><td>7.6   </td><td>4.4   </td><td>1.30  </td><td>1     </td><td>sim   </td><td>0     </td><td>1     </td></tr>\n",
       "</tbody>\n",
       "</table>\n"
      ],
      "text/latex": [
       "\\begin{tabular}{r|llllllllllllll}\n",
       " idade & sexo & tot\\_bilirubin & direct\\_bilirubin & tot\\_proteins & albumina & ag\\_ratio & sgpt & sgot & alkphos & classe & doente & Mulher & Homem\\\\\n",
       "\\hline\n",
       "\t 65     & Mulher &  0.7   & 0.1    & 187    & 16     &  18    & 6.8    & 3.3    & 0.90   & 1      & sim    & 1      & 0     \\\\\n",
       "\t 62     & Homem  & 10.9   & 5.5    & 699    & 64     & 100    & 7.5    & 3.2    & 0.74   & 1      & sim    & 0      & 1     \\\\\n",
       "\t 62     & Homem  &  7.3   & 4.1    & 490    & 60     &  68    & 7.0    & 3.3    & 0.89   & 1      & sim    & 0      & 1     \\\\\n",
       "\t 58     & Homem  &  1.0   & 0.4    & 182    & 14     &  20    & 6.8    & 3.4    & 1.00   & 1      & sim    & 0      & 1     \\\\\n",
       "\t 72     & Homem  &  3.9   & 2.0    & 195    & 27     &  59    & 7.3    & 2.4    & 0.40   & 1      & sim    & 0      & 1     \\\\\n",
       "\t 46     & Homem  &  1.8   & 0.7    & 208    & 19     &  14    & 7.6    & 4.4    & 1.30   & 1      & sim    & 0      & 1     \\\\\n",
       "\\end{tabular}\n"
      ],
      "text/markdown": [
       "\n",
       "| idade | sexo | tot_bilirubin | direct_bilirubin | tot_proteins | albumina | ag_ratio | sgpt | sgot | alkphos | classe | doente | Mulher | Homem |\n",
       "|---|---|---|---|---|---|---|---|---|---|---|---|---|---|\n",
       "| 65     | Mulher |  0.7   | 0.1    | 187    | 16     |  18    | 6.8    | 3.3    | 0.90   | 1      | sim    | 1      | 0      |\n",
       "| 62     | Homem  | 10.9   | 5.5    | 699    | 64     | 100    | 7.5    | 3.2    | 0.74   | 1      | sim    | 0      | 1      |\n",
       "| 62     | Homem  |  7.3   | 4.1    | 490    | 60     |  68    | 7.0    | 3.3    | 0.89   | 1      | sim    | 0      | 1      |\n",
       "| 58     | Homem  |  1.0   | 0.4    | 182    | 14     |  20    | 6.8    | 3.4    | 1.00   | 1      | sim    | 0      | 1      |\n",
       "| 72     | Homem  |  3.9   | 2.0    | 195    | 27     |  59    | 7.3    | 2.4    | 0.40   | 1      | sim    | 0      | 1      |\n",
       "| 46     | Homem  |  1.8   | 0.7    | 208    | 19     |  14    | 7.6    | 4.4    | 1.30   | 1      | sim    | 0      | 1      |\n",
       "\n"
      ],
      "text/plain": [
       "  idade sexo   tot_bilirubin direct_bilirubin tot_proteins albumina ag_ratio\n",
       "1 65    Mulher  0.7          0.1              187          16        18     \n",
       "2 62    Homem  10.9          5.5              699          64       100     \n",
       "3 62    Homem   7.3          4.1              490          60        68     \n",
       "4 58    Homem   1.0          0.4              182          14        20     \n",
       "5 72    Homem   3.9          2.0              195          27        59     \n",
       "6 46    Homem   1.8          0.7              208          19        14     \n",
       "  sgpt sgot alkphos classe doente Mulher Homem\n",
       "1 6.8  3.3  0.90    1      sim    1      0    \n",
       "2 7.5  3.2  0.74    1      sim    0      1    \n",
       "3 7.0  3.3  0.89    1      sim    0      1    \n",
       "4 6.8  3.4  1.00    1      sim    0      1    \n",
       "5 7.3  2.4  0.40    1      sim    0      1    \n",
       "6 7.6  4.4  1.30    1      sim    0      1    "
      ]
     },
     "metadata": {},
     "output_type": "display_data"
    },
    {
     "name": "stdout",
     "output_type": "stream",
     "text": [
      "'data.frame':\t583 obs. of  14 variables:\n",
      " $ idade           : int  65 62 62 58 72 46 26 29 17 55 ...\n",
      " $ sexo            : Factor w/ 2 levels \"Homem\",\"Mulher\": 2 1 1 1 1 1 2 2 1 1 ...\n",
      " $ tot_bilirubin   : num  0.7 10.9 7.3 1 3.9 1.8 0.9 0.9 0.9 0.7 ...\n",
      " $ direct_bilirubin: num  0.1 5.5 4.1 0.4 2 0.7 0.2 0.3 0.3 0.2 ...\n",
      " $ tot_proteins    : int  187 699 490 182 195 208 154 202 202 290 ...\n",
      " $ albumina        : int  16 64 60 14 27 19 16 14 22 53 ...\n",
      " $ ag_ratio        : int  18 100 68 20 59 14 12 11 19 58 ...\n",
      " $ sgpt            : num  6.8 7.5 7 6.8 7.3 7.6 7 6.7 7.4 6.8 ...\n",
      " $ sgot            : num  3.3 3.2 3.3 3.4 2.4 4.4 3.5 3.6 4.1 3.4 ...\n",
      " $ alkphos         : num  0.9 0.74 0.89 1 0.4 1.3 1 1.1 1.2 1 ...\n",
      " $ classe          : int  1 1 1 1 1 1 1 1 2 1 ...\n",
      " $ doente          : Factor w/ 2 levels \"nao\",\"sim\": 2 2 2 2 2 2 2 2 1 2 ...\n",
      " $ Mulher          : num  1 0 0 0 0 0 1 1 0 0 ...\n",
      " $ Homem           : num  0 1 1 1 1 1 0 0 1 1 ...\n"
     ]
    },
    {
     "data": {
      "text/html": [
       "<table>\n",
       "<thead><tr><th scope=col>idade</th><th scope=col>sexo</th><th scope=col>tot_bilirubin</th><th scope=col>direct_bilirubin</th><th scope=col>tot_proteins</th><th scope=col>albumina</th><th scope=col>ag_ratio</th><th scope=col>sgpt</th><th scope=col>sgot</th><th scope=col>alkphos</th><th scope=col>classe</th><th scope=col>doente</th><th scope=col>Mulher</th><th scope=col>Homem</th></tr></thead>\n",
       "<tbody>\n",
       "\t<tr><td>65    </td><td>Mulher</td><td> 0.7  </td><td>0.1   </td><td>187   </td><td>16    </td><td> 18   </td><td>6.8   </td><td>3.3   </td><td>0.90  </td><td>1     </td><td>sim   </td><td>1     </td><td>0     </td></tr>\n",
       "\t<tr><td>62    </td><td>Homem </td><td>10.9  </td><td>5.5   </td><td>699   </td><td>64    </td><td>100   </td><td>7.5   </td><td>3.2   </td><td>0.74  </td><td>1     </td><td>sim   </td><td>0     </td><td>1     </td></tr>\n",
       "\t<tr><td>62    </td><td>Homem </td><td> 7.3  </td><td>4.1   </td><td>490   </td><td>60    </td><td> 68   </td><td>7.0   </td><td>3.3   </td><td>0.89  </td><td>1     </td><td>sim   </td><td>0     </td><td>1     </td></tr>\n",
       "\t<tr><td>58    </td><td>Homem </td><td> 1.0  </td><td>0.4   </td><td>182   </td><td>14    </td><td> 20   </td><td>6.8   </td><td>3.4   </td><td>1.00  </td><td>1     </td><td>sim   </td><td>0     </td><td>1     </td></tr>\n",
       "\t<tr><td>72    </td><td>Homem </td><td> 3.9  </td><td>2.0   </td><td>195   </td><td>27    </td><td> 59   </td><td>7.3   </td><td>2.4   </td><td>0.40  </td><td>1     </td><td>sim   </td><td>0     </td><td>1     </td></tr>\n",
       "\t<tr><td>46    </td><td>Homem </td><td> 1.8  </td><td>0.7   </td><td>208   </td><td>19    </td><td> 14   </td><td>7.6   </td><td>4.4   </td><td>1.30  </td><td>1     </td><td>sim   </td><td>0     </td><td>1     </td></tr>\n",
       "</tbody>\n",
       "</table>\n"
      ],
      "text/latex": [
       "\\begin{tabular}{r|llllllllllllll}\n",
       " idade & sexo & tot\\_bilirubin & direct\\_bilirubin & tot\\_proteins & albumina & ag\\_ratio & sgpt & sgot & alkphos & classe & doente & Mulher & Homem\\\\\n",
       "\\hline\n",
       "\t 65     & Mulher &  0.7   & 0.1    & 187    & 16     &  18    & 6.8    & 3.3    & 0.90   & 1      & sim    & 1      & 0     \\\\\n",
       "\t 62     & Homem  & 10.9   & 5.5    & 699    & 64     & 100    & 7.5    & 3.2    & 0.74   & 1      & sim    & 0      & 1     \\\\\n",
       "\t 62     & Homem  &  7.3   & 4.1    & 490    & 60     &  68    & 7.0    & 3.3    & 0.89   & 1      & sim    & 0      & 1     \\\\\n",
       "\t 58     & Homem  &  1.0   & 0.4    & 182    & 14     &  20    & 6.8    & 3.4    & 1.00   & 1      & sim    & 0      & 1     \\\\\n",
       "\t 72     & Homem  &  3.9   & 2.0    & 195    & 27     &  59    & 7.3    & 2.4    & 0.40   & 1      & sim    & 0      & 1     \\\\\n",
       "\t 46     & Homem  &  1.8   & 0.7    & 208    & 19     &  14    & 7.6    & 4.4    & 1.30   & 1      & sim    & 0      & 1     \\\\\n",
       "\\end{tabular}\n"
      ],
      "text/markdown": [
       "\n",
       "| idade | sexo | tot_bilirubin | direct_bilirubin | tot_proteins | albumina | ag_ratio | sgpt | sgot | alkphos | classe | doente | Mulher | Homem |\n",
       "|---|---|---|---|---|---|---|---|---|---|---|---|---|---|\n",
       "| 65     | Mulher |  0.7   | 0.1    | 187    | 16     |  18    | 6.8    | 3.3    | 0.90   | 1      | sim    | 1      | 0      |\n",
       "| 62     | Homem  | 10.9   | 5.5    | 699    | 64     | 100    | 7.5    | 3.2    | 0.74   | 1      | sim    | 0      | 1      |\n",
       "| 62     | Homem  |  7.3   | 4.1    | 490    | 60     |  68    | 7.0    | 3.3    | 0.89   | 1      | sim    | 0      | 1      |\n",
       "| 58     | Homem  |  1.0   | 0.4    | 182    | 14     |  20    | 6.8    | 3.4    | 1.00   | 1      | sim    | 0      | 1      |\n",
       "| 72     | Homem  |  3.9   | 2.0    | 195    | 27     |  59    | 7.3    | 2.4    | 0.40   | 1      | sim    | 0      | 1      |\n",
       "| 46     | Homem  |  1.8   | 0.7    | 208    | 19     |  14    | 7.6    | 4.4    | 1.30   | 1      | sim    | 0      | 1      |\n",
       "\n"
      ],
      "text/plain": [
       "  idade sexo   tot_bilirubin direct_bilirubin tot_proteins albumina ag_ratio\n",
       "1 65    Mulher  0.7          0.1              187          16        18     \n",
       "2 62    Homem  10.9          5.5              699          64       100     \n",
       "3 62    Homem   7.3          4.1              490          60        68     \n",
       "4 58    Homem   1.0          0.4              182          14        20     \n",
       "5 72    Homem   3.9          2.0              195          27        59     \n",
       "6 46    Homem   1.8          0.7              208          19        14     \n",
       "  sgpt sgot alkphos classe doente Mulher Homem\n",
       "1 6.8  3.3  0.90    1      sim    1      0    \n",
       "2 7.5  3.2  0.74    1      sim    0      1    \n",
       "3 7.0  3.3  0.89    1      sim    0      1    \n",
       "4 6.8  3.4  1.00    1      sim    0      1    \n",
       "5 7.3  2.4  0.40    1      sim    0      1    \n",
       "6 7.6  4.4  1.30    1      sim    0      1    "
      ]
     },
     "metadata": {},
     "output_type": "display_data"
    },
    {
     "data": {
      "text/html": [
       "<table>\n",
       "<thead><tr><th></th><th scope=col>idade</th><th scope=col>sexo</th><th scope=col>tot_bilirubin</th><th scope=col>direct_bilirubin</th><th scope=col>tot_proteins</th><th scope=col>albumina</th><th scope=col>ag_ratio</th><th scope=col>sgpt</th><th scope=col>sgot</th><th scope=col>alkphos</th><th scope=col>classe</th><th scope=col>doente</th><th scope=col>Mulher</th><th scope=col>Homem</th></tr></thead>\n",
       "<tbody>\n",
       "\t<tr><th scope=row>409</th><td>48    </td><td>Homem </td><td>2.4   </td><td>1.1   </td><td>554   </td><td>141   </td><td> 73   </td><td>7.5   </td><td>3.6   </td><td>0.9   </td><td>1     </td><td>sim   </td><td>0     </td><td>1     </td></tr>\n",
       "\t<tr><th scope=row>410</th><td>48    </td><td>Homem </td><td>5.0   </td><td>2.6   </td><td>555   </td><td>284   </td><td>190   </td><td>6.5   </td><td>3.3   </td><td>1.0   </td><td>1     </td><td>sim   </td><td>0     </td><td>1     </td></tr>\n",
       "\t<tr><th scope=row>411</th><td>18    </td><td>Homem </td><td>1.4   </td><td>0.6   </td><td>215   </td><td>440   </td><td>850   </td><td>5.0   </td><td>1.9   </td><td>0.6   </td><td>1     </td><td>sim   </td><td>0     </td><td>1     </td></tr>\n",
       "\t<tr><th scope=row>412</th><td>23    </td><td>Mulher</td><td>2.3   </td><td>0.8   </td><td>509   </td><td> 28   </td><td> 44   </td><td>6.9   </td><td>2.9   </td><td>0.7   </td><td>2     </td><td>nao   </td><td>1     </td><td>0     </td></tr>\n",
       "\t<tr><th scope=row>413</th><td>65    </td><td>Homem </td><td>4.9   </td><td>2.7   </td><td>190   </td><td> 33   </td><td> 71   </td><td>7.1   </td><td>2.9   </td><td>0.7   </td><td>1     </td><td>sim   </td><td>0     </td><td>1     </td></tr>\n",
       "\t<tr><th scope=row>414</th><td>48    </td><td>Homem </td><td>0.7   </td><td>0.2   </td><td>208   </td><td> 15   </td><td> 30   </td><td>4.6   </td><td>2.1   </td><td>0.8   </td><td>2     </td><td>nao   </td><td>0     </td><td>1     </td></tr>\n",
       "</tbody>\n",
       "</table>\n"
      ],
      "text/latex": [
       "\\begin{tabular}{r|llllllllllllll}\n",
       "  & idade & sexo & tot\\_bilirubin & direct\\_bilirubin & tot\\_proteins & albumina & ag\\_ratio & sgpt & sgot & alkphos & classe & doente & Mulher & Homem\\\\\n",
       "\\hline\n",
       "\t409 & 48     & Homem  & 2.4    & 1.1    & 554    & 141    &  73    & 7.5    & 3.6    & 0.9    & 1      & sim    & 0      & 1     \\\\\n",
       "\t410 & 48     & Homem  & 5.0    & 2.6    & 555    & 284    & 190    & 6.5    & 3.3    & 1.0    & 1      & sim    & 0      & 1     \\\\\n",
       "\t411 & 18     & Homem  & 1.4    & 0.6    & 215    & 440    & 850    & 5.0    & 1.9    & 0.6    & 1      & sim    & 0      & 1     \\\\\n",
       "\t412 & 23     & Mulher & 2.3    & 0.8    & 509    &  28    &  44    & 6.9    & 2.9    & 0.7    & 2      & nao    & 1      & 0     \\\\\n",
       "\t413 & 65     & Homem  & 4.9    & 2.7    & 190    &  33    &  71    & 7.1    & 2.9    & 0.7    & 1      & sim    & 0      & 1     \\\\\n",
       "\t414 & 48     & Homem  & 0.7    & 0.2    & 208    &  15    &  30    & 4.6    & 2.1    & 0.8    & 2      & nao    & 0      & 1     \\\\\n",
       "\\end{tabular}\n"
      ],
      "text/markdown": [
       "\n",
       "| <!--/--> | idade | sexo | tot_bilirubin | direct_bilirubin | tot_proteins | albumina | ag_ratio | sgpt | sgot | alkphos | classe | doente | Mulher | Homem |\n",
       "|---|---|---|---|---|---|---|---|---|---|---|---|---|---|---|\n",
       "| 409 | 48     | Homem  | 2.4    | 1.1    | 554    | 141    |  73    | 7.5    | 3.6    | 0.9    | 1      | sim    | 0      | 1      |\n",
       "| 410 | 48     | Homem  | 5.0    | 2.6    | 555    | 284    | 190    | 6.5    | 3.3    | 1.0    | 1      | sim    | 0      | 1      |\n",
       "| 411 | 18     | Homem  | 1.4    | 0.6    | 215    | 440    | 850    | 5.0    | 1.9    | 0.6    | 1      | sim    | 0      | 1      |\n",
       "| 412 | 23     | Mulher | 2.3    | 0.8    | 509    |  28    |  44    | 6.9    | 2.9    | 0.7    | 2      | nao    | 1      | 0      |\n",
       "| 413 | 65     | Homem  | 4.9    | 2.7    | 190    |  33    |  71    | 7.1    | 2.9    | 0.7    | 1      | sim    | 0      | 1      |\n",
       "| 414 | 48     | Homem  | 0.7    | 0.2    | 208    |  15    |  30    | 4.6    | 2.1    | 0.8    | 2      | nao    | 0      | 1      |\n",
       "\n"
      ],
      "text/plain": [
       "    idade sexo   tot_bilirubin direct_bilirubin tot_proteins albumina ag_ratio\n",
       "409 48    Homem  2.4           1.1              554          141       73     \n",
       "410 48    Homem  5.0           2.6              555          284      190     \n",
       "411 18    Homem  1.4           0.6              215          440      850     \n",
       "412 23    Mulher 2.3           0.8              509           28       44     \n",
       "413 65    Homem  4.9           2.7              190           33       71     \n",
       "414 48    Homem  0.7           0.2              208           15       30     \n",
       "    sgpt sgot alkphos classe doente Mulher Homem\n",
       "409 7.5  3.6  0.9     1      sim    0      1    \n",
       "410 6.5  3.3  1.0     1      sim    0      1    \n",
       "411 5.0  1.9  0.6     1      sim    0      1    \n",
       "412 6.9  2.9  0.7     2      nao    1      0    \n",
       "413 7.1  2.9  0.7     1      sim    0      1    \n",
       "414 4.6  2.1  0.8     2      nao    0      1    "
      ]
     },
     "metadata": {},
     "output_type": "display_data"
    },
    {
     "name": "stdout",
     "output_type": "stream",
     "text": [
      "'data.frame':\t408 obs. of  14 variables:\n",
      " $ idade           : int  65 62 62 58 72 46 26 29 17 55 ...\n",
      " $ sexo            : Factor w/ 2 levels \"Homem\",\"Mulher\": 2 1 1 1 1 1 2 2 1 1 ...\n",
      " $ tot_bilirubin   : num  0.7 10.9 7.3 1 3.9 1.8 0.9 0.9 0.9 0.7 ...\n",
      " $ direct_bilirubin: num  0.1 5.5 4.1 0.4 2 0.7 0.2 0.3 0.3 0.2 ...\n",
      " $ tot_proteins    : int  187 699 490 182 195 208 154 202 202 290 ...\n",
      " $ albumina        : int  16 64 60 14 27 19 16 14 22 53 ...\n",
      " $ ag_ratio        : int  18 100 68 20 59 14 12 11 19 58 ...\n",
      " $ sgpt            : num  6.8 7.5 7 6.8 7.3 7.6 7 6.7 7.4 6.8 ...\n",
      " $ sgot            : num  3.3 3.2 3.3 3.4 2.4 4.4 3.5 3.6 4.1 3.4 ...\n",
      " $ alkphos         : num  0.9 0.74 0.89 1 0.4 1.3 1 1.1 1.2 1 ...\n",
      " $ classe          : int  1 1 1 1 1 1 1 1 2 1 ...\n",
      " $ doente          : Factor w/ 2 levels \"nao\",\"sim\": 2 2 2 2 2 2 2 2 1 2 ...\n",
      " $ Mulher          : num  1 0 0 0 0 0 1 1 0 0 ...\n",
      " $ Homem           : num  0 1 1 1 1 1 0 0 1 1 ...\n",
      "'data.frame':\t175 obs. of  14 variables:\n",
      " $ idade           : int  48 48 18 23 65 48 65 70 70 11 ...\n",
      " $ sexo            : Factor w/ 2 levels \"Homem\",\"Mulher\": 1 1 1 2 1 1 1 1 1 1 ...\n",
      " $ tot_bilirubin   : num  2.4 5 1.4 2.3 4.9 0.7 1.4 1.3 0.6 0.7 ...\n",
      " $ direct_bilirubin: num  1.1 2.6 0.6 0.8 2.7 0.2 0.6 0.3 0.1 0.1 ...\n",
      " $ tot_proteins    : int  554 555 215 509 190 208 260 690 862 592 ...\n",
      " $ albumina        : int  141 284 440 28 33 15 28 93 76 26 ...\n",
      " $ ag_ratio        : int  73 190 850 44 71 30 24 40 180 29 ...\n",
      " $ sgpt            : num  7.5 6.5 5 6.9 7.1 4.6 5.2 3.6 6.3 7.1 ...\n",
      " $ sgot            : num  3.6 3.3 1.9 2.9 2.9 2.1 2.2 2.7 2.7 4.2 ...\n",
      " $ alkphos         : num  0.9 1 0.6 0.7 0.7 0.8 0.7 0.7 0.75 1.4 ...\n",
      " $ classe          : int  1 1 1 2 1 2 2 1 1 2 ...\n",
      " $ doente          : Factor w/ 2 levels \"nao\",\"sim\": 2 2 2 1 2 1 1 2 2 1 ...\n",
      " $ Mulher          : num  0 0 0 1 0 0 0 0 0 0 ...\n",
      " $ Homem           : num  1 1 1 0 1 1 1 1 1 1 ...\n"
     ]
    },
    {
     "data": {
      "text/plain": [
       "\n",
       "nao sim \n",
       "0.5 0.5 "
      ]
     },
     "metadata": {},
     "output_type": "display_data"
    },
    {
     "name": "stdout",
     "output_type": "stream",
     "text": [
      "'data.frame':\t582 obs. of  15 variables:\n",
      " $ idade           : int  17 64 25 33 63 20 84 57 38 38 ...\n",
      " $ sexo            : Factor w/ 2 levels \"Homem\",\"Mulher\": 1 1 1 1 1 1 2 1 2 2 ...\n",
      " $ tot_bilirubin   : num  0.9 0.9 0.6 1.6 0.9 1.1 0.7 1 2.6 2.6 ...\n",
      " $ direct_bilirubin: num  0.3 0.3 0.1 0.5 0.2 0.5 0.2 0.3 1.2 1.2 ...\n",
      " $ tot_proteins    : int  202 310 183 165 194 128 188 187 410 410 ...\n",
      " $ albumina        : int  22 61 91 15 52 20 13 19 59 59 ...\n",
      " $ ag_ratio        : int  19 58 53 23 45 30 21 23 57 57 ...\n",
      " $ sgpt            : num  7.4 7 5.5 7.3 6 3.9 6 5.2 5.6 5.6 ...\n",
      " $ sgot            : num  4.1 3.4 2.3 3.5 3.9 1.9 3.2 2.9 3 3 ...\n",
      " $ alkphos         : num  1.2 0.9 0.7 0.92 1.85 0.95 1.1 1.2 0.8 0.8 ...\n",
      " $ classe          : int  2 2 2 2 2 2 2 2 2 2 ...\n",
      " $ doente          : Factor w/ 2 levels \"nao\",\"sim\": 1 1 1 1 1 1 1 1 1 1 ...\n",
      " $ Mulher          : num  0 0 0 0 0 0 1 0 1 1 ...\n",
      " $ Homem           : num  1 1 1 1 1 1 0 1 0 0 ...\n",
      " $ Class           : Factor w/ 2 levels \"nao\",\"sim\": 1 1 1 1 1 1 1 1 1 1 ...\n",
      "'data.frame':\t582 obs. of  15 variables:\n",
      " $ idade           : int  17 64 25 33 63 20 84 57 38 38 ...\n",
      " $ sexo            : Factor w/ 2 levels \"Homem\",\"Mulher\": 1 1 1 1 1 1 2 1 2 2 ...\n",
      " $ tot_bilirubin   : num  0.9 0.9 0.6 1.6 0.9 1.1 0.7 1 2.6 2.6 ...\n",
      " $ direct_bilirubin: num  0.3 0.3 0.1 0.5 0.2 0.5 0.2 0.3 1.2 1.2 ...\n",
      " $ tot_proteins    : int  202 310 183 165 194 128 188 187 410 410 ...\n",
      " $ albumina        : int  22 61 91 15 52 20 13 19 59 59 ...\n",
      " $ ag_ratio        : int  19 58 53 23 45 30 21 23 57 57 ...\n",
      " $ sgpt            : num  7.4 7 5.5 7.3 6 3.9 6 5.2 5.6 5.6 ...\n",
      " $ sgot            : num  4.1 3.4 2.3 3.5 3.9 1.9 3.2 2.9 3 3 ...\n",
      " $ alkphos         : num  1.2 0.9 0.7 0.92 1.85 0.95 1.1 1.2 0.8 0.8 ...\n",
      " $ classe          : int  2 2 2 2 2 2 2 2 2 2 ...\n",
      " $ doente          : Factor w/ 2 levels \"nao\",\"sim\": 1 1 1 1 1 1 1 1 1 1 ...\n",
      " $ Mulher          : num  0 0 0 0 0 0 1 0 1 1 ...\n",
      " $ Homem           : num  1 1 1 1 1 1 0 1 0 0 ...\n",
      " $ Class           : Factor w/ 2 levels \"nao\",\"sim\": 1 1 1 1 1 1 1 1 1 1 ...\n"
     ]
    },
    {
     "data": {
      "text/html": [
       "<table>\n",
       "<thead><tr><th scope=col>idade</th><th scope=col>tot_bilirubin</th><th scope=col>direct_bilirubin</th><th scope=col>tot_proteins</th><th scope=col>albumina</th><th scope=col>ag_ratio</th><th scope=col>sgpt</th><th scope=col>sgot</th><th scope=col>alkphos</th><th scope=col>Mulher</th><th scope=col>Homem</th><th scope=col>doente</th></tr></thead>\n",
       "<tbody>\n",
       "\t<tr><td>0.1604938  </td><td>0.005369128</td><td>0.014184397</td><td>0.06790425 </td><td>0.006030151</td><td>0.001829640</td><td>0.6811594  </td><td>0.6956522  </td><td>0.56250    </td><td>0          </td><td>1          </td><td>nao        </td></tr>\n",
       "\t<tr><td>0.7407407  </td><td>0.005369128</td><td>0.014184397</td><td>0.12066439 </td><td>0.025628141</td><td>0.009758081</td><td>0.6231884  </td><td>0.5434783  </td><td>0.37500    </td><td>0          </td><td>1          </td><td>nao        </td></tr>\n",
       "\t<tr><td>0.2592593  </td><td>0.001342282</td><td>0.000000000</td><td>0.05862237 </td><td>0.040703518</td><td>0.008741614</td><td>0.4057971  </td><td>0.3043478  </td><td>0.25000    </td><td>0          </td><td>1          </td><td>nao        </td></tr>\n",
       "\t<tr><td>0.3580247  </td><td>0.014765101</td><td>0.028368794</td><td>0.04982902 </td><td>0.002512563</td><td>0.002642814</td><td>0.6666667  </td><td>0.5652174  </td><td>0.38750    </td><td>0          </td><td>1          </td><td>nao        </td></tr>\n",
       "\t<tr><td>0.7283951  </td><td>0.005369128</td><td>0.007092199</td><td>0.06399609 </td><td>0.021105528</td><td>0.007115267</td><td>0.4782609  </td><td>0.6521739  </td><td>0.96875    </td><td>0          </td><td>1          </td><td>nao        </td></tr>\n",
       "\t<tr><td>0.1975309  </td><td>0.008053691</td><td>0.028368794</td><td>0.03175379 </td><td>0.005025126</td><td>0.004065867</td><td>0.1739130  </td><td>0.2173913  </td><td>0.40625    </td><td>0          </td><td>1          </td><td>nao        </td></tr>\n",
       "</tbody>\n",
       "</table>\n"
      ],
      "text/latex": [
       "\\begin{tabular}{r|llllllllllll}\n",
       " idade & tot\\_bilirubin & direct\\_bilirubin & tot\\_proteins & albumina & ag\\_ratio & sgpt & sgot & alkphos & Mulher & Homem & doente\\\\\n",
       "\\hline\n",
       "\t 0.1604938   & 0.005369128 & 0.014184397 & 0.06790425  & 0.006030151 & 0.001829640 & 0.6811594   & 0.6956522   & 0.56250     & 0           & 1           & nao        \\\\\n",
       "\t 0.7407407   & 0.005369128 & 0.014184397 & 0.12066439  & 0.025628141 & 0.009758081 & 0.6231884   & 0.5434783   & 0.37500     & 0           & 1           & nao        \\\\\n",
       "\t 0.2592593   & 0.001342282 & 0.000000000 & 0.05862237  & 0.040703518 & 0.008741614 & 0.4057971   & 0.3043478   & 0.25000     & 0           & 1           & nao        \\\\\n",
       "\t 0.3580247   & 0.014765101 & 0.028368794 & 0.04982902  & 0.002512563 & 0.002642814 & 0.6666667   & 0.5652174   & 0.38750     & 0           & 1           & nao        \\\\\n",
       "\t 0.7283951   & 0.005369128 & 0.007092199 & 0.06399609  & 0.021105528 & 0.007115267 & 0.4782609   & 0.6521739   & 0.96875     & 0           & 1           & nao        \\\\\n",
       "\t 0.1975309   & 0.008053691 & 0.028368794 & 0.03175379  & 0.005025126 & 0.004065867 & 0.1739130   & 0.2173913   & 0.40625     & 0           & 1           & nao        \\\\\n",
       "\\end{tabular}\n"
      ],
      "text/markdown": [
       "\n",
       "| idade | tot_bilirubin | direct_bilirubin | tot_proteins | albumina | ag_ratio | sgpt | sgot | alkphos | Mulher | Homem | doente |\n",
       "|---|---|---|---|---|---|---|---|---|---|---|---|\n",
       "| 0.1604938   | 0.005369128 | 0.014184397 | 0.06790425  | 0.006030151 | 0.001829640 | 0.6811594   | 0.6956522   | 0.56250     | 0           | 1           | nao         |\n",
       "| 0.7407407   | 0.005369128 | 0.014184397 | 0.12066439  | 0.025628141 | 0.009758081 | 0.6231884   | 0.5434783   | 0.37500     | 0           | 1           | nao         |\n",
       "| 0.2592593   | 0.001342282 | 0.000000000 | 0.05862237  | 0.040703518 | 0.008741614 | 0.4057971   | 0.3043478   | 0.25000     | 0           | 1           | nao         |\n",
       "| 0.3580247   | 0.014765101 | 0.028368794 | 0.04982902  | 0.002512563 | 0.002642814 | 0.6666667   | 0.5652174   | 0.38750     | 0           | 1           | nao         |\n",
       "| 0.7283951   | 0.005369128 | 0.007092199 | 0.06399609  | 0.021105528 | 0.007115267 | 0.4782609   | 0.6521739   | 0.96875     | 0           | 1           | nao         |\n",
       "| 0.1975309   | 0.008053691 | 0.028368794 | 0.03175379  | 0.005025126 | 0.004065867 | 0.1739130   | 0.2173913   | 0.40625     | 0           | 1           | nao         |\n",
       "\n"
      ],
      "text/plain": [
       "  idade     tot_bilirubin direct_bilirubin tot_proteins albumina    ag_ratio   \n",
       "1 0.1604938 0.005369128   0.014184397      0.06790425   0.006030151 0.001829640\n",
       "2 0.7407407 0.005369128   0.014184397      0.12066439   0.025628141 0.009758081\n",
       "3 0.2592593 0.001342282   0.000000000      0.05862237   0.040703518 0.008741614\n",
       "4 0.3580247 0.014765101   0.028368794      0.04982902   0.002512563 0.002642814\n",
       "5 0.7283951 0.005369128   0.007092199      0.06399609   0.021105528 0.007115267\n",
       "6 0.1975309 0.008053691   0.028368794      0.03175379   0.005025126 0.004065867\n",
       "  sgpt      sgot      alkphos Mulher Homem doente\n",
       "1 0.6811594 0.6956522 0.56250 0      1     nao   \n",
       "2 0.6231884 0.5434783 0.37500 0      1     nao   \n",
       "3 0.4057971 0.3043478 0.25000 0      1     nao   \n",
       "4 0.6666667 0.5652174 0.38750 0      1     nao   \n",
       "5 0.4782609 0.6521739 0.96875 0      1     nao   \n",
       "6 0.1739130 0.2173913 0.40625 0      1     nao   "
      ]
     },
     "metadata": {},
     "output_type": "display_data"
    },
    {
     "data": {
      "text/html": [
       "<table>\n",
       "<thead><tr><th></th><th scope=col>idade</th><th scope=col>tot_bilirubin</th><th scope=col>direct_bilirubin</th><th scope=col>tot_proteins</th><th scope=col>albumina</th><th scope=col>ag_ratio</th><th scope=col>sgpt</th><th scope=col>sgot</th><th scope=col>alkphos</th><th scope=col>Mulher</th><th scope=col>Homem</th><th scope=col>doente</th></tr></thead>\n",
       "<tbody>\n",
       "\t<tr><th scope=row>409</th><td>0.4939759  </td><td>0.047169811</td><td>0.051020408</td><td>0.27951807 </td><td>0.170351105</td><td>0.07279236 </td><td>0.6964286  </td><td>0.675      </td><td>0.24       </td><td>0          </td><td>1          </td><td>sim        </td></tr>\n",
       "\t<tr><th scope=row>410</th><td>0.4939759  </td><td>0.108490566</td><td>0.127551020</td><td>0.28012048 </td><td>0.356306892</td><td>0.21241050 </td><td>0.5178571  </td><td>0.600      </td><td>0.28       </td><td>0          </td><td>1          </td><td>sim        </td></tr>\n",
       "\t<tr><th scope=row>411</th><td>0.1325301  </td><td>0.023584906</td><td>0.025510204</td><td>0.07530120 </td><td>0.559167750</td><td>1.00000000 </td><td>0.2500000  </td><td>0.250      </td><td>0.12       </td><td>0          </td><td>1          </td><td>sim        </td></tr>\n",
       "\t<tr><th scope=row>412</th><td>0.1927711  </td><td>0.044811321</td><td>0.035714286</td><td>0.25240964 </td><td>0.023407022</td><td>0.03818616 </td><td>0.5892857  </td><td>0.500      </td><td>0.16       </td><td>1          </td><td>0          </td><td>nao        </td></tr>\n",
       "\t<tr><th scope=row>413</th><td>0.6987952  </td><td>0.106132075</td><td>0.132653061</td><td>0.06024096 </td><td>0.029908973</td><td>0.07040573 </td><td>0.6250000  </td><td>0.500      </td><td>0.16       </td><td>0          </td><td>1          </td><td>sim        </td></tr>\n",
       "\t<tr><th scope=row>414</th><td>0.4939759  </td><td>0.007075472</td><td>0.005102041</td><td>0.07108434 </td><td>0.006501951</td><td>0.02147971 </td><td>0.1785714  </td><td>0.300      </td><td>0.20       </td><td>0          </td><td>1          </td><td>nao        </td></tr>\n",
       "</tbody>\n",
       "</table>\n"
      ],
      "text/latex": [
       "\\begin{tabular}{r|llllllllllll}\n",
       "  & idade & tot\\_bilirubin & direct\\_bilirubin & tot\\_proteins & albumina & ag\\_ratio & sgpt & sgot & alkphos & Mulher & Homem & doente\\\\\n",
       "\\hline\n",
       "\t409 & 0.4939759   & 0.047169811 & 0.051020408 & 0.27951807  & 0.170351105 & 0.07279236  & 0.6964286   & 0.675       & 0.24        & 0           & 1           & sim        \\\\\n",
       "\t410 & 0.4939759   & 0.108490566 & 0.127551020 & 0.28012048  & 0.356306892 & 0.21241050  & 0.5178571   & 0.600       & 0.28        & 0           & 1           & sim        \\\\\n",
       "\t411 & 0.1325301   & 0.023584906 & 0.025510204 & 0.07530120  & 0.559167750 & 1.00000000  & 0.2500000   & 0.250       & 0.12        & 0           & 1           & sim        \\\\\n",
       "\t412 & 0.1927711   & 0.044811321 & 0.035714286 & 0.25240964  & 0.023407022 & 0.03818616  & 0.5892857   & 0.500       & 0.16        & 1           & 0           & nao        \\\\\n",
       "\t413 & 0.6987952   & 0.106132075 & 0.132653061 & 0.06024096  & 0.029908973 & 0.07040573  & 0.6250000   & 0.500       & 0.16        & 0           & 1           & sim        \\\\\n",
       "\t414 & 0.4939759   & 0.007075472 & 0.005102041 & 0.07108434  & 0.006501951 & 0.02147971  & 0.1785714   & 0.300       & 0.20        & 0           & 1           & nao        \\\\\n",
       "\\end{tabular}\n"
      ],
      "text/markdown": [
       "\n",
       "| <!--/--> | idade | tot_bilirubin | direct_bilirubin | tot_proteins | albumina | ag_ratio | sgpt | sgot | alkphos | Mulher | Homem | doente |\n",
       "|---|---|---|---|---|---|---|---|---|---|---|---|---|\n",
       "| 409 | 0.4939759   | 0.047169811 | 0.051020408 | 0.27951807  | 0.170351105 | 0.07279236  | 0.6964286   | 0.675       | 0.24        | 0           | 1           | sim         |\n",
       "| 410 | 0.4939759   | 0.108490566 | 0.127551020 | 0.28012048  | 0.356306892 | 0.21241050  | 0.5178571   | 0.600       | 0.28        | 0           | 1           | sim         |\n",
       "| 411 | 0.1325301   | 0.023584906 | 0.025510204 | 0.07530120  | 0.559167750 | 1.00000000  | 0.2500000   | 0.250       | 0.12        | 0           | 1           | sim         |\n",
       "| 412 | 0.1927711   | 0.044811321 | 0.035714286 | 0.25240964  | 0.023407022 | 0.03818616  | 0.5892857   | 0.500       | 0.16        | 1           | 0           | nao         |\n",
       "| 413 | 0.6987952   | 0.106132075 | 0.132653061 | 0.06024096  | 0.029908973 | 0.07040573  | 0.6250000   | 0.500       | 0.16        | 0           | 1           | sim         |\n",
       "| 414 | 0.4939759   | 0.007075472 | 0.005102041 | 0.07108434  | 0.006501951 | 0.02147971  | 0.1785714   | 0.300       | 0.20        | 0           | 1           | nao         |\n",
       "\n"
      ],
      "text/plain": [
       "    idade     tot_bilirubin direct_bilirubin tot_proteins albumina   \n",
       "409 0.4939759 0.047169811   0.051020408      0.27951807   0.170351105\n",
       "410 0.4939759 0.108490566   0.127551020      0.28012048   0.356306892\n",
       "411 0.1325301 0.023584906   0.025510204      0.07530120   0.559167750\n",
       "412 0.1927711 0.044811321   0.035714286      0.25240964   0.023407022\n",
       "413 0.6987952 0.106132075   0.132653061      0.06024096   0.029908973\n",
       "414 0.4939759 0.007075472   0.005102041      0.07108434   0.006501951\n",
       "    ag_ratio   sgpt      sgot  alkphos Mulher Homem doente\n",
       "409 0.07279236 0.6964286 0.675 0.24    0      1     sim   \n",
       "410 0.21241050 0.5178571 0.600 0.28    0      1     sim   \n",
       "411 1.00000000 0.2500000 0.250 0.12    0      1     sim   \n",
       "412 0.03818616 0.5892857 0.500 0.16    1      0     nao   \n",
       "413 0.07040573 0.6250000 0.500 0.16    0      1     sim   \n",
       "414 0.02147971 0.1785714 0.300 0.20    0      1     nao   "
      ]
     },
     "metadata": {},
     "output_type": "display_data"
    },
    {
     "name": "stdout",
     "output_type": "stream",
     "text": [
      "'data.frame':\t582 obs. of  12 variables:\n",
      " $ idade           : num  0.16 0.741 0.259 0.358 0.728 ...\n",
      " $ tot_bilirubin   : num  0.00537 0.00537 0.00134 0.01477 0.00537 ...\n",
      " $ direct_bilirubin: num  0.01418 0.01418 0 0.02837 0.00709 ...\n",
      " $ tot_proteins    : num  0.0679 0.1207 0.0586 0.0498 0.064 ...\n",
      " $ albumina        : num  0.00603 0.02563 0.0407 0.00251 0.02111 ...\n",
      " $ ag_ratio        : num  0.00183 0.00976 0.00874 0.00264 0.00712 ...\n",
      " $ sgpt            : num  0.681 0.623 0.406 0.667 0.478 ...\n",
      " $ sgot            : num  0.696 0.543 0.304 0.565 0.652 ...\n",
      " $ alkphos         : num  0.562 0.375 0.25 0.388 0.969 ...\n",
      " $ Mulher          : num  0 0 0 0 0 0 1 0 1 1 ...\n",
      " $ Homem           : num  1 1 1 1 1 1 0 1 0 0 ...\n",
      " $ doente          : Factor w/ 2 levels \"nao\",\"sim\": 1 1 1 1 1 1 1 1 1 1 ...\n",
      "'data.frame':\t175 obs. of  12 variables:\n",
      " $ idade           : num  0.494 0.494 0.133 0.193 0.699 ...\n",
      " $ tot_bilirubin   : num  0.0472 0.1085 0.0236 0.0448 0.1061 ...\n",
      " $ direct_bilirubin: num  0.051 0.1276 0.0255 0.0357 0.1327 ...\n",
      " $ tot_proteins    : num  0.2795 0.2801 0.0753 0.2524 0.0602 ...\n",
      " $ albumina        : num  0.1704 0.3563 0.5592 0.0234 0.0299 ...\n",
      " $ ag_ratio        : num  0.0728 0.2124 1 0.0382 0.0704 ...\n",
      " $ sgpt            : num  0.696 0.518 0.25 0.589 0.625 ...\n",
      " $ sgot            : num  0.675 0.6 0.25 0.5 0.5 0.3 0.325 0.45 0.45 0.825 ...\n",
      " $ alkphos         : num  0.24 0.28 0.12 0.16 0.16 0.2 0.16 0.16 0.18 0.44 ...\n",
      " $ Mulher          : num  0 0 0 1 0 0 0 0 0 0 ...\n",
      " $ Homem           : num  1 1 1 0 1 1 1 1 1 1 ...\n",
      " $ doente          : Factor w/ 2 levels \"nao\",\"sim\": 2 2 2 1 2 1 1 2 2 1 ...\n"
     ]
    },
    {
     "ename": "ERROR",
     "evalue": "Error in neuralnet(formula_nn, data = df_treino_final): não foi possível encontrar a função \"neuralnet\"\n",
     "output_type": "error",
     "traceback": [
      "Error in neuralnet(formula_nn, data = df_treino_final): não foi possível encontrar a função \"neuralnet\"\nTraceback:\n"
     ]
    }
   ],
   "source": [
    "# Agora criamos o dataframe final retornando as colunas que não precisam de padronização\n",
    "# e que usaremos para modelagem preditiva\n",
    "df_treino_final <- data.frame(df_treino_norm, df_treino[,c(13,14,12)]) \n",
    "df_teste_final <- data.frame(df_teste_norm, df_teste[,c(13,14,12)]) \n",
    "\n",
    "# Visualiza os dados\n",
    "head(df_treino_final)\n",
    "head(df_teste_final)\n",
    "\n",
    "# Verifica os tipos de dados e toal de variáveis\n",
    "str(df_treino_final)\n",
    "str(df_teste_final)\n",
    "\n",
    "##### Modelagem Preditiva ##### \n",
    "\n",
    "# Construindo o modelo\n",
    "formula_nn <- paste(\"doente\", paste(colnames(df_treino_final[-12]), collapse = \"+\"), sep = \"~\")\n",
    "modelo_figado <- neuralnet(formula_nn, data = df_treino_final)\n",
    "\n",
    "# Resumo do modelo\n",
    "str(modelo_figado)\n",
    "plot(modelo_figado)\n",
    "\n",
    "# Previsões com o modelo treinado\n",
    "set.seed(7)\n",
    "previsoes_figado <- predict(modelo_figado, df_teste_final[1:11]) \n",
    "head(previsoes_figado)\n",
    "\n",
    "# O resultado das previsões é em probabilidade. Vamos ajustar a saída.\n",
    "previsoes_figado_final <- ifelse(previsoes_figado[,1] > previsoes_figado[,2], \"nao\", \"sim\")\n",
    "head(previsoes_figado_final)\n",
    "\n",
    "# Acurácia do modelo\n",
    "mean(previsoes_figado_final == df_teste_final$doente) \n",
    "\n",
    "# Previsão com novos dados\n",
    "# Vejamos de os 5 novos pacientes podem desenvolver doença do fígado\n",
    "# com base nos resultados dos exames de sangue\n",
    "\n",
    "##### Carregando os dados ##### \n",
    "df_novos_pacientes <- read.csv(\"dados/novos_pacientes.csv\")\n",
    "head(df_novos_pacientes)\n",
    "str(df_novos_pacientes)\n",
    "\n",
    "# Padronizamos os novos dados\n",
    "df_novos_pacientes_norm <- as.data.frame(lapply(df_novos_pacientes, FUN = func_normaliza))\n",
    "head(df_novos_pacientes_norm)\n",
    "\n",
    "# Previsões\n",
    "previsoes_novos_pacientes <- predict(modelo_figado, df_novos_pacientes_norm) \n",
    "previsoes_novos_pacientes_final <- ifelse(previsoes_novos_pacientes[,1] > previsoes_novos_pacientes[,2], \"nao\", \"sim\")\n",
    "head(previsoes_novos_pacientes_final)\n",
    "\n",
    "# Previsões feitas com sucesso!"
   ]
  },
  {
   "cell_type": "code",
   "execution_count": null,
   "metadata": {},
   "outputs": [],
   "source": []
  }
 ],
 "metadata": {
  "kernelspec": {
   "display_name": "R",
   "language": "R",
   "name": "ir"
  },
  "language_info": {
   "codemirror_mode": "r",
   "file_extension": ".r",
   "mimetype": "text/x-r-source",
   "name": "R",
   "pygments_lexer": "r",
   "version": "3.6.1"
  }
 },
 "nbformat": 4,
 "nbformat_minor": 4
}
